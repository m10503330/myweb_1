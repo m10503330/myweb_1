{
 "cells": [
  {
   "cell_type": "markdown",
   "metadata": {
    "colab_type": "text",
    "id": "INni_otKukIY"
   },
   "source": [
    "# Python 與資料分析\n",
    "\n",
    "- NumPy\n",
    "- pandas\n",
    "- matplotlib.pyplot\n",
    "- 網頁爬蟲（如果有時間的話）"
   ]
  },
  {
   "cell_type": "markdown",
   "metadata": {
    "colab_type": "text",
    "id": "-iF1dot51zTk"
   },
   "source": []
  },
  {
   "cell_type": "markdown",
   "metadata": {
    "colab_type": "text",
    "id": "7fNEj_Vl295F"
   },
   "source": []
  },
  {
   "cell_type": "code",
   "execution_count": 0,
   "metadata": {
    "colab": {
     "autoexec": {
      "startup": false,
      "wait_interval": 0
     }
    },
    "colab_type": "code",
    "id": "MtjxkQEw2-rI"
   },
   "outputs": [],
   "source": []
  },
  {
   "cell_type": "markdown",
   "metadata": {
    "colab_type": "text",
    "id": "NGnx-UYxvDDV"
   },
   "source": [
    "## NumPy\n",
    "\n",
    "[NumPy 文件](https://docs.scipy.org/doc/numpy/reference/index.html#reference)\n",
    "\n",
    "如何安裝\n",
    "\n",
    "```sh\n",
    "pip install numpy # 在終端機\n",
    "```"
   ]
  },
  {
   "cell_type": "code",
   "execution_count": 0,
   "metadata": {
    "colab": {
     "autoexec": {
      "startup": false,
      "wait_interval": 0
     }
    },
    "colab_type": "code",
    "id": "3NeEBhK3J-IM"
   },
   "outputs": [],
   "source": []
  },
  {
   "cell_type": "code",
   "execution_count": 0,
   "metadata": {
    "colab": {
     "autoexec": {
      "startup": false,
      "wait_interval": 0
     },
     "base_uri": "https://localhost:8080/",
     "height": 55
    },
    "colab_type": "code",
    "executionInfo": {
     "elapsed": 2752,
     "status": "ok",
     "timestamp": 1527930632108,
     "user": {
      "displayName": "Tony Kuo",
      "photoUrl": "https://lh3.googleusercontent.com/a/default-user=s128",
      "userId": "115283668914988550359"
     },
     "user_tz": -480
    },
    "id": "tIy7wDzMuN87",
    "outputId": "8b48e762-2cc6-4bb2-aebf-fbd972153c56"
   },
   "outputs": [
    {
     "name": "stdout",
     "output_type": "stream",
     "text": [
      "Requirement already satisfied: numpy in /usr/local/lib/python3.6/dist-packages (1.14.3)\r\n"
     ]
    }
   ],
   "source": [
    "!pip install numpy "
   ]
  },
  {
   "cell_type": "markdown",
   "metadata": {
    "colab_type": "text",
    "id": "7ioEGyhew9Pt"
   },
   "source": [
    "如何載入\n",
    "\n",
    "```python\n",
    "import numpy as np\n",
    "```"
   ]
  },
  {
   "cell_type": "code",
   "execution_count": 0,
   "metadata": {
    "colab": {
     "autoexec": {
      "startup": false,
      "wait_interval": 0
     },
     "base_uri": "https://localhost:8080/",
     "height": 35
    },
    "colab_type": "code",
    "executionInfo": {
     "elapsed": 436,
     "status": "ok",
     "timestamp": 1527930742597,
     "user": {
      "displayName": "Tony Kuo",
      "photoUrl": "https://lh3.googleusercontent.com/a/default-user=s128",
      "userId": "115283668914988550359"
     },
     "user_tz": -480
    },
    "id": "2A1Qq6Deweae",
    "outputId": "97c75916-ad84-43bc-d3b9-673adbacabde"
   },
   "outputs": [
    {
     "name": "stdout",
     "output_type": "stream",
     "text": [
      "1.14.3\n"
     ]
    }
   ],
   "source": [
    "import numpy as np\n",
    "\n",
    "print(np.__version__)"
   ]
  },
  {
   "cell_type": "markdown",
   "metadata": {
    "colab_type": "text",
    "id": "P1QOF21J311n"
   },
   "source": [
    "### NumPy 的第一個特性\n",
    "\n",
    "可以進行 element-wise operation"
   ]
  },
  {
   "cell_type": "code",
   "execution_count": 0,
   "metadata": {
    "colab": {
     "autoexec": {
      "startup": false,
      "wait_interval": 0
     },
     "base_uri": "https://localhost:8080/",
     "height": 35
    },
    "colab_type": "code",
    "executionInfo": {
     "elapsed": 846,
     "status": "ok",
     "timestamp": 1527931284008,
     "user": {
      "displayName": "Tony Kuo",
      "photoUrl": "https://lh3.googleusercontent.com/a/default-user=s128",
      "userId": "115283668914988550359"
     },
     "user_tz": -480
    },
    "id": "rLRh0INSxOVK",
    "outputId": "da8be486-12aa-4776-9cd0-c21f70cd85ae"
   },
   "outputs": [
    {
     "data": {
      "text/plain": [
       "[1.86411, 3.1068499999999997, 6.213699999999999, 13.10780015, 26.21870715]"
      ]
     },
     "execution_count": 3,
     "metadata": {
      "tags": []
     },
     "output_type": "execute_result"
    }
   ],
   "source": [
    "\\km_mile_ratio = 0.62137\n",
    "km_list = [3, 5, 10, 21.095, 42.195]\n",
    "# 土法煉鋼\n",
    "mile_list = [3*km_mile_ratio, 5*km_mile_ratio, 10*km_mile_ratio, 21.095*km_mile_ratio, 42.195*km_mile_ratio]\n",
    "mile_list"
   ]
  },
  {
   "cell_type": "code",
   "execution_count": 0,
   "metadata": {
    "colab": {
     "autoexec": {
      "startup": false,
      "wait_interval": 0
     }
    },
    "colab_type": "code",
    "id": "hBtUR5bQywHS"
   },
   "outputs": [],
   "source": []
  },
  {
   "cell_type": "code",
   "execution_count": 0,
   "metadata": {
    "colab": {
     "autoexec": {
      "startup": false,
      "wait_interval": 0
     },
     "base_uri": "https://localhost:8080/",
     "height": 35
    },
    "colab_type": "code",
    "executionInfo": {
     "elapsed": 767,
     "status": "ok",
     "timestamp": 1527931961400,
     "user": {
      "displayName": "Tony Kuo",
      "photoUrl": "https://lh3.googleusercontent.com/a/default-user=s128",
      "userId": "115283668914988550359"
     },
     "user_tz": -480
    },
    "id": "ZZLChZHYzUQE",
    "outputId": "55bfdfe3-828c-4151-efa7-5d34aca6e74e"
   },
   "outputs": [
    {
     "data": {
      "text/plain": [
       "[1.86411, 3.1068499999999997, 6.213699999999999, 13.10780015, 26.21870715]"
      ]
     },
     "execution_count": 6,
     "metadata": {
      "tags": []
     },
     "output_type": "execute_result"
    }
   ],
   "source": [
    "# 解法 1：迴圈\n",
    "mile_list = []\n",
    "for km in km_list:\n",
    "  mile_list.append(km * km_mile_ratio)\n",
    "mile_list"
   ]
  },
  {
   "cell_type": "code",
   "execution_count": 0,
   "metadata": {
    "colab": {
     "autoexec": {
      "startup": false,
      "wait_interval": 0
     },
     "base_uri": "https://localhost:8080/",
     "height": 35
    },
    "colab_type": "code",
    "executionInfo": {
     "elapsed": 729,
     "status": "ok",
     "timestamp": 1527931955022,
     "user": {
      "displayName": "Tony Kuo",
      "photoUrl": "https://lh3.googleusercontent.com/a/default-user=s128",
      "userId": "115283668914988550359"
     },
     "user_tz": -480
    },
    "id": "EztsKzZxzpe8",
    "outputId": "2f0914bf-d49d-4797-aaf5-b908646f73df"
   },
   "outputs": [
    {
     "data": {
      "text/plain": [
       "[1.86411, 3.1068499999999997, 6.213699999999999, 13.10780015, 26.21870715]"
      ]
     },
     "execution_count": 5,
     "metadata": {
      "tags": []
     },
     "output_type": "execute_result"
    }
   ],
   "source": [
    "# 解法 2：list comprehension\n",
    "mile_list = [km * km_mile_ratio for km in km_list]\n",
    "mile_list"
   ]
  },
  {
   "cell_type": "code",
   "execution_count": 0,
   "metadata": {
    "colab": {
     "autoexec": {
      "startup": false,
      "wait_interval": 0
     },
     "base_uri": "https://localhost:8080/",
     "height": 35
    },
    "colab_type": "code",
    "executionInfo": {
     "elapsed": 654,
     "status": "ok",
     "timestamp": 1527932192161,
     "user": {
      "displayName": "Tony Kuo",
      "photoUrl": "https://lh3.googleusercontent.com/a/default-user=s128",
      "userId": "115283668914988550359"
     },
     "user_tz": -480
    },
    "id": "_7s0FfjczulN",
    "outputId": "5202e321-bdf3-4413-96bd-4b3e4a4b62e6"
   },
   "outputs": [
    {
     "data": {
      "text/plain": [
       "[1.86411, 3.1068499999999997, 6.213699999999999, 13.10780015, 26.21870715]"
      ]
     },
     "execution_count": 9,
     "metadata": {
      "tags": []
     },
     "output_type": "execute_result"
    }
   ],
   "source": [
    "# 解法 3：map() + lambda expression\n",
    "list(map(lambda km: km_mile_ratio * km, km_list))"
   ]
  },
  {
   "cell_type": "code",
   "execution_count": 0,
   "metadata": {
    "colab": {
     "autoexec": {
      "startup": false,
      "wait_interval": 0
     },
     "base_uri": "https://localhost:8080/",
     "height": 35
    },
    "colab_type": "code",
    "executionInfo": {
     "elapsed": 815,
     "status": "ok",
     "timestamp": 1527932311121,
     "user": {
      "displayName": "Tony Kuo",
      "photoUrl": "https://lh3.googleusercontent.com/a/default-user=s128",
      "userId": "115283668914988550359"
     },
     "user_tz": -480
    },
    "id": "zZcwjWrl021c",
    "outputId": "3a748547-b349-4724-b31c-38a6fc2e59a8"
   },
   "outputs": [
    {
     "data": {
      "text/plain": [
       "array([ 1.86411   ,  3.10685   ,  6.2137    , 13.10780015, 26.21870715])"
      ]
     },
     "execution_count": 10,
     "metadata": {
      "tags": []
     },
     "output_type": "execute_result"
    }
   ],
   "source": [
    "# 解法 4：NumPy ndarray\n",
    "km_arr = np.array(km_list)\n",
    "km_arr * km_mile_ratio"
   ]
  },
  {
   "cell_type": "code",
   "execution_count": 0,
   "metadata": {
    "colab": {
     "autoexec": {
      "startup": false,
      "wait_interval": 0
     },
     "base_uri": "https://localhost:8080/",
     "height": 167
    },
    "colab_type": "code",
    "executionInfo": {
     "elapsed": 765,
     "status": "error",
     "timestamp": 1527932355042,
     "user": {
      "displayName": "Tony Kuo",
      "photoUrl": "https://lh3.googleusercontent.com/a/default-user=s128",
      "userId": "115283668914988550359"
     },
     "user_tz": -480
    },
    "id": "QEPfgl4y3Vn9",
    "outputId": "556110dc-e37e-492a-9b07-2737ede3216b"
   },
   "outputs": [
    {
     "ename": "TypeError",
     "evalue": "ignored",
     "output_type": "error",
     "traceback": [
      "\u001b[0;31m---------------------------------------------------------------------------\u001b[0m",
      "\u001b[0;31mTypeError\u001b[0m                                 Traceback (most recent call last)",
      "\u001b[0;32m<ipython-input-11-9433e0dd0373>\u001b[0m in \u001b[0;36m<module>\u001b[0;34m()\u001b[0m\n\u001b[0;32m----> 1\u001b[0;31m \u001b[0mkm_list\u001b[0m \u001b[0;34m*\u001b[0m \u001b[0mkm_mile_ratio\u001b[0m\u001b[0;34m\u001b[0m\u001b[0m\n\u001b[0m",
      "\u001b[0;31mTypeError\u001b[0m: can't multiply sequence by non-int of type 'float'"
     ]
    }
   ],
   "source": [
    "km_list * km_mile_ratio"
   ]
  },
  {
   "cell_type": "code",
   "execution_count": 0,
   "metadata": {
    "colab": {
     "autoexec": {
      "startup": false,
      "wait_interval": 0
     },
     "base_uri": "https://localhost:8080/",
     "height": 35
    },
    "colab_type": "code",
    "executionInfo": {
     "elapsed": 733,
     "status": "ok",
     "timestamp": 1527932414936,
     "user": {
      "displayName": "Tony Kuo",
      "photoUrl": "https://lh3.googleusercontent.com/a/default-user=s128",
      "userId": "115283668914988550359"
     },
     "user_tz": -480
    },
    "id": "7Yp0xBdE3e3f",
    "outputId": "129fa5ba-aa56-4781-b014-5ebcf2e6b08c"
   },
   "outputs": [
    {
     "data": {
      "text/plain": [
       "[3, 5, 10, 21.095, 42.195, 3, 5, 10, 21.095, 42.195]"
      ]
     },
     "execution_count": 14,
     "metadata": {
      "tags": []
     },
     "output_type": "execute_result"
    }
   ],
   "source": [
    "km_list * 2"
   ]
  },
  {
   "cell_type": "markdown",
   "metadata": {
    "colab_type": "text",
    "id": "cf4_9Izl67WY"
   },
   "source": [
    "### NumPy 的第二個特性\n",
    "\n",
    "只能容納單一種型別"
   ]
  },
  {
   "cell_type": "code",
   "execution_count": 0,
   "metadata": {
    "colab": {
     "autoexec": {
      "startup": false,
      "wait_interval": 0
     },
     "base_uri": "https://localhost:8080/",
     "height": 87
    },
    "colab_type": "code",
    "executionInfo": {
     "elapsed": 723,
     "status": "ok",
     "timestamp": 1527935611997,
     "user": {
      "displayName": "Tony Kuo",
      "photoUrl": "https://lh3.googleusercontent.com/a/default-user=s128",
      "userId": "115283668914988550359"
     },
     "user_tz": -480
    },
    "id": "fY4wlJxd7FfH",
    "outputId": "7e413cdc-9417-404d-efce-f9cfd1f5cd8c"
   },
   "outputs": [
    {
     "name": "stdout",
     "output_type": "stream",
     "text": [
      "<class 'int'>\n",
      "<class 'float'>\n",
      "<class 'bool'>\n",
      "<class 'str'>\n"
     ]
    }
   ],
   "source": [
    "my_list = [87, 8.7, True, \"Luke Skywalker\"]\n",
    "for i in my_list:\n",
    "  print(type(i))"
   ]
  },
  {
   "cell_type": "code",
   "execution_count": 0,
   "metadata": {
    "colab": {
     "autoexec": {
      "startup": false,
      "wait_interval": 0
     },
     "base_uri": "https://localhost:8080/",
     "height": 87
    },
    "colab_type": "code",
    "executionInfo": {
     "elapsed": 694,
     "status": "ok",
     "timestamp": 1527935615568,
     "user": {
      "displayName": "Tony Kuo",
      "photoUrl": "https://lh3.googleusercontent.com/a/default-user=s128",
      "userId": "115283668914988550359"
     },
     "user_tz": -480
    },
    "id": "V2d-M0Pm7PlX",
    "outputId": "2b2b4a5d-b8e4-4ef4-b9a5-dfc4b9d0fce1"
   },
   "outputs": [
    {
     "name": "stdout",
     "output_type": "stream",
     "text": [
      "<class 'numpy.str_'>\n",
      "<class 'numpy.str_'>\n",
      "<class 'numpy.str_'>\n",
      "<class 'numpy.str_'>\n"
     ]
    }
   ],
   "source": [
    "my_arr = np.array(my_list)\n",
    "for i in my_arr:\n",
    "  print(type(i))"
   ]
  },
  {
   "cell_type": "markdown",
   "metadata": {
    "colab_type": "text",
    "id": "7AXU_Vnw8Ew4"
   },
   "source": [
    "### NumPy 的第三個特性\n",
    "\n",
    "選擇元素 slice 的索引值時候可以不規則"
   ]
  },
  {
   "cell_type": "code",
   "execution_count": 0,
   "metadata": {
    "colab": {
     "autoexec": {
      "startup": false,
      "wait_interval": 0
     },
     "base_uri": "https://localhost:8080/",
     "height": 35
    },
    "colab_type": "code",
    "executionInfo": {
     "elapsed": 740,
     "status": "ok",
     "timestamp": 1527933858437,
     "user": {
      "displayName": "Tony Kuo",
      "photoUrl": "https://lh3.googleusercontent.com/a/default-user=s128",
      "userId": "115283668914988550359"
     },
     "user_tz": -480
    },
    "id": "zsKI9FN57c3R",
    "outputId": "63a99a5d-d2df-442f-b84b-7d234772d85e"
   },
   "outputs": [
    {
     "data": {
      "text/plain": [
       "array([ 3.   ,  5.   , 42.195])"
      ]
     },
     "execution_count": 34,
     "metadata": {
      "tags": []
     },
     "output_type": "execute_result"
    }
   ],
   "source": [
    "km_arr[[0, 1, -1]]"
   ]
  },
  {
   "cell_type": "markdown",
   "metadata": {
    "colab_type": "text",
    "id": "60Ce4Gwi9R-p"
   },
   "source": [
    "### NumPy 的第四個特性\n",
    "\n",
    "利用判斷條件去選擇元素"
   ]
  },
  {
   "cell_type": "code",
   "execution_count": 0,
   "metadata": {
    "colab": {
     "autoexec": {
      "startup": false,
      "wait_interval": 0
     },
     "base_uri": "https://localhost:8080/",
     "height": 35
    },
    "colab_type": "code",
    "executionInfo": {
     "elapsed": 1109,
     "status": "ok",
     "timestamp": 1527934028447,
     "user": {
      "displayName": "Tony Kuo",
      "photoUrl": "https://lh3.googleusercontent.com/a/default-user=s128",
      "userId": "115283668914988550359"
     },
     "user_tz": -480
    },
    "id": "nsKsPD2D9Rzs",
    "outputId": "d5b37556-8d96-437c-b4d5-a87b2e56e7f2"
   },
   "outputs": [
    {
     "data": {
      "text/plain": [
       "array([10.   , 21.095, 42.195])"
      ]
     },
     "execution_count": 36,
     "metadata": {
      "tags": []
     },
     "output_type": "execute_result"
    }
   ],
   "source": [
    "km_arr[km_arr > 5]"
   ]
  },
  {
   "cell_type": "code",
   "execution_count": 0,
   "metadata": {
    "colab": {
     "autoexec": {
      "startup": false,
      "wait_interval": 0
     },
     "base_uri": "https://localhost:8080/",
     "height": 165
    },
    "colab_type": "code",
    "executionInfo": {
     "elapsed": 6607,
     "status": "error",
     "timestamp": 1527997896287,
     "user": {
      "displayName": "Tiffany Hsu",
      "photoUrl": "//lh3.googleusercontent.com/-YTHoSOdVpeQ/AAAAAAAAAAI/AAAAAAAABW4/8iMN57YXjhk/s50-c-k-no/photo.jpg",
      "userId": "105955929858824128097"
     },
     "user_tz": -480
    },
    "id": "pqIcK-HH8TJh",
    "outputId": "6ae7c7c1-1a65-4d1b-a0ec-37851ee97616"
   },
   "outputs": [
    {
     "ename": "NameError",
     "evalue": "ignored",
     "output_type": "error",
     "traceback": [
      "\u001b[0;31m---------------------------------------------------------------------------\u001b[0m",
      "\u001b[0;31mNameError\u001b[0m                                 Traceback (most recent call last)",
      "\u001b[0;32m<ipython-input-1-f015f516ecf4>\u001b[0m in \u001b[0;36m<module>\u001b[0;34m()\u001b[0m\n\u001b[0;32m----> 1\u001b[0;31m \u001b[0mkm_arr\u001b[0m\u001b[0;34m[\u001b[0m\u001b[0;34m(\u001b[0m\u001b[0mkm_arr\u001b[0m \u001b[0;34m>\u001b[0m \u001b[0;36m10\u001b[0m\u001b[0;34m)\u001b[0m \u001b[0;34m|\u001b[0m \u001b[0;34m(\u001b[0m\u001b[0mkm_arr\u001b[0m \u001b[0;34m<\u001b[0m \u001b[0;36m5\u001b[0m\u001b[0;34m)\u001b[0m\u001b[0;34m]\u001b[0m\u001b[0;34m\u001b[0m\u001b[0m\n\u001b[0m",
      "\u001b[0;31mNameError\u001b[0m: name 'km_arr' is not defined"
     ]
    }
   ],
   "source": [
    "km_arr[(km_arr > 10) | (km_arr < 5)]"
   ]
  },
  {
   "cell_type": "code",
   "execution_count": 0,
   "metadata": {
    "colab": {
     "autoexec": {
      "startup": false,
      "wait_interval": 0
     },
     "base_uri": "https://localhost:8080/",
     "height": 35
    },
    "colab_type": "code",
    "executionInfo": {
     "elapsed": 826,
     "status": "ok",
     "timestamp": 1527934152626,
     "user": {
      "displayName": "Tony Kuo",
      "photoUrl": "https://lh3.googleusercontent.com/a/default-user=s128",
      "userId": "115283668914988550359"
     },
     "user_tz": -480
    },
    "id": "d8uaZVse-ETh",
    "outputId": "b56f9275-786b-4d25-9c09-8af099779986"
   },
   "outputs": [
    {
     "data": {
      "text/plain": [
       "array([False, False, False,  True,  True])"
      ]
     },
     "execution_count": 39,
     "metadata": {
      "tags": []
     },
     "output_type": "execute_result"
    }
   ],
   "source": [
    "km_arr > 10"
   ]
  },
  {
   "cell_type": "code",
   "execution_count": 0,
   "metadata": {
    "colab": {
     "autoexec": {
      "startup": false,
      "wait_interval": 0
     },
     "base_uri": "https://localhost:8080/",
     "height": 35
    },
    "colab_type": "code",
    "executionInfo": {
     "elapsed": 611,
     "status": "ok",
     "timestamp": 1527934161217,
     "user": {
      "displayName": "Tony Kuo",
      "photoUrl": "https://lh3.googleusercontent.com/a/default-user=s128",
      "userId": "115283668914988550359"
     },
     "user_tz": -480
    },
    "id": "-15xRZJX-Owg",
    "outputId": "f46a30e1-2606-4f04-b951-6e98115fbd96"
   },
   "outputs": [
    {
     "data": {
      "text/plain": [
       "array([ True, False, False, False, False])"
      ]
     },
     "execution_count": 40,
     "metadata": {
      "tags": []
     },
     "output_type": "execute_result"
    }
   ],
   "source": [
    "km_arr < 5"
   ]
  },
  {
   "cell_type": "code",
   "execution_count": 0,
   "metadata": {
    "colab": {
     "autoexec": {
      "startup": false,
      "wait_interval": 0
     },
     "base_uri": "https://localhost:8080/",
     "height": 35
    },
    "colab_type": "code",
    "executionInfo": {
     "elapsed": 710,
     "status": "ok",
     "timestamp": 1527934180089,
     "user": {
      "displayName": "Tony Kuo",
      "photoUrl": "https://lh3.googleusercontent.com/a/default-user=s128",
      "userId": "115283668914988550359"
     },
     "user_tz": -480
    },
    "id": "UzZPLkvj-Q6J",
    "outputId": "629f4f8b-6bd5-42a3-9e4c-8007dd398d20"
   },
   "outputs": [
    {
     "data": {
      "text/plain": [
       "array([ True, False, False,  True,  True])"
      ]
     },
     "execution_count": 41,
     "metadata": {
      "tags": []
     },
     "output_type": "execute_result"
    }
   ],
   "source": [
    "(km_arr > 10) | (km_arr < 5)"
   ]
  },
  {
   "cell_type": "markdown",
   "metadata": {
    "colab_type": "text",
    "id": "6Lm5JjT1BbIc"
   },
   "source": []
  },
  {
   "cell_type": "markdown",
   "metadata": {
    "colab_type": "text",
    "id": "-fZW15LL-srA"
   },
   "source": [
    "### 如何創造 ndarray\n",
    "\n",
    "- `np.array()`：輸入一個 list or tuple\n",
    "- `np.arange(start, stop, step)`：產生一組數列\n",
    "- `np.linspace(start, stop, num)`：產生一組數列\n",
    "- `np.eye()`： 產生單位矩陣\n",
    "- `np.ones()`：初始化一個陣列\n",
    "- `np.zeros()`：初始化一個陣列\n",
    "- `np.random.randint(start, stop, size)`：產生隨意整數"
   ]
  },
  {
   "cell_type": "code",
   "execution_count": 0,
   "metadata": {
    "colab": {
     "autoexec": {
      "startup": false,
      "wait_interval": 0
     },
     "base_uri": "https://localhost:8080/",
     "height": 34
    },
    "colab_type": "code",
    "executionInfo": {
     "elapsed": 673,
     "status": "ok",
     "timestamp": 1527934596929,
     "user": {
      "displayName": "Tony Kuo",
      "photoUrl": "https://lh3.googleusercontent.com/a/default-user=s128",
      "userId": "115283668914988550359"
     },
     "user_tz": -480
    },
    "id": "qdRRwLJu-rWJ",
    "outputId": "16c8ee47-fa6c-46db-901c-e26b97b2c806"
   },
   "outputs": [
    {
     "data": {
      "text/plain": [
       "[0, 1, 2, 3, 4, 5, 6, 7, 8, 9]"
      ]
     },
     "execution_count": 49,
     "metadata": {
      "tags": []
     },
     "output_type": "execute_result"
    }
   ],
   "source": [
    "list(range(10))"
   ]
  },
  {
   "cell_type": "code",
   "execution_count": 0,
   "metadata": {
    "colab": {
     "autoexec": {
      "startup": false,
      "wait_interval": 0
     }
    },
    "colab_type": "code",
    "id": "om7LPw76_NIe"
   },
   "outputs": [],
   "source": [
    "np.arange(10)"
   ]
  },
  {
   "cell_type": "code",
   "execution_count": 0,
   "metadata": {
    "colab": {
     "autoexec": {
      "startup": false,
      "wait_interval": 0
     },
     "base_uri": "https://localhost:8080/",
     "height": 84
    },
    "colab_type": "code",
    "executionInfo": {
     "elapsed": 662,
     "status": "ok",
     "timestamp": 1527936617246,
     "user": {
      "displayName": "Tony Kuo",
      "photoUrl": "https://lh3.googleusercontent.com/a/default-user=s128",
      "userId": "115283668914988550359"
     },
     "user_tz": -480
    },
    "id": "PoNLVChvAACL",
    "outputId": "f54f636e-d296-4109-9323-1b2ab579ea05"
   },
   "outputs": [
    {
     "data": {
      "text/plain": [
       "array([ 1.        ,  1.47368421,  1.94736842,  2.42105263,  2.89473684,\n",
       "        3.36842105,  3.84210526,  4.31578947,  4.78947368,  5.26315789,\n",
       "        5.73684211,  6.21052632,  6.68421053,  7.15789474,  7.63157895,\n",
       "        8.10526316,  8.57894737,  9.05263158,  9.52631579, 10.        ])"
      ]
     },
     "execution_count": 76,
     "metadata": {
      "tags": []
     },
     "output_type": "execute_result"
    }
   ],
   "source": [
    "np.linspace(1, 10, num=20)"
   ]
  },
  {
   "cell_type": "code",
   "execution_count": 0,
   "metadata": {
    "colab": {
     "autoexec": {
      "startup": false,
      "wait_interval": 0
     },
     "base_uri": "https://localhost:8080/",
     "height": 101
    },
    "colab_type": "code",
    "executionInfo": {
     "elapsed": 1323,
     "status": "ok",
     "timestamp": 1527934847321,
     "user": {
      "displayName": "Tony Kuo",
      "photoUrl": "https://lh3.googleusercontent.com/a/default-user=s128",
      "userId": "115283668914988550359"
     },
     "user_tz": -480
    },
    "id": "kjN09AeiAefW",
    "outputId": "3823fb2d-de32-4a0d-c807-1bc8e10e55c6"
   },
   "outputs": [
    {
     "data": {
      "text/plain": [
       "array([[1., 0., 0., 0., 0.],\n",
       "       [0., 1., 0., 0., 0.],\n",
       "       [0., 0., 1., 0., 0.],\n",
       "       [0., 0., 0., 1., 0.],\n",
       "       [0., 0., 0., 0., 1.]])"
      ]
     },
     "execution_count": 52,
     "metadata": {
      "tags": []
     },
     "output_type": "execute_result"
    }
   ],
   "source": [
    "np.eye(5)"
   ]
  },
  {
   "cell_type": "code",
   "execution_count": 0,
   "metadata": {
    "colab": {
     "autoexec": {
      "startup": false,
      "wait_interval": 0
     },
     "base_uri": "https://localhost:8080/",
     "height": 34
    },
    "colab_type": "code",
    "executionInfo": {
     "elapsed": 527,
     "status": "ok",
     "timestamp": 1527935013778,
     "user": {
      "displayName": "Tony Kuo",
      "photoUrl": "https://lh3.googleusercontent.com/a/default-user=s128",
      "userId": "115283668914988550359"
     },
     "user_tz": -480
    },
    "id": "HgOxcsPUA4PU",
    "outputId": "ad5c4370-eb28-4776-d640-81d5b81095bd"
   },
   "outputs": [
    {
     "data": {
      "text/plain": [
       "array([4, 7, 5, 1, 5])"
      ]
     },
     "execution_count": 55,
     "metadata": {
      "tags": []
     },
     "output_type": "execute_result"
    }
   ],
   "source": [
    "np.random.randint(1, 10, 5)"
   ]
  },
  {
   "cell_type": "markdown",
   "metadata": {
    "colab_type": "text",
    "id": "BZcsHWOiB2bZ"
   },
   "source": [
    "### ndarray 常用的屬性與方法\n",
    "\n",
    "- `.size`\n",
    "- `.shape`\n",
    "- `.dtype`\n",
    "- `.astype()`\n",
    "- `.reshape()`"
   ]
  },
  {
   "cell_type": "code",
   "execution_count": 0,
   "metadata": {
    "colab": {
     "autoexec": {
      "startup": false,
      "wait_interval": 0
     },
     "base_uri": "https://localhost:8080/",
     "height": 50
    },
    "colab_type": "code",
    "executionInfo": {
     "elapsed": 680,
     "status": "ok",
     "timestamp": 1527935166038,
     "user": {
      "displayName": "Tony Kuo",
      "photoUrl": "https://lh3.googleusercontent.com/a/default-user=s128",
      "userId": "115283668914988550359"
     },
     "user_tz": -480
    },
    "id": "T90aYJqPBdfV",
    "outputId": "2d0cc71a-93ff-449c-bafb-d7b7066e11b2"
   },
   "outputs": [
    {
     "name": "stdout",
     "output_type": "stream",
     "text": [
      "5\n"
     ]
    },
    {
     "data": {
      "text/plain": [
       "5"
      ]
     },
     "execution_count": 57,
     "metadata": {
      "tags": []
     },
     "output_type": "execute_result"
    }
   ],
   "source": [
    "print(km_arr.size)\n",
    "len(km_arr)"
   ]
  },
  {
   "cell_type": "code",
   "execution_count": 0,
   "metadata": {
    "colab": {
     "autoexec": {
      "startup": false,
      "wait_interval": 0
     },
     "base_uri": "https://localhost:8080/",
     "height": 34
    },
    "colab_type": "code",
    "executionInfo": {
     "elapsed": 898,
     "status": "ok",
     "timestamp": 1527935228413,
     "user": {
      "displayName": "Tony Kuo",
      "photoUrl": "https://lh3.googleusercontent.com/a/default-user=s128",
      "userId": "115283668914988550359"
     },
     "user_tz": -480
    },
    "id": "WQbkprRmCAxZ",
    "outputId": "50fec79c-303a-4e73-9a51-8edbc99b3fc7"
   },
   "outputs": [
    {
     "data": {
      "text/plain": [
       "(5,)"
      ]
     },
     "execution_count": 59,
     "metadata": {
      "tags": []
     },
     "output_type": "execute_result"
    }
   ],
   "source": [
    "km_arr.shape"
   ]
  },
  {
   "cell_type": "code",
   "execution_count": 0,
   "metadata": {
    "colab": {
     "autoexec": {
      "startup": false,
      "wait_interval": 0
     },
     "base_uri": "https://localhost:8080/",
     "height": 101
    },
    "colab_type": "code",
    "executionInfo": {
     "elapsed": 710,
     "status": "ok",
     "timestamp": 1527935280201,
     "user": {
      "displayName": "Tony Kuo",
      "photoUrl": "https://lh3.googleusercontent.com/a/default-user=s128",
      "userId": "115283668914988550359"
     },
     "user_tz": -480
    },
    "id": "JwdFlxBKCQyk",
    "outputId": "3747db33-9ccf-4876-85d3-e377de32f161"
   },
   "outputs": [
    {
     "data": {
      "text/plain": [
       "array([[ 3.   ],\n",
       "       [ 5.   ],\n",
       "       [10.   ],\n",
       "       [21.095],\n",
       "       [42.195]])"
      ]
     },
     "execution_count": 60,
     "metadata": {
      "tags": []
     },
     "output_type": "execute_result"
    }
   ],
   "source": [
    "km_arr.reshape(5, 1)"
   ]
  },
  {
   "cell_type": "code",
   "execution_count": 0,
   "metadata": {
    "colab": {
     "autoexec": {
      "startup": false,
      "wait_interval": 0
     },
     "base_uri": "https://localhost:8080/",
     "height": 34
    },
    "colab_type": "code",
    "executionInfo": {
     "elapsed": 711,
     "status": "ok",
     "timestamp": 1527935396024,
     "user": {
      "displayName": "Tony Kuo",
      "photoUrl": "https://lh3.googleusercontent.com/a/default-user=s128",
      "userId": "115283668914988550359"
     },
     "user_tz": -480
    },
    "id": "WBGDHktvCiEb",
    "outputId": "6986d392-da07-417b-b46c-6de9945fb8b6"
   },
   "outputs": [
    {
     "data": {
      "text/plain": [
       "dtype('float64')"
      ]
     },
     "execution_count": 61,
     "metadata": {
      "tags": []
     },
     "output_type": "execute_result"
    }
   ],
   "source": [
    "km_arr.dtype"
   ]
  },
  {
   "cell_type": "code",
   "execution_count": 0,
   "metadata": {
    "colab": {
     "autoexec": {
      "startup": false,
      "wait_interval": 0
     },
     "base_uri": "https://localhost:8080/",
     "height": 34
    },
    "colab_type": "code",
    "executionInfo": {
     "elapsed": 731,
     "status": "ok",
     "timestamp": 1527935471595,
     "user": {
      "displayName": "Tony Kuo",
      "photoUrl": "https://lh3.googleusercontent.com/a/default-user=s128",
      "userId": "115283668914988550359"
     },
     "user_tz": -480
    },
    "id": "88r94k8DC-Wj",
    "outputId": "b6a6912a-c432-4d11-e4b2-5dbfb426e1f0"
   },
   "outputs": [
    {
     "data": {
      "text/plain": [
       "dtype('float32')"
      ]
     },
     "execution_count": 62,
     "metadata": {
      "tags": []
     },
     "output_type": "execute_result"
    }
   ],
   "source": [
    "km_arr.astype('float32').dtype"
   ]
  },
  {
   "cell_type": "code",
   "execution_count": 0,
   "metadata": {
    "colab": {
     "autoexec": {
      "startup": false,
      "wait_interval": 0
     },
     "base_uri": "https://localhost:8080/",
     "height": 34
    },
    "colab_type": "code",
    "executionInfo": {
     "elapsed": 781,
     "status": "ok",
     "timestamp": 1527935574097,
     "user": {
      "displayName": "Tony Kuo",
      "photoUrl": "https://lh3.googleusercontent.com/a/default-user=s128",
      "userId": "115283668914988550359"
     },
     "user_tz": -480
    },
    "id": "2QPDGM6IDQyy",
    "outputId": "d783ce57-a104-498d-ac31-8b8898f1e63d"
   },
   "outputs": [
    {
     "data": {
      "text/plain": [
       "dtype('<U5')"
      ]
     },
     "execution_count": 65,
     "metadata": {
      "tags": []
     },
     "output_type": "execute_result"
    }
   ],
   "source": [
    "my_arr = np.array(['True', 'False'])\n",
    "my_arr.dtype"
   ]
  },
  {
   "cell_type": "code",
   "execution_count": 0,
   "metadata": {
    "colab": {
     "autoexec": {
      "startup": false,
      "wait_interval": 0
     },
     "base_uri": "https://localhost:8080/",
     "height": 319
    },
    "colab_type": "code",
    "executionInfo": {
     "elapsed": 970,
     "status": "ok",
     "timestamp": 1527936728708,
     "user": {
      "displayName": "Tony Kuo",
      "photoUrl": "https://lh3.googleusercontent.com/a/default-user=s128",
      "userId": "115283668914988550359"
     },
     "user_tz": -480
    },
    "id": "gvX0h4FsDfFt",
    "outputId": "cfd71d8c-6c85-4b44-8e89-1f7f6d04921d"
   },
   "outputs": [
    {
     "data": {
      "text/plain": [
       "array([[[[ 0,  1,  2],\n",
       "         [ 3,  4,  5]],\n",
       "\n",
       "        [[ 6,  7,  8],\n",
       "         [ 9, 10, 11]],\n",
       "\n",
       "        [[12, 13, 14],\n",
       "         [15, 16, 17]]],\n",
       "\n",
       "\n",
       "       [[[18, 19, 20],\n",
       "         [21, 22, 23]],\n",
       "\n",
       "        [[24, 25, 26],\n",
       "         [27, 28, 29]],\n",
       "\n",
       "        [[30, 31, 32],\n",
       "         [33, 34, 35]]]])"
      ]
     },
     "execution_count": 78,
     "metadata": {
      "tags": []
     },
     "output_type": "execute_result"
    }
   ],
   "source": [
    "my_tensor = np.arange(36).reshape(2, 3, 2, 3)\n",
    "my_tensor"
   ]
  },
  {
   "cell_type": "markdown",
   "metadata": {
    "colab_type": "text",
    "id": "mQkbILfAymMy"
   },
   "source": [
    "## pandas\n",
    "\n",
    "- 應用：\n",
    "  - 帶來 DataFrame 這個資料結構\n",
    "  - 可以用來讀取外部資料\n",
    "  - 可以用來作圖\n",
    "- 如何安裝\n",
    "\n",
    "```python\n",
    "pip install pandas\n",
    "```"
   ]
  },
  {
   "cell_type": "markdown",
   "metadata": {
    "colab_type": "text",
    "id": "uH2Y9dhnB-wB"
   },
   "source": []
  },
  {
   "cell_type": "code",
   "execution_count": 0,
   "metadata": {
    "colab": {
     "autoexec": {
      "startup": false,
      "wait_interval": 0
     },
     "base_uri": "https://localhost:8080/",
     "height": 124
    },
    "colab_type": "code",
    "executionInfo": {
     "elapsed": 2961,
     "status": "ok",
     "timestamp": 1528015110549,
     "user": {
      "displayName": "Tony Kuo",
      "photoUrl": "https://lh3.googleusercontent.com/a/default-user=s128",
      "userId": "115283668914988550359"
     },
     "user_tz": -480
    },
    "id": "rFXKk2DkzAWH",
    "outputId": "52bc0ee3-06e9-45f1-beae-1da598a54960"
   },
   "outputs": [
    {
     "name": "stdout",
     "output_type": "stream",
     "text": [
      "Requirement already satisfied: pandas in /usr/local/lib/python3.6/dist-packages (0.22.0)\r\n",
      "Requirement already satisfied: pytz>=2011k in /usr/local/lib/python3.6/dist-packages (from pandas) (2018.4)\r\n",
      "Requirement already satisfied: numpy>=1.9.0 in /usr/local/lib/python3.6/dist-packages (from pandas) (1.14.3)\r\n",
      "Requirement already satisfied: python-dateutil>=2 in /usr/local/lib/python3.6/dist-packages (from pandas) (2.5.3)\r\n",
      "Requirement already satisfied: six>=1.5 in /usr/local/lib/python3.6/dist-packages (from python-dateutil>=2->pandas) (1.11.0)\r\n"
     ]
    }
   ],
   "source": [
    "!pip install pandas"
   ]
  },
  {
   "cell_type": "markdown",
   "metadata": {
    "colab_type": "text",
    "id": "cQ7Nj2NBzNUi"
   },
   "source": [
    "- 如何載入\n",
    "\n",
    "```python\n",
    "import pandas as pd\n",
    "```"
   ]
  },
  {
   "cell_type": "code",
   "execution_count": 0,
   "metadata": {
    "colab": {
     "autoexec": {
      "startup": false,
      "wait_interval": 0
     },
     "base_uri": "https://localhost:8080/",
     "height": 35
    },
    "colab_type": "code",
    "executionInfo": {
     "elapsed": 545,
     "status": "ok",
     "timestamp": 1528015179886,
     "user": {
      "displayName": "Tony Kuo",
      "photoUrl": "https://lh3.googleusercontent.com/a/default-user=s128",
      "userId": "115283668914988550359"
     },
     "user_tz": -480
    },
    "id": "DY3ZIBLpzCX2",
    "outputId": "ef54baf9-4a85-48a1-914a-fb16f15f09ff"
   },
   "outputs": [
    {
     "name": "stdout",
     "output_type": "stream",
     "text": [
      "0.22.0\n"
     ]
    }
   ],
   "source": [
    "import pandas as pd\n",
    "\n",
    "print(pd.__version__)"
   ]
  },
  {
   "cell_type": "markdown",
   "metadata": {
    "colab_type": "text",
    "id": "L1Wm-em5zckd"
   },
   "source": [
    "### pandas 的起源\n",
    "\n",
    "<https://github.com/pandas-dev/pandas>\n",
    "\n",
    "> Flexible and powerful data analysis / manipulation library for Python, providing labeled data structures similar to R data.frame objects, statistical functions, and much more.\n",
    "\n",
    "- **pan**el\n",
    "- **da**ta\n",
    "- analysi**s**"
   ]
  },
  {
   "cell_type": "markdown",
   "metadata": {
    "colab_type": "text",
    "id": "TfkM9Y2b0Qqh"
   },
   "source": [
    "### pandas 提供的資料容器\n",
    "\n",
    "- `Series`\n",
    "- `DataFrame`\n",
    "- `Panel`"
   ]
  },
  {
   "cell_type": "markdown",
   "metadata": {
    "colab_type": "text",
    "id": "xoS_0uCK0krX"
   },
   "source": [
    "### 建立 Series"
   ]
  },
  {
   "cell_type": "code",
   "execution_count": 0,
   "metadata": {
    "colab": {
     "autoexec": {
      "startup": false,
      "wait_interval": 0
     }
    },
    "colab_type": "code",
    "id": "lnDA_XKfCtUG"
   },
   "outputs": [],
   "source": []
  },
  {
   "cell_type": "code",
   "execution_count": 0,
   "metadata": {
    "colab": {
     "autoexec": {
      "startup": false,
      "wait_interval": 0
     },
     "base_uri": "https://localhost:8080/",
     "height": 121
    },
    "colab_type": "code",
    "executionInfo": {
     "elapsed": 785,
     "status": "ok",
     "timestamp": 1528016397558,
     "user": {
      "displayName": "Tony Kuo",
      "photoUrl": "https://lh3.googleusercontent.com/a/default-user=s128",
      "userId": "115283668914988550359"
     },
     "user_tz": -480
    },
    "id": "Hgmyo7BlzU3q",
    "outputId": "c00f1202-94c3-4ced-838b-723182abd270"
   },
   "outputs": [
    {
     "name": "stdout",
     "output_type": "stream",
     "text": [
      "<class 'dict'>\n"
     ]
    },
    {
     "data": {
      "text/plain": [
       "{'C': 'Tim Duncan',\n",
       " 'PF': 'Kevin Garnett',\n",
       " 'PG': 'Steve Nash',\n",
       " 'SF': 'Scottie Pippen',\n",
       " 'SG': 'Paul Pierce'}"
      ]
     },
     "execution_count": 21,
     "metadata": {
      "tags": []
     },
     "output_type": "execute_result"
    }
   ],
   "source": [
    "favorite_players = {\n",
    "    \"PG\": \",\"Steve Nash\n",
    "    \"SG\": \"Paul Pierce\",\n",
    "    \"SF\": \"Scottie Pippen\",\n",
    "    \"PF\": \"Kevin Garnett\",\n",
    "    \"C\": \"Tim Duncan\"\n",
    "}\n",
    "print(type(favorite_players))\n",
    "favorite_players"
   ]
  },
  {
   "cell_type": "code",
   "execution_count": 0,
   "metadata": {
    "colab": {
     "autoexec": {
      "startup": false,
      "wait_interval": 0
     }
    },
    "colab_type": "code",
    "id": "zblD03Id1L47"
   },
   "outputs": [],
   "source": [
    "ser = pd.Series(favorite_players)\n",
    "type(ser)"
   ]
  },
  {
   "cell_type": "code",
   "execution_count": 0,
   "metadata": {
    "colab": {
     "autoexec": {
      "startup": false,
      "wait_interval": 0
     },
     "base_uri": "https://localhost:8080/",
     "height": 35
    },
    "colab_type": "code",
    "executionInfo": {
     "elapsed": 614,
     "status": "ok",
     "timestamp": 1528015899954,
     "user": {
      "displayName": "Tony Kuo",
      "photoUrl": "https://lh3.googleusercontent.com/a/default-user=s128",
      "userId": "115283668914988550359"
     },
     "user_tz": -480
    },
    "id": "kmD8q-pQ1xrs",
    "outputId": "d1d56f20-a047-4f74-b346-274c6a67442c"
   },
   "outputs": [
    {
     "data": {
      "text/plain": [
       "'Tim Duncan'"
      ]
     },
     "execution_count": 6,
     "metadata": {
      "tags": []
     },
     "output_type": "execute_result"
    }
   ],
   "source": [
    "ser[0]"
   ]
  },
  {
   "cell_type": "code",
   "execution_count": 0,
   "metadata": {
    "colab": {
     "autoexec": {
      "startup": false,
      "wait_interval": 0
     },
     "base_uri": "https://localhost:8080/",
     "height": 35
    },
    "colab_type": "code",
    "executionInfo": {
     "elapsed": 554,
     "status": "ok",
     "timestamp": 1528015923323,
     "user": {
      "displayName": "Tony Kuo",
      "photoUrl": "https://lh3.googleusercontent.com/a/default-user=s128",
      "userId": "115283668914988550359"
     },
     "user_tz": -480
    },
    "id": "KsYQI_JW119N",
    "outputId": "d5d483d9-15db-4b24-e32f-52adf2787f22"
   },
   "outputs": [
    {
     "data": {
      "text/plain": [
       "'Tim Duncan'"
      ]
     },
     "execution_count": 7,
     "metadata": {
      "tags": []
     },
     "output_type": "execute_result"
    }
   ],
   "source": [
    "ser['C']                                                                                                                                                                                                                                                                                                                                                                                                                                                                                                                                                                                                                                                                                                                                                                                                                                                                                                                                                                                                                                                                                                                                                                                                           "
   ]
  },
  {
   "cell_type": "code",
   "execution_count": 0,
   "metadata": {
    "colab": {
     "autoexec": {
      "startup": false,
      "wait_interval": 0
     },
     "base_uri": "https://localhost:8080/",
     "height": 104
    },
    "colab_type": "code",
    "executionInfo": {
     "elapsed": 760,
     "status": "ok",
     "timestamp": 1528015979444,
     "user": {
      "displayName": "Tony Kuo",
      "photoUrl": "https://lh3.googleusercontent.com/a/default-user=s128",
      "userId": "115283668914988550359"
     },
     "user_tz": -480
    },
    "id": "jKPGuHgI2SR4",
    "outputId": "b40cde8c-2f57-4b92-d787-774f65270b2a"
   },
   "outputs": [
    {
     "data": {
      "text/plain": [
       "C         Tim Duncan\n",
       "PF     Kevin Garnett\n",
       "PG        Steve Nash\n",
       "SF    Scottie Pippen\n",
       "dtype: object"
      ]
     },
     "execution_count": 9,
     "metadata": {
      "tags": []
     },
     "output_type": "execute_result"
    }
   ],
   "source": [
    "ser[:'SF']"
   ]
  },
  {
   "cell_type": "code",
   "execution_count": 0,
   "metadata": {
    "colab": {
     "autoexec": {
      "startup": false,
      "wait_interval": 0
     },
     "base_uri": "https://localhost:8080/",
     "height": 104
    },
    "colab_type": "code",
    "executionInfo": {
     "elapsed": 636,
     "status": "ok",
     "timestamp": 1528016027092,
     "user": {
      "displayName": "Tony Kuo",
      "photoUrl": "https://lh3.googleusercontent.com/a/default-user=s128",
      "userId": "115283668914988550359"
     },
     "user_tz": -480
    },
    "id": "890r0Zmf2KX1",
    "outputId": "89afaf93-b294-4a3a-a0c4-7c98e53d845b"
   },
   "outputs": [
    {
     "data": {
      "text/plain": [
       "C         Tim Duncan\n",
       "PF     Kevin Garnett\n",
       "PG        Steve Nash\n",
       "SF    Scottie Pippen\n",
       "dtype: object"
      ]
     },
     "execution_count": 11,
     "metadata": {
      "tags": []
     },
     "output_type": "execute_result"
    }
   ],
   "source": [
    "ser[:4]"
   ]
  },
  {
   "cell_type": "code",
   "execution_count": 0,
   "metadata": {
    "colab": {
     "autoexec": {
      "startup": false,
      "wait_interval": 0
     },
     "base_uri": "https://localhost:8080/",
     "height": 87
    },
    "colab_type": "code",
    "executionInfo": {
     "elapsed": 567,
     "status": "ok",
     "timestamp": 1528016088815,
     "user": {
      "displayName": "Tony Kuo",
      "photoUrl": "https://lh3.googleusercontent.com/a/default-user=s128",
      "userId": "115283668914988550359"
     },
     "user_tz": -480
    },
    "id": "Hd2VCpVm2dYB",
    "outputId": "21aaaf8a-f699-49e2-8ae3-2340cf3ea075"
   },
   "outputs": [
    {
     "data": {
      "text/plain": [
       "C         Tim Duncan\n",
       "SF    Scottie Pippen\n",
       "SG       Paul Pierce\n",
       "dtype: object"
      ]
     },
     "execution_count": 12,
     "metadata": {
      "tags": []
     },
     "output_type": "execute_result"
    }
   ],
   "source": [
    "ser[['C', 'SF', 'SG']]"
   ]
  },
  {
   "cell_type": "code",
   "execution_count": 0,
   "metadata": {
    "colab": {
     "autoexec": {
      "startup": false,
      "wait_interval": 0
     },
     "base_uri": "https://localhost:8080/",
     "height": 87
    },
    "colab_type": "code",
    "executionInfo": {
     "elapsed": 565,
     "status": "ok",
     "timestamp": 1528016117996,
     "user": {
      "displayName": "Tony Kuo",
      "photoUrl": "https://lh3.googleusercontent.com/a/default-user=s128",
      "userId": "115283668914988550359"
     },
     "user_tz": -480
    },
    "id": "SeTkO6cA2yw4",
    "outputId": "caa9e9f7-a78d-43ee-fb08-e033783affb4"
   },
   "outputs": [
    {
     "data": {
      "text/plain": [
       "C         Tim Duncan\n",
       "SF    Scottie Pippen\n",
       "SG       Paul Pierce\n",
       "dtype: object"
      ]
     },
     "execution_count": 13,
     "metadata": {
      "tags": []
     },
     "output_type": "execute_result"
    }
   ],
   "source": [
    "ser[[0, 3, 4]]"
   ]
  },
  {
   "cell_type": "code",
   "execution_count": 0,
   "metadata": {
    "colab": {
     "autoexec": {
      "startup": false,
      "wait_interval": 0
     },
     "base_uri": "https://localhost:8080/",
     "height": 35
    },
    "colab_type": "code",
    "executionInfo": {
     "elapsed": 556,
     "status": "ok",
     "timestamp": 1528016166693,
     "user": {
      "displayName": "Tony Kuo",
      "photoUrl": "https://lh3.googleusercontent.com/a/default-user=s128",
      "userId": "115283668914988550359"
     },
     "user_tz": -480
    },
    "id": "fX-dzCAz254-",
    "outputId": "ca0e2efa-c2fc-4671-ff47-ea12a53dd68f"
   },
   "outputs": [
    {
     "data": {
      "text/plain": [
       "pandas.core.series.Series"
      ]
     },
     "execution_count": 14,
     "metadata": {
      "tags": []
     },
     "output_type": "execute_result"
    }
   ],
   "source": [
    "type(ser)"
   ]
  },
  {
   "cell_type": "code",
   "execution_count": 0,
   "metadata": {
    "colab": {
     "autoexec": {
      "startup": false,
      "wait_interval": 0
     },
     "base_uri": "https://localhost:8080/",
     "height": 52
    },
    "colab_type": "code",
    "executionInfo": {
     "elapsed": 640,
     "status": "ok",
     "timestamp": 1528016202293,
     "user": {
      "displayName": "Tony Kuo",
      "photoUrl": "https://lh3.googleusercontent.com/a/default-user=s128",
      "userId": "115283668914988550359"
     },
     "user_tz": -480
    },
    "id": "U1INU6Ef3Fx_",
    "outputId": "c36c0e9c-eb1f-4b71-ff28-ed1ece80a7a9"
   },
   "outputs": [
    {
     "data": {
      "text/plain": [
       "array(['Tim Duncan', 'Kevin Garnett', 'Steve Nash', 'Scottie Pippen',\n",
       "       'Paul Pierce'], dtype=object)"
      ]
     },
     "execution_count": 16,
     "metadata": {
      "tags": []
     },
     "output_type": "execute_result"
    }
   ],
   "source": [
    "ser.values"
   ]
  },
  {
   "cell_type": "code",
   "execution_count": 0,
   "metadata": {
    "colab": {
     "autoexec": {
      "startup": false,
      "wait_interval": 0
     },
     "base_uri": "https://localhost:8080/",
     "height": 35
    },
    "colab_type": "code",
    "executionInfo": {
     "elapsed": 702,
     "status": "ok",
     "timestamp": 1528016254091,
     "user": {
      "displayName": "Tony Kuo",
      "photoUrl": "https://lh3.googleusercontent.com/a/default-user=s128",
      "userId": "115283668914988550359"
     },
     "user_tz": -480
    },
    "id": "Wtyurrfk3NTR",
    "outputId": "bfa0054b-7195-453b-b0b5-63819098b6db"
   },
   "outputs": [
    {
     "data": {
      "text/plain": [
       "Index(['C', 'PF', 'PG', 'SF', 'SG'], dtype='object')"
      ]
     },
     "execution_count": 18,
     "metadata": {
      "tags": []
     },
     "output_type": "execute_result"
    }
   ],
   "source": [
    "ser.index"
   ]
  },
  {
   "cell_type": "code",
   "execution_count": 0,
   "metadata": {
    "colab": {
     "autoexec": {
      "startup": false,
      "wait_interval": 0
     },
     "base_uri": "https://localhost:8080/",
     "height": 121
    },
    "colab_type": "code",
    "executionInfo": {
     "elapsed": 508,
     "status": "ok",
     "timestamp": 1528016650796,
     "user": {
      "displayName": "Tony Kuo",
      "photoUrl": "https://lh3.googleusercontent.com/a/default-user=s128",
      "userId": "115283668914988550359"
     },
     "user_tz": -480
    },
    "id": "fWnL5wc63Yp7",
    "outputId": "5e48d7de-fce2-45bb-f382-b9ec7115dc2d"
   },
   "outputs": [
    {
     "data": {
      "text/plain": [
       "PG        Steve Nash\n",
       "SG       Paul Pierce\n",
       "SF    Scottie Pippen\n",
       "PF     Kevin Garnett\n",
       "C         Tim Duncan\n",
       "dtype: object"
      ]
     },
     "execution_count": 22,
     "metadata": {
      "tags": []
     },
     "output_type": "execute_result"
    }
   ],
   "source": [
    "favorite_players = [\"Steve Nash\", \"Paul Pierce\", \"Scottie Pippen\", \"Kevin Garnett\", \"Tim Duncan\"]\n",
    "ser = pd.Series(favorite_players, index=['PG', 'SG', 'SF', 'PF', 'C'])\n",
    "ser"
   ]
  },
  {
   "cell_type": "code",
   "execution_count": 0,
   "metadata": {
    "colab": {
     "autoexec": {
      "startup": false,
      "wait_interval": 0
     },
     "base_uri": "https://localhost:8080/",
     "height": 121
    },
    "colab_type": "code",
    "executionInfo": {
     "elapsed": 510,
     "status": "ok",
     "timestamp": 1528016709496,
     "user": {
      "displayName": "Tony Kuo",
      "photoUrl": "https://lh3.googleusercontent.com/a/default-user=s128",
      "userId": "115283668914988550359"
     },
     "user_tz": -480
    },
    "id": "eZvzdLoZ47-x",
    "outputId": "86cf3e4d-176f-4087-cdfa-83ff7db32338"
   },
   "outputs": [
    {
     "data": {
      "text/plain": [
       "0        Steve Nash\n",
       "1       Paul Pierce\n",
       "2    Scottie Pippen\n",
       "3     Kevin Garnett\n",
       "4        Tim Duncan\n",
       "dtype: object"
      ]
     },
     "execution_count": 23,
     "metadata": {
      "tags": []
     },
     "output_type": "execute_result"
    }
   ],
   "source": [
    "ser = pd.Series(favorite_players)\n",
    "ser"
   ]
  },
  {
   "cell_type": "code",
   "execution_count": 0,
   "metadata": {
    "colab": {
     "autoexec": {
      "startup": false,
      "wait_interval": 0
     },
     "base_uri": "https://localhost:8080/",
     "height": 87
    },
    "colab_type": "code",
    "executionInfo": {
     "elapsed": 693,
     "status": "ok",
     "timestamp": 1528016944705,
     "user": {
      "displayName": "Tony Kuo",
      "photoUrl": "https://lh3.googleusercontent.com/a/default-user=s128",
      "userId": "115283668914988550359"
     },
     "user_tz": -480
    },
    "id": "B6BLBpL15nRN",
    "outputId": "3e06b942-d4d9-4344-9f14-0048e11a6c06"
   },
   "outputs": [
    {
     "data": {
      "text/plain": [
       "0       Steve Nash\n",
       "3    Kevin Garnett\n",
       "4       Tim Duncan\n",
       "dtype: object"
      ]
     },
     "execution_count": 26,
     "metadata": {
      "tags": []
     },
     "output_type": "execute_result"
    }
   ],
   "source": [
    "indice_to_select = [0, 3, 4]\n",
    "ser[indice_to_select]"
   ]
  },
  {
   "cell_type": "markdown",
   "metadata": {
    "colab_type": "text",
    "id": "ol9j1ytb5bev"
   },
   "source": [
    "### 建立 DataFrame"
   ]
  },
  {
   "cell_type": "code",
   "execution_count": 0,
   "metadata": {
    "colab": {
     "autoexec": {
      "startup": false,
      "wait_interval": 0
     }
    },
    "colab_type": "code",
    "id": "P_LCS4L-Dgle"
   },
   "outputs": [],
   "source": []
  },
  {
   "cell_type": "code",
   "execution_count": 0,
   "metadata": {
    "colab": {
     "autoexec": {
      "startup": false,
      "wait_interval": 0
     },
     "base_uri": "https://localhost:8080/",
     "height": 202
    },
    "colab_type": "code",
    "executionInfo": {
     "elapsed": 580,
     "status": "ok",
     "timestamp": 1528018346803,
     "user": {
      "displayName": "Tony Kuo",
      "photoUrl": "https://lh3.googleusercontent.com/a/default-user=s128",
      "userId": "115283668914988550359"
     },
     "user_tz": -480
    },
    "id": "q8ty8igJ5KTw",
    "outputId": "41ec0786-b60b-4257-b81c-99f6bf5ad406"
   },
   "outputs": [
    {
     "data": {
      "text/html": [
       "<div>\n",
       "<style scoped>\n",
       "    .dataframe tbody tr th:only-of-type {\n",
       "        vertical-align: middle;\n",
       "    }\n",
       "\n",
       "    .dataframe tbody tr th {\n",
       "        vertical-align: top;\n",
       "    }\n",
       "\n",
       "    .dataframe thead th {\n",
       "        text-align: right;\n",
       "    }\n",
       "</style>\n",
       "<table border=\"1\" class=\"dataframe\">\n",
       "  <thead>\n",
       "    <tr style=\"text-align: right;\">\n",
       "      <th></th>\n",
       "      <th>number</th>\n",
       "      <th>name</th>\n",
       "    </tr>\n",
       "  </thead>\n",
       "  <tbody>\n",
       "    <tr>\n",
       "      <th>0</th>\n",
       "      <td>13</td>\n",
       "      <td>Steve Nash</td>\n",
       "    </tr>\n",
       "    <tr>\n",
       "      <th>1</th>\n",
       "      <td>34</td>\n",
       "      <td>Paul Pierce</td>\n",
       "    </tr>\n",
       "    <tr>\n",
       "      <th>2</th>\n",
       "      <td>33</td>\n",
       "      <td>Scottie Pippen</td>\n",
       "    </tr>\n",
       "    <tr>\n",
       "      <th>3</th>\n",
       "      <td>21</td>\n",
       "      <td>Kevin Garnett</td>\n",
       "    </tr>\n",
       "    <tr>\n",
       "      <th>4</th>\n",
       "      <td>21</td>\n",
       "      <td>Tim Duncan</td>\n",
       "    </tr>\n",
       "  </tbody>\n",
       "</table>\n",
       "</div>"
      ],
      "text/plain": [
       "   number            name\n",
       "0      13      Steve Nash\n",
       "1      34     Paul Pierce\n",
       "2      33  Scottie Pippen\n",
       "3      21   Kevin Garnett\n",
       "4      21      Tim Duncan"
      ]
     },
     "execution_count": 43,
     "metadata": {
      "tags": []
     },
     "output_type": "execute_result"
    }
   ],
   "source": [
    "favorite_players = [\"Steve Nash\", \"Paul Pierce\", \"Scottie Pippen\", \"Kevin Garnett\", \"Tim Duncan\"]\n",
    "numbers = [13, 34, 33, 21, 21]\n",
    "players_dict = {\n",
    "    \"name\": favorite_players,\n",
    "    \"number\": numbers\n",
    "}\n",
    "df = pd.DataFrame(players_dict, columns = ['number', \"name\"])\n",
    "df"
   ]
  },
  {
   "cell_type": "code",
   "execution_count": 0,
   "metadata": {
    "colab": {
     "autoexec": {
      "startup": false,
      "wait_interval": 0
     }
    },
    "colab_type": "code",
    "id": "90GNVbPAz0Ny"
   },
   "outputs": [],
   "source": []
  },
  {
   "cell_type": "code",
   "execution_count": 0,
   "metadata": {
    "colab": {
     "autoexec": {
      "startup": false,
      "wait_interval": 0
     },
     "base_uri": "https://localhost:8080/",
     "height": 202
    },
    "colab_type": "code",
    "executionInfo": {
     "elapsed": 761,
     "status": "ok",
     "timestamp": 1528018431003,
     "user": {
      "displayName": "Tony Kuo",
      "photoUrl": "https://lh3.googleusercontent.com/a/default-user=s128",
      "userId": "115283668914988550359"
     },
     "user_tz": -480
    },
    "id": "vdGlBdrn9iij",
    "outputId": "5b26aae3-c208-4262-bbe9-ba92799f885d"
   },
   "outputs": [
    {
     "data": {
      "text/html": [
       "<div>\n",
       "<style scoped>\n",
       "    .dataframe tbody tr th:only-of-type {\n",
       "        vertical-align: middle;\n",
       "    }\n",
       "\n",
       "    .dataframe tbody tr th {\n",
       "        vertical-align: top;\n",
       "    }\n",
       "\n",
       "    .dataframe thead th {\n",
       "        text-align: right;\n",
       "    }\n",
       "</style>\n",
       "<table border=\"1\" class=\"dataframe\">\n",
       "  <thead>\n",
       "    <tr style=\"text-align: right;\">\n",
       "      <th></th>\n",
       "      <th>NUMBER</th>\n",
       "      <th>PLAYER</th>\n",
       "    </tr>\n",
       "  </thead>\n",
       "  <tbody>\n",
       "    <tr>\n",
       "      <th>0</th>\n",
       "      <td>13</td>\n",
       "      <td>Steve Nash</td>\n",
       "    </tr>\n",
       "    <tr>\n",
       "      <th>1</th>\n",
       "      <td>34</td>\n",
       "      <td>Paul Pierce</td>\n",
       "    </tr>\n",
       "    <tr>\n",
       "      <th>2</th>\n",
       "      <td>33</td>\n",
       "      <td>Scottie Pippen</td>\n",
       "    </tr>\n",
       "    <tr>\n",
       "      <th>3</th>\n",
       "      <td>21</td>\n",
       "      <td>Kevin Garnett</td>\n",
       "    </tr>\n",
       "    <tr>\n",
       "      <th>4</th>\n",
       "      <td>21</td>\n",
       "      <td>Tim Duncan</td>\n",
       "    </tr>\n",
       "  </tbody>\n",
       "</table>\n",
       "</div>"
      ],
      "text/plain": [
       "   NUMBER          PLAYER\n",
       "0      13      Steve Nash\n",
       "1      34     Paul Pierce\n",
       "2      33  Scottie Pippen\n",
       "3      21   Kevin Garnett\n",
       "4      21      Tim Duncan"
      ]
     },
     "execution_count": 45,
     "metadata": {
      "tags": []
     },
     "output_type": "execute_result"
    }
   ],
   "source": [
    "df.columns = ['NUMBER', 'PLAYER'] \n",
    "df"
   ]
  },
  {
   "cell_type": "markdown",
   "metadata": {
    "colab_type": "text",
    "id": "XjGd9zMJ9H_D"
   },
   "source": [
    "### pandas DataFrame 解構\n",
    "\n",
    "- DataFrame\n",
    "  - 多個 Series\n",
    "    - index + ndarray\n",
    "      - 多個 scalar（變數）"
   ]
  },
  {
   "cell_type": "code",
   "execution_count": 0,
   "metadata": {
    "colab": {
     "autoexec": {
      "startup": false,
      "wait_interval": 0
     },
     "base_uri": "https://localhost:8080/",
     "height": 202
    },
    "colab_type": "code",
    "executionInfo": {
     "elapsed": 645,
     "status": "ok",
     "timestamp": 1528017427359,
     "user": {
      "displayName": "Tony Kuo",
      "photoUrl": "https://lh3.googleusercontent.com/a/default-user=s128",
      "userId": "115283668914988550359"
     },
     "user_tz": -480
    },
    "id": "h3P2UB-_7IsH",
    "outputId": "e32cbda8-269b-41b8-d9dc-e7ba6d052899"
   },
   "outputs": [
    {
     "data": {
      "text/html": [
       "<div>\n",
       "<style scoped>\n",
       "    .dataframe tbody tr th:only-of-type {\n",
       "        vertical-align: middle;\n",
       "    }\n",
       "\n",
       "    .dataframe tbody tr th {\n",
       "        vertical-align: top;\n",
       "    }\n",
       "\n",
       "    .dataframe thead th {\n",
       "        text-align: right;\n",
       "    }\n",
       "</style>\n",
       "<table border=\"1\" class=\"dataframe\">\n",
       "  <thead>\n",
       "    <tr style=\"text-align: right;\">\n",
       "      <th></th>\n",
       "      <th>number</th>\n",
       "      <th>name</th>\n",
       "    </tr>\n",
       "  </thead>\n",
       "  <tbody>\n",
       "    <tr>\n",
       "      <th>0</th>\n",
       "      <td>13</td>\n",
       "      <td>Steve Nash</td>\n",
       "    </tr>\n",
       "    <tr>\n",
       "      <th>1</th>\n",
       "      <td>34</td>\n",
       "      <td>Paul Pierce</td>\n",
       "    </tr>\n",
       "    <tr>\n",
       "      <th>2</th>\n",
       "      <td>33</td>\n",
       "      <td>Scottie Pippen</td>\n",
       "    </tr>\n",
       "    <tr>\n",
       "      <th>3</th>\n",
       "      <td>21</td>\n",
       "      <td>Kevin Garnett</td>\n",
       "    </tr>\n",
       "    <tr>\n",
       "      <th>4</th>\n",
       "      <td>21</td>\n",
       "      <td>Tim Duncan</td>\n",
       "    </tr>\n",
       "  </tbody>\n",
       "</table>\n",
       "</div>"
      ],
      "text/plain": [
       "   number            name\n",
       "0      13      Steve Nash\n",
       "1      34     Paul Pierce\n",
       "2      33  Scottie Pippen\n",
       "3      21   Kevin Garnett\n",
       "4      21      Tim Duncan"
      ]
     },
     "execution_count": 31,
     "metadata": {
      "tags": []
     },
     "output_type": "execute_result"
    }
   ],
   "source": [
    "df"
   ]
  },
  {
   "cell_type": "code",
   "execution_count": 0,
   "metadata": {
    "colab": {
     "autoexec": {
      "startup": false,
      "wait_interval": 0
     },
     "base_uri": "https://localhost:8080/",
     "height": 35
    },
    "colab_type": "code",
    "executionInfo": {
     "elapsed": 616,
     "status": "ok",
     "timestamp": 1528017595560,
     "user": {
      "displayName": "Tony Kuo",
      "photoUrl": "https://lh3.googleusercontent.com/a/default-user=s128",
      "userId": "115283668914988550359"
     },
     "user_tz": -480
    },
    "id": "u3rrjeup7imk",
    "outputId": "5f069ff5-eace-4ba0-86b9-92098e8f4e63"
   },
   "outputs": [
    {
     "data": {
      "text/plain": [
       "pandas.core.series.Series"
      ]
     },
     "execution_count": 33,
     "metadata": {
      "tags": []
     },
     "output_type": "execute_result"
    }
   ],
   "source": [
    "type(df[\"number\"])"
   ]
  },
  {
   "cell_type": "code",
   "execution_count": 0,
   "metadata": {
    "colab": {
     "autoexec": {
      "startup": false,
      "wait_interval": 0
     },
     "base_uri": "https://localhost:8080/",
     "height": 69
    },
    "colab_type": "code",
    "executionInfo": {
     "elapsed": 763,
     "status": "ok",
     "timestamp": 1528017887969,
     "user": {
      "displayName": "Tony Kuo",
      "photoUrl": "https://lh3.googleusercontent.com/a/default-user=s128",
      "userId": "115283668914988550359"
     },
     "user_tz": -480
    },
    "id": "dU98YgQm8xji",
    "outputId": "82f7c791-8447-49d1-b1ed-0d8b00b61781"
   },
   "outputs": [
    {
     "data": {
      "text/plain": [
       "number     int64\n",
       "name      object\n",
       "dtype: object"
      ]
     },
     "execution_count": 37,
     "metadata": {
      "tags": []
     },
     "output_type": "execute_result"
    }
   ],
   "source": [
    "df.dtypes"
   ]
  },
  {
   "cell_type": "code",
   "execution_count": 0,
   "metadata": {
    "colab": {
     "autoexec": {
      "startup": false,
      "wait_interval": 0
     },
     "base_uri": "https://localhost:8080/",
     "height": 35
    },
    "colab_type": "code",
    "executionInfo": {
     "elapsed": 633,
     "status": "ok",
     "timestamp": 1528018083548,
     "user": {
      "displayName": "Tony Kuo",
      "photoUrl": "https://lh3.googleusercontent.com/a/default-user=s128",
      "userId": "115283668914988550359"
     },
     "user_tz": -480
    },
    "id": "pmk2Qf959p9h",
    "outputId": "0ef101fa-53dc-4c9d-fce6-8b0315f89dae"
   },
   "outputs": [
    {
     "data": {
      "text/plain": [
       "dtype('<U21')"
      ]
     },
     "execution_count": 38,
     "metadata": {
      "tags": []
     },
     "output_type": "execute_result"
    }
   ],
   "source": [
    "import numpy as np\n",
    "\n",
    "arr = np.array([\n",
    "    [13, \"Steve Nash\"],\n",
    "    [34, \"Paul Pierce\"],\n",
    "    [33, \"Scottie Pippen\"],\n",
    "    [21, \"Kevin Garnett\"],\n",
    "    [21, \"Tim Duncan\"]\n",
    "])\n",
    "arr.dtype"
   ]
  },
  {
   "cell_type": "code",
   "execution_count": 0,
   "metadata": {
    "colab": {
     "autoexec": {
      "startup": false,
      "wait_interval": 0
     },
     "base_uri": "https://localhost:8080/",
     "height": 202
    },
    "colab_type": "code",
    "executionInfo": {
     "elapsed": 666,
     "status": "ok",
     "timestamp": 1528018244204,
     "user": {
      "displayName": "Tony Kuo",
      "photoUrl": "https://lh3.googleusercontent.com/a/default-user=s128",
      "userId": "115283668914988550359"
     },
     "user_tz": -480
    },
    "id": "9vzyadjQ-ZvM",
    "outputId": "af062c1f-d69c-42b3-e933-18e0f1cf2f8f"
   },
   "outputs": [
    {
     "data": {
      "text/html": [
       "<div>\n",
       "<style scoped>\n",
       "    .dataframe tbody tr th:only-of-type {\n",
       "        vertical-align: middle;\n",
       "    }\n",
       "\n",
       "    .dataframe tbody tr th {\n",
       "        vertical-align: top;\n",
       "    }\n",
       "\n",
       "    .dataframe thead th {\n",
       "        text-align: right;\n",
       "    }\n",
       "</style>\n",
       "<table border=\"1\" class=\"dataframe\">\n",
       "  <thead>\n",
       "    <tr style=\"text-align: right;\">\n",
       "      <th></th>\n",
       "      <th>number</th>\n",
       "      <th>player</th>\n",
       "    </tr>\n",
       "  </thead>\n",
       "  <tbody>\n",
       "    <tr>\n",
       "      <th>0</th>\n",
       "      <td>13</td>\n",
       "      <td>Steve Nash</td>\n",
       "    </tr>\n",
       "    <tr>\n",
       "      <th>1</th>\n",
       "      <td>34</td>\n",
       "      <td>Paul Pierce</td>\n",
       "    </tr>\n",
       "    <tr>\n",
       "      <th>2</th>\n",
       "      <td>33</td>\n",
       "      <td>Scottie Pippen</td>\n",
       "    </tr>\n",
       "    <tr>\n",
       "      <th>3</th>\n",
       "      <td>21</td>\n",
       "      <td>Kevin Garnett</td>\n",
       "    </tr>\n",
       "    <tr>\n",
       "      <th>4</th>\n",
       "      <td>21</td>\n",
       "      <td>Tim Duncan</td>\n",
       "    </tr>\n",
       "  </tbody>\n",
       "</table>\n",
       "</div>"
      ],
      "text/plain": [
       "  number          player\n",
       "0     13      Steve Nash\n",
       "1     34     Paul Pierce\n",
       "2     33  Scottie Pippen\n",
       "3     21   Kevin Garnett\n",
       "4     21      Tim Duncan"
      ]
     },
     "execution_count": 41,
     "metadata": {
      "tags": []
     },
     "output_type": "execute_result"
    }
   ],
   "source": [
    "df = pd.DataFrame(arr, columns=['number', 'player'])\n",
    "df"
   ]
  },
  {
   "cell_type": "code",
   "execution_count": 0,
   "metadata": {
    "colab": {
     "autoexec": {
      "startup": false,
      "wait_interval": 0
     },
     "base_uri": "https://localhost:8080/",
     "height": 69
    },
    "colab_type": "code",
    "executionInfo": {
     "elapsed": 706,
     "status": "ok",
     "timestamp": 1528018252322,
     "user": {
      "displayName": "Tony Kuo",
      "photoUrl": "https://lh3.googleusercontent.com/a/default-user=s128",
      "userId": "115283668914988550359"
     },
     "user_tz": -480
    },
    "id": "QsywMzlc-isc",
    "outputId": "fd0c9477-1cd8-4b7e-f5a3-865c6747b5ac"
   },
   "outputs": [
    {
     "data": {
      "text/plain": [
       "number    object\n",
       "player    object\n",
       "dtype: object"
      ]
     },
     "execution_count": 42,
     "metadata": {
      "tags": []
     },
     "output_type": "execute_result"
    }
   ],
   "source": [
    "df.dtypes"
   ]
  },
  {
   "cell_type": "markdown",
   "metadata": {
    "colab_type": "text",
    "id": "JouoJ5S0SHGZ"
   },
   "source": [
    "### 基本的 DataFrame Operation\n",
    "\n",
    "1. select\n",
    "2. filter\n",
    "3. mutate\n",
    "4. arrange\n",
    "5. summarize\n",
    "6. groupby"
   ]
  },
  {
   "cell_type": "markdown",
   "metadata": {
    "colab_type": "text",
    "id": "7sv5WD2iDZZX"
   },
   "source": [
    "#### 從 DataFrame 中選擇元素\n",
    "\n",
    "- 選變數（選欄位）\n",
    "  - df[\"col\"]\n",
    "  - df.col\n",
    "- 選觀測值（選列）\n",
    "  - df.loc[]\n",
    "  - df.iloc[]\n",
    "  - 給判斷條件"
   ]
  },
  {
   "cell_type": "code",
   "execution_count": 0,
   "metadata": {
    "colab": {
     "autoexec": {
      "startup": false,
      "wait_interval": 0
     },
     "base_uri": "https://localhost:8080/",
     "height": 121
    },
    "colab_type": "code",
    "executionInfo": {
     "elapsed": 767,
     "status": "ok",
     "timestamp": 1528019488943,
     "user": {
      "displayName": "Tony Kuo",
      "photoUrl": "https://lh3.googleusercontent.com/a/default-user=s128",
      "userId": "115283668914988550359"
     },
     "user_tz": -480
    },
    "id": "_S8QXE6y-pcz",
    "outputId": "7f376db1-24d3-4805-f26f-6acc2cba19bb"
   },
   "outputs": [
    {
     "data": {
      "text/plain": [
       "0     0\n",
       "1    34\n",
       "2    33\n",
       "3    21\n",
       "4    21\n",
       "Name: NUMBER, dtype: int64"
      ]
     },
     "execution_count": 51,
     "metadata": {
      "tags": []
     },
     "output_type": "execute_result"
    }
   ],
   "source": [
    "df[\"NUMBER\"]"
   ]
  },
  {
   "cell_type": "code",
   "execution_count": 0,
   "metadata": {
    "colab": {
     "autoexec": {
      "startup": false,
      "wait_interval": 0
     },
     "base_uri": "https://localhost:8080/",
     "height": 121
    },
    "colab_type": "code",
    "executionInfo": {
     "elapsed": 717,
     "status": "ok",
     "timestamp": 1528019502342,
     "user": {
      "displayName": "Tony Kuo",
      "photoUrl": "https://lh3.googleusercontent.com/a/default-user=s128",
      "userId": "115283668914988550359"
     },
     "user_tz": -480
    },
    "id": "c1GL4shzDt5h",
    "outputId": "e7f0e879-5b49-484b-b075-a67d16bef12d"
   },
   "outputs": [
    {
     "data": {
      "text/plain": [
       "0        Steve Nash\n",
       "1       Paul Pierce\n",
       "2    Scottie Pippen\n",
       "3     Kevin Garnett\n",
       "4        Tim Duncan\n",
       "Name: PLAYER, dtype: object"
      ]
     },
     "execution_count": 52,
     "metadata": {
      "tags": []
     },
     "output_type": "execute_result"
    }
   ],
   "source": [
    "df[\"PLAYER\"]"
   ]
  },
  {
   "cell_type": "code",
   "execution_count": 0,
   "metadata": {
    "colab": {
     "autoexec": {
      "startup": false,
      "wait_interval": 0
     },
     "base_uri": "https://localhost:8080/",
     "height": 121
    },
    "colab_type": "code",
    "executionInfo": {
     "elapsed": 619,
     "status": "ok",
     "timestamp": 1528019525634,
     "user": {
      "displayName": "Tony Kuo",
      "photoUrl": "https://lh3.googleusercontent.com/a/default-user=s128",
      "userId": "115283668914988550359"
     },
     "user_tz": -480
    },
    "id": "8e_35pTgD0Ge",
    "outputId": "b0054caf-b8dc-4ae2-be50-f7ac102b00ff"
   },
   "outputs": [
    {
     "data": {
      "text/plain": [
       "0     0\n",
       "1    34\n",
       "2    33\n",
       "3    21\n",
       "4    21\n",
       "Name: NUMBER, dtype: int64"
      ]
     },
     "execution_count": 53,
     "metadata": {
      "tags": []
     },
     "output_type": "execute_result"
    }
   ],
   "source": [
    "df.NUMBER"
   ]
  },
  {
   "cell_type": "code",
   "execution_count": 0,
   "metadata": {
    "colab": {
     "autoexec": {
      "startup": false,
      "wait_interval": 0
     },
     "base_uri": "https://localhost:8080/",
     "height": 121
    },
    "colab_type": "code",
    "executionInfo": {
     "elapsed": 502,
     "status": "ok",
     "timestamp": 1528019538970,
     "user": {
      "displayName": "Tony Kuo",
      "photoUrl": "https://lh3.googleusercontent.com/a/default-user=s128",
      "userId": "115283668914988550359"
     },
     "user_tz": -480
    },
    "id": "2gLcYja4D5zn",
    "outputId": "3d2ba4fc-3551-4a50-b3e4-7999116d8967"
   },
   "outputs": [
    {
     "data": {
      "text/plain": [
       "0        Steve Nash\n",
       "1       Paul Pierce\n",
       "2    Scottie Pippen\n",
       "3     Kevin Garnett\n",
       "4        Tim Duncan\n",
       "Name: PLAYER, dtype: object"
      ]
     },
     "execution_count": 54,
     "metadata": {
      "tags": []
     },
     "output_type": "execute_result"
    }
   ],
   "source": [
    "df.PLAYER"
   ]
  },
  {
   "cell_type": "code",
   "execution_count": 0,
   "metadata": {
    "colab": {
     "autoexec": {
      "startup": false,
      "wait_interval": 0
     },
     "base_uri": "https://localhost:8080/",
     "height": 141
    },
    "colab_type": "code",
    "executionInfo": {
     "elapsed": 650,
     "status": "ok",
     "timestamp": 1528019945697,
     "user": {
      "displayName": "Tony Kuo",
      "photoUrl": "https://lh3.googleusercontent.com/a/default-user=s128",
      "userId": "115283668914988550359"
     },
     "user_tz": -480
    },
    "id": "p3lTmOrjD9GL",
    "outputId": "59727aca-d3e4-4e08-b042-16ff0d717761"
   },
   "outputs": [
    {
     "data": {
      "text/html": [
       "<div>\n",
       "<style scoped>\n",
       "    .dataframe tbody tr th:only-of-type {\n",
       "        vertical-align: middle;\n",
       "    }\n",
       "\n",
       "    .dataframe tbody tr th {\n",
       "        vertical-align: top;\n",
       "    }\n",
       "\n",
       "    .dataframe thead th {\n",
       "        text-align: right;\n",
       "    }\n",
       "</style>\n",
       "<table border=\"1\" class=\"dataframe\">\n",
       "  <thead>\n",
       "    <tr style=\"text-align: right;\">\n",
       "      <th></th>\n",
       "      <th>NUMBER</th>\n",
       "      <th>PLAYER</th>\n",
       "    </tr>\n",
       "  </thead>\n",
       "  <tbody>\n",
       "    <tr>\n",
       "      <th>0</th>\n",
       "      <td>0</td>\n",
       "      <td>Steve Nash</td>\n",
       "    </tr>\n",
       "    <tr>\n",
       "      <th>2</th>\n",
       "      <td>33</td>\n",
       "      <td>Scottie Pippen</td>\n",
       "    </tr>\n",
       "    <tr>\n",
       "      <th>3</th>\n",
       "      <td>21</td>\n",
       "      <td>Kevin Garnett</td>\n",
       "    </tr>\n",
       "  </tbody>\n",
       "</table>\n",
       "</div>"
      ],
      "text/plain": [
       "   NUMBER          PLAYER\n",
       "0       0      Steve Nash\n",
       "2      33  Scottie Pippen\n",
       "3      21   Kevin Garnett"
      ]
     },
     "execution_count": 58,
     "metadata": {
      "tags": []
     },
     "output_type": "execute_result"
    }
   ],
   "source": [
    "df.loc[[0, 2, 3], :]"
   ]
  },
  {
   "cell_type": "code",
   "execution_count": 0,
   "metadata": {
    "colab": {
     "autoexec": {
      "startup": false,
      "wait_interval": 0
     }
    },
    "colab_type": "code",
    "id": "1p7rv3XlE2Om"
   },
   "outputs": [],
   "source": [
    "is_21 = df[\"NUMBER\"] == 21"
   ]
  },
  {
   "cell_type": "code",
   "execution_count": 0,
   "metadata": {
    "colab": {
     "autoexec": {
      "startup": false,
      "wait_interval": 0
     },
     "base_uri": "https://localhost:8080/",
     "height": 110
    },
    "colab_type": "code",
    "executionInfo": {
     "elapsed": 782,
     "status": "ok",
     "timestamp": 1528020051542,
     "user": {
      "displayName": "Tony Kuo",
      "photoUrl": "https://lh3.googleusercontent.com/a/default-user=s128",
      "userId": "115283668914988550359"
     },
     "user_tz": -480
    },
    "id": "-P9C4bhdFyRr",
    "outputId": "2c3e9abf-4e1e-4db1-f9d6-c3eadc887f19"
   },
   "outputs": [
    {
     "data": {
      "text/html": [
       "<div>\n",
       "<style scoped>\n",
       "    .dataframe tbody tr th:only-of-type {\n",
       "        vertical-align: middle;\n",
       "    }\n",
       "\n",
       "    .dataframe tbody tr th {\n",
       "        vertical-align: top;\n",
       "    }\n",
       "\n",
       "    .dataframe thead th {\n",
       "        text-align: right;\n",
       "    }\n",
       "</style>\n",
       "<table border=\"1\" class=\"dataframe\">\n",
       "  <thead>\n",
       "    <tr style=\"text-align: right;\">\n",
       "      <th></th>\n",
       "      <th>NUMBER</th>\n",
       "      <th>PLAYER</th>\n",
       "    </tr>\n",
       "  </thead>\n",
       "  <tbody>\n",
       "    <tr>\n",
       "      <th>3</th>\n",
       "      <td>21</td>\n",
       "      <td>Kevin Garnett</td>\n",
       "    </tr>\n",
       "    <tr>\n",
       "      <th>4</th>\n",
       "      <td>21</td>\n",
       "      <td>Tim Duncan</td>\n",
       "    </tr>\n",
       "  </tbody>\n",
       "</table>\n",
       "</div>"
      ],
      "text/plain": [
       "   NUMBER         PLAYER\n",
       "3      21  Kevin Garnett\n",
       "4      21     Tim Duncan"
      ]
     },
     "execution_count": 61,
     "metadata": {
      "tags": []
     },
     "output_type": "execute_result"
    }
   ],
   "source": [
    "df[is_21]"
   ]
  },
  {
   "cell_type": "code",
   "execution_count": 0,
   "metadata": {
    "colab": {
     "autoexec": {
      "startup": false,
      "wait_interval": 0
     },
     "base_uri": "https://localhost:8080/",
     "height": 202
    },
    "colab_type": "code",
    "executionInfo": {
     "elapsed": 774,
     "status": "ok",
     "timestamp": 1528020171409,
     "user": {
      "displayName": "Tony Kuo",
      "photoUrl": "https://lh3.googleusercontent.com/a/default-user=s128",
      "userId": "115283668914988550359"
     },
     "user_tz": -480
    },
    "id": "aQS7Ml_EFzk7",
    "outputId": "5145d281-2154-4543-9c04-cabd1e65f6e1"
   },
   "outputs": [
    {
     "data": {
      "text/html": [
       "<div>\n",
       "<style scoped>\n",
       "    .dataframe tbody tr th:only-of-type {\n",
       "        vertical-align: middle;\n",
       "    }\n",
       "\n",
       "    .dataframe tbody tr th {\n",
       "        vertical-align: top;\n",
       "    }\n",
       "\n",
       "    .dataframe thead th {\n",
       "        text-align: right;\n",
       "    }\n",
       "</style>\n",
       "<table border=\"1\" class=\"dataframe\">\n",
       "  <thead>\n",
       "    <tr style=\"text-align: right;\">\n",
       "      <th></th>\n",
       "      <th>number</th>\n",
       "      <th>name</th>\n",
       "    </tr>\n",
       "  </thead>\n",
       "  <tbody>\n",
       "    <tr>\n",
       "      <th>3</th>\n",
       "      <td>13</td>\n",
       "      <td>Steve Nash</td>\n",
       "    </tr>\n",
       "    <tr>\n",
       "      <th>4</th>\n",
       "      <td>34</td>\n",
       "      <td>Paul Pierce</td>\n",
       "    </tr>\n",
       "    <tr>\n",
       "      <th>0</th>\n",
       "      <td>33</td>\n",
       "      <td>Scottie Pippen</td>\n",
       "    </tr>\n",
       "    <tr>\n",
       "      <th>1</th>\n",
       "      <td>21</td>\n",
       "      <td>Kevin Garnett</td>\n",
       "    </tr>\n",
       "    <tr>\n",
       "      <th>2</th>\n",
       "      <td>21</td>\n",
       "      <td>Tim Duncan</td>\n",
       "    </tr>\n",
       "  </tbody>\n",
       "</table>\n",
       "</div>"
      ],
      "text/plain": [
       "   number            name\n",
       "3      13      Steve Nash\n",
       "4      34     Paul Pierce\n",
       "0      33  Scottie Pippen\n",
       "1      21   Kevin Garnett\n",
       "2      21      Tim Duncan"
      ]
     },
     "execution_count": 62,
     "metadata": {
      "tags": []
     },
     "output_type": "execute_result"
    }
   ],
   "source": [
    "favorite_players = [\"Steve Nash\", \"Paul Pierce\", \"Scottie Pippen\", \"Kevin Garnett\", \"Tim Duncan\"]\n",
    "numbers = [13, 34, 33, 21, 21]\n",
    "players_dict = {\n",
    "    \"name\": favorite_players,\n",
    "    \"number\": numbers\n",
    "}\n",
    "df = pd.DataFrame(players_dict, columns = ['number', \"name\"], \n",
    "                 index = [3, 4, 0, 1, 2])\n",
    "df"
   ]
  },
  {
   "cell_type": "code",
   "execution_count": 0,
   "metadata": {
    "colab": {
     "autoexec": {
      "startup": false,
      "wait_interval": 0
     },
     "base_uri": "https://localhost:8080/",
     "height": 87
    },
    "colab_type": "code",
    "executionInfo": {
     "elapsed": 580,
     "status": "ok",
     "timestamp": 1528020455539,
     "user": {
      "displayName": "Tony Kuo",
      "photoUrl": "https://lh3.googleusercontent.com/a/default-user=s128",
      "userId": "115283668914988550359"
     },
     "user_tz": -480
    },
    "id": "95kuoIu8GXbs",
    "outputId": "56e47ade-e7dc-4abc-afc4-cabb1583511a"
   },
   "outputs": [
    {
     "data": {
      "text/plain": [
       "0    Scottie Pippen\n",
       "1     Kevin Garnett\n",
       "2        Tim Duncan\n",
       "Name: name, dtype: object"
      ]
     },
     "execution_count": 69,
     "metadata": {
      "tags": []
     },
     "output_type": "execute_result"
    }
   ],
   "source": [
    "df.loc[[0, 1, 2], \"name\"]"
   ]
  },
  {
   "cell_type": "code",
   "execution_count": 0,
   "metadata": {
    "colab": {
     "autoexec": {
      "startup": false,
      "wait_interval": 0
     },
     "base_uri": "https://localhost:8080/",
     "height": 87
    },
    "colab_type": "code",
    "executionInfo": {
     "elapsed": 618,
     "status": "ok",
     "timestamp": 1528020418532,
     "user": {
      "displayName": "Tony Kuo",
      "photoUrl": "https://lh3.googleusercontent.com/a/default-user=s128",
      "userId": "115283668914988550359"
     },
     "user_tz": -480
    },
    "id": "umsA6G72G0_L",
    "outputId": "2ef14760-6d8d-490d-afe5-2ae4ced2ce02"
   },
   "outputs": [
    {
     "data": {
      "text/plain": [
       "3        Steve Nash\n",
       "4       Paul Pierce\n",
       "0    Scottie Pippen\n",
       "Name: name, dtype: object"
      ]
     },
     "execution_count": 67,
     "metadata": {
      "tags": []
     },
     "output_type": "execute_result"
    }
   ],
   "source": [
    "df.iloc[[0, 1, 2], 1]"
   ]
  },
  {
   "cell_type": "code",
   "execution_count": 0,
   "metadata": {
    "colab": {
     "autoexec": {
      "startup": false,
      "wait_interval": 0
     },
     "base_uri": "https://localhost:8080/",
     "height": 202
    },
    "colab_type": "code",
    "executionInfo": {
     "elapsed": 519,
     "status": "ok",
     "timestamp": 1528020701080,
     "user": {
      "displayName": "Tony Kuo",
      "photoUrl": "https://lh3.googleusercontent.com/a/default-user=s128",
      "userId": "115283668914988550359"
     },
     "user_tz": -480
    },
    "id": "LF4URCf2HD6d",
    "outputId": "7b48174e-b29f-4a6e-accc-0fe8e9924b3a"
   },
   "outputs": [
    {
     "data": {
      "text/html": [
       "<div>\n",
       "<style scoped>\n",
       "    .dataframe tbody tr th:only-of-type {\n",
       "        vertical-align: middle;\n",
       "    }\n",
       "\n",
       "    .dataframe tbody tr th {\n",
       "        vertical-align: top;\n",
       "    }\n",
       "\n",
       "    .dataframe thead th {\n",
       "        text-align: right;\n",
       "    }\n",
       "</style>\n",
       "<table border=\"1\" class=\"dataframe\">\n",
       "  <thead>\n",
       "    <tr style=\"text-align: right;\">\n",
       "      <th></th>\n",
       "      <th>number</th>\n",
       "      <th>name</th>\n",
       "      <th>ring</th>\n",
       "    </tr>\n",
       "  </thead>\n",
       "  <tbody>\n",
       "    <tr>\n",
       "      <th>0</th>\n",
       "      <td>13</td>\n",
       "      <td>Steve Nash</td>\n",
       "      <td>0</td>\n",
       "    </tr>\n",
       "    <tr>\n",
       "      <th>1</th>\n",
       "      <td>34</td>\n",
       "      <td>Paul Pierce</td>\n",
       "      <td>1</td>\n",
       "    </tr>\n",
       "    <tr>\n",
       "      <th>2</th>\n",
       "      <td>33</td>\n",
       "      <td>Scottie Pippen</td>\n",
       "      <td>6</td>\n",
       "    </tr>\n",
       "    <tr>\n",
       "      <th>3</th>\n",
       "      <td>21</td>\n",
       "      <td>Kevin Garnett</td>\n",
       "      <td>1</td>\n",
       "    </tr>\n",
       "    <tr>\n",
       "      <th>4</th>\n",
       "      <td>21</td>\n",
       "      <td>Tim Duncan</td>\n",
       "      <td>5</td>\n",
       "    </tr>\n",
       "  </tbody>\n",
       "</table>\n",
       "</div>"
      ],
      "text/plain": [
       "   number            name  ring\n",
       "0      13      Steve Nash     0\n",
       "1      34     Paul Pierce     1\n",
       "2      33  Scottie Pippen     6\n",
       "3      21   Kevin Garnett     1\n",
       "4      21      Tim Duncan     5"
      ]
     },
     "execution_count": 70,
     "metadata": {
      "tags": []
     },
     "output_type": "execute_result"
    }
   ],
   "source": [
    "favorite_players = [\"Steve Nash\", \"Paul Pierce\", \"Scottie Pippen\", \"Kevin Garnett\", \"Tim Duncan\"]\n",
    "numbers = [13, 34, 33, 21, 21]\n",
    "rings = [0, 1, 6, 1, 5]\n",
    "players_dict = {\n",
    "    \"name\": favorite_players,\n",
    "    \"number\": numbers,\n",
    "    \"ring\": rings\n",
    "}\n",
    "df = pd.DataFrame(players_dict, columns = ['number', \"name\", \"ring\"])\n",
    "df"
   ]
  },
  {
   "cell_type": "code",
   "execution_count": 0,
   "metadata": {
    "colab": {
     "autoexec": {
      "startup": false,
      "wait_interval": 0
     },
     "base_uri": "https://localhost:8080/",
     "height": 141
    },
    "colab_type": "code",
    "executionInfo": {
     "elapsed": 498,
     "status": "ok",
     "timestamp": 1528021959744,
     "user": {
      "displayName": "Tony Kuo",
      "photoUrl": "https://lh3.googleusercontent.com/a/default-user=s128",
      "userId": "115283668914988550359"
     },
     "user_tz": -480
    },
    "id": "dPThxm_3IYzw",
    "outputId": "bebef9aa-f1c5-416d-98a4-133f61fa17d1"
   },
   "outputs": [
    {
     "data": {
      "text/html": [
       "<div>\n",
       "<style scoped>\n",
       "    .dataframe tbody tr th:only-of-type {\n",
       "        vertical-align: middle;\n",
       "    }\n",
       "\n",
       "    .dataframe tbody tr th {\n",
       "        vertical-align: top;\n",
       "    }\n",
       "\n",
       "    .dataframe thead th {\n",
       "        text-align: right;\n",
       "    }\n",
       "</style>\n",
       "<table border=\"1\" class=\"dataframe\">\n",
       "  <thead>\n",
       "    <tr style=\"text-align: right;\">\n",
       "      <th></th>\n",
       "      <th>number</th>\n",
       "      <th>name</th>\n",
       "      <th>ring</th>\n",
       "    </tr>\n",
       "  </thead>\n",
       "  <tbody>\n",
       "    <tr>\n",
       "      <th>0</th>\n",
       "      <td>13</td>\n",
       "      <td>Steve Nash</td>\n",
       "      <td>0</td>\n",
       "    </tr>\n",
       "    <tr>\n",
       "      <th>2</th>\n",
       "      <td>33</td>\n",
       "      <td>Scottie Pippen</td>\n",
       "      <td>6</td>\n",
       "    </tr>\n",
       "    <tr>\n",
       "      <th>4</th>\n",
       "      <td>21</td>\n",
       "      <td>Tim Duncan</td>\n",
       "      <td>5</td>\n",
       "    </tr>\n",
       "  </tbody>\n",
       "</table>\n",
       "</div>"
      ],
      "text/plain": [
       "   number            name  ring\n",
       "0      13      Steve Nash     0\n",
       "2      33  Scottie Pippen     6\n",
       "4      21      Tim Duncan     5"
      ]
     },
     "execution_count": 71,
     "metadata": {
      "tags": []
     },
     "output_type": "execute_result"
    }
   ],
   "source": [
    "# 選出冠軍戒指比 4 個多，比 1 個少的觀測值\n",
    "# 兩種方式選：\n",
    "## iloc, loc\n",
    "df.loc[[0, 2, 4], :]"
   ]
  },
  {
   "cell_type": "code",
   "execution_count": 0,
   "metadata": {
    "colab": {
     "autoexec": {
      "startup": false,
      "wait_interval": 0
     },
     "base_uri": "https://localhost:8080/",
     "height": 141
    },
    "colab_type": "code",
    "executionInfo": {
     "elapsed": 795,
     "status": "ok",
     "timestamp": 1528022216415,
     "user": {
      "displayName": "Tony Kuo",
      "photoUrl": "https://lh3.googleusercontent.com/a/default-user=s128",
      "userId": "115283668914988550359"
     },
     "user_tz": -480
    },
    "id": "LmXcxjCcNMGx",
    "outputId": "ced9d287-2af7-4e34-baa5-13abfd5b4ae1"
   },
   "outputs": [
    {
     "data": {
      "text/html": [
       "<div>\n",
       "<style scoped>\n",
       "    .dataframe tbody tr th:only-of-type {\n",
       "        vertical-align: middle;\n",
       "    }\n",
       "\n",
       "    .dataframe tbody tr th {\n",
       "        vertical-align: top;\n",
       "    }\n",
       "\n",
       "    .dataframe thead th {\n",
       "        text-align: right;\n",
       "    }\n",
       "</style>\n",
       "<table border=\"1\" class=\"dataframe\">\n",
       "  <thead>\n",
       "    <tr style=\"text-align: right;\">\n",
       "      <th></th>\n",
       "      <th>number</th>\n",
       "      <th>name</th>\n",
       "      <th>ring</th>\n",
       "    </tr>\n",
       "  </thead>\n",
       "  <tbody>\n",
       "    <tr>\n",
       "      <th>0</th>\n",
       "      <td>13</td>\n",
       "      <td>Steve Nash</td>\n",
       "      <td>0</td>\n",
       "    </tr>\n",
       "    <tr>\n",
       "      <th>2</th>\n",
       "      <td>33</td>\n",
       "      <td>Scottie Pippen</td>\n",
       "      <td>6</td>\n",
       "    </tr>\n",
       "    <tr>\n",
       "      <th>4</th>\n",
       "      <td>21</td>\n",
       "      <td>Tim Duncan</td>\n",
       "      <td>5</td>\n",
       "    </tr>\n",
       "  </tbody>\n",
       "</table>\n",
       "</div>"
      ],
      "text/plain": [
       "   number            name  ring\n",
       "0      13      Steve Nash     0\n",
       "2      33  Scottie Pippen     6\n",
       "4      21      Tim Duncan     5"
      ]
     },
     "execution_count": 75,
     "metadata": {
      "tags": []
     },
     "output_type": "execute_result"
    }
   ],
   "source": [
    "## 判斷條件\n",
    "ring_filter = (df[\"ring\"] > 4) | (df[\"ring\"] < 1)\n",
    "df[ring_filter]"
   ]
  },
  {
   "cell_type": "code",
   "execution_count": 0,
   "metadata": {
    "colab": {
     "autoexec": {
      "startup": false,
      "wait_interval": 0
     },
     "base_uri": "https://localhost:8080/",
     "height": 141
    },
    "colab_type": "code",
    "executionInfo": {
     "elapsed": 704,
     "status": "ok",
     "timestamp": 1528022243607,
     "user": {
      "displayName": "Tony Kuo",
      "photoUrl": "https://lh3.googleusercontent.com/a/default-user=s128",
      "userId": "115283668914988550359"
     },
     "user_tz": -480
    },
    "id": "B16st6xmNZ4A",
    "outputId": "613051bf-ae92-4b3e-8c5d-784cba52548f"
   },
   "outputs": [
    {
     "data": {
      "text/html": [
       "<div>\n",
       "<style scoped>\n",
       "    .dataframe tbody tr th:only-of-type {\n",
       "        vertical-align: middle;\n",
       "    }\n",
       "\n",
       "    .dataframe tbody tr th {\n",
       "        vertical-align: top;\n",
       "    }\n",
       "\n",
       "    .dataframe thead th {\n",
       "        text-align: right;\n",
       "    }\n",
       "</style>\n",
       "<table border=\"1\" class=\"dataframe\">\n",
       "  <thead>\n",
       "    <tr style=\"text-align: right;\">\n",
       "      <th></th>\n",
       "      <th>number</th>\n",
       "      <th>name</th>\n",
       "      <th>ring</th>\n",
       "    </tr>\n",
       "  </thead>\n",
       "  <tbody>\n",
       "    <tr>\n",
       "      <th>0</th>\n",
       "      <td>13</td>\n",
       "      <td>Steve Nash</td>\n",
       "      <td>0</td>\n",
       "    </tr>\n",
       "    <tr>\n",
       "      <th>2</th>\n",
       "      <td>33</td>\n",
       "      <td>Scottie Pippen</td>\n",
       "      <td>6</td>\n",
       "    </tr>\n",
       "    <tr>\n",
       "      <th>4</th>\n",
       "      <td>21</td>\n",
       "      <td>Tim Duncan</td>\n",
       "      <td>5</td>\n",
       "    </tr>\n",
       "  </tbody>\n",
       "</table>\n",
       "</div>"
      ],
      "text/plain": [
       "   number            name  ring\n",
       "0      13      Steve Nash     0\n",
       "2      33  Scottie Pippen     6\n",
       "4      21      Tim Duncan     5"
      ]
     },
     "execution_count": 76,
     "metadata": {
      "tags": []
     },
     "output_type": "execute_result"
    }
   ],
   "source": [
    "df[(df[\"ring\"] > 4) | (df[\"ring\"] < 1)]"
   ]
  },
  {
   "cell_type": "code",
   "execution_count": 0,
   "metadata": {
    "colab": {
     "autoexec": {
      "startup": false,
      "wait_interval": 0
     },
     "base_uri": "https://localhost:8080/",
     "height": 202
    },
    "colab_type": "code",
    "executionInfo": {
     "elapsed": 890,
     "status": "ok",
     "timestamp": 1528022388663,
     "user": {
      "displayName": "Tony Kuo",
      "photoUrl": "https://lh3.googleusercontent.com/a/default-user=s128",
      "userId": "115283668914988550359"
     },
     "user_tz": -480
    },
    "id": "B6VtZkf0NjDk",
    "outputId": "4d43a706-434a-4f1f-8bf9-cbf1445626ef"
   },
   "outputs": [
    {
     "data": {
      "text/html": [
       "<div>\n",
       "<style scoped>\n",
       "    .dataframe tbody tr th:only-of-type {\n",
       "        vertical-align: middle;\n",
       "    }\n",
       "\n",
       "    .dataframe tbody tr th {\n",
       "        vertical-align: top;\n",
       "    }\n",
       "\n",
       "    .dataframe thead th {\n",
       "        text-align: right;\n",
       "    }\n",
       "</style>\n",
       "<table border=\"1\" class=\"dataframe\">\n",
       "  <thead>\n",
       "    <tr style=\"text-align: right;\">\n",
       "      <th></th>\n",
       "      <th>number</th>\n",
       "      <th>name</th>\n",
       "      <th>ring</th>\n",
       "    </tr>\n",
       "  </thead>\n",
       "  <tbody>\n",
       "    <tr>\n",
       "      <th>0</th>\n",
       "      <td>13</td>\n",
       "      <td>Steve Nash</td>\n",
       "      <td>0</td>\n",
       "    </tr>\n",
       "    <tr>\n",
       "      <th>1</th>\n",
       "      <td>34</td>\n",
       "      <td>Paul Pierce</td>\n",
       "      <td>1</td>\n",
       "    </tr>\n",
       "    <tr>\n",
       "      <th>2</th>\n",
       "      <td>33</td>\n",
       "      <td>Scottie Pippen</td>\n",
       "      <td>6</td>\n",
       "    </tr>\n",
       "    <tr>\n",
       "      <th>3</th>\n",
       "      <td>21</td>\n",
       "      <td>Kevin Garnett</td>\n",
       "      <td>1</td>\n",
       "    </tr>\n",
       "    <tr>\n",
       "      <th>4</th>\n",
       "      <td>21</td>\n",
       "      <td>Tim Duncan</td>\n",
       "      <td>5</td>\n",
       "    </tr>\n",
       "  </tbody>\n",
       "</table>\n",
       "</div>"
      ],
      "text/plain": [
       "   number            name  ring\n",
       "0      13      Steve Nash     0\n",
       "1      34     Paul Pierce     1\n",
       "2      33  Scottie Pippen     6\n",
       "3      21   Kevin Garnett     1\n",
       "4      21      Tim Duncan     5"
      ]
     },
     "execution_count": 77,
     "metadata": {
      "tags": []
     },
     "output_type": "execute_result"
    }
   ],
   "source": [
    "df"
   ]
  },
  {
   "cell_type": "code",
   "execution_count": 0,
   "metadata": {
    "colab": {
     "autoexec": {
      "startup": false,
      "wait_interval": 0
     }
    },
    "colab_type": "code",
    "id": "QhRe2oVRO0uj"
   },
   "outputs": [],
   "source": [
    "df.loc[3, 'number'] = 5"
   ]
  },
  {
   "cell_type": "code",
   "execution_count": 0,
   "metadata": {
    "colab": {
     "autoexec": {
      "startup": false,
      "wait_interval": 0
     },
     "base_uri": "https://localhost:8080/",
     "height": 202
    },
    "colab_type": "code",
    "executionInfo": {
     "elapsed": 524,
     "status": "ok",
     "timestamp": 1528022506084,
     "user": {
      "displayName": "Tony Kuo",
      "photoUrl": "https://lh3.googleusercontent.com/a/default-user=s128",
      "userId": "115283668914988550359"
     },
     "user_tz": -480
    },
    "id": "2ovE8qlJPMrB",
    "outputId": "c5cd447b-1504-4e10-9b0b-5461557bb16e"
   },
   "outputs": [
    {
     "data": {
      "text/html": [
       "<div>\n",
       "<style scoped>\n",
       "    .dataframe tbody tr th:only-of-type {\n",
       "        vertical-align: middle;\n",
       "    }\n",
       "\n",
       "    .dataframe tbody tr th {\n",
       "        vertical-align: top;\n",
       "    }\n",
       "\n",
       "    .dataframe thead th {\n",
       "        text-align: right;\n",
       "    }\n",
       "</style>\n",
       "<table border=\"1\" class=\"dataframe\">\n",
       "  <thead>\n",
       "    <tr style=\"text-align: right;\">\n",
       "      <th></th>\n",
       "      <th>number</th>\n",
       "      <th>name</th>\n",
       "      <th>ring</th>\n",
       "    </tr>\n",
       "  </thead>\n",
       "  <tbody>\n",
       "    <tr>\n",
       "      <th>0</th>\n",
       "      <td>13</td>\n",
       "      <td>Steve Nash</td>\n",
       "      <td>0</td>\n",
       "    </tr>\n",
       "    <tr>\n",
       "      <th>1</th>\n",
       "      <td>34</td>\n",
       "      <td>Paul Pierce</td>\n",
       "      <td>1</td>\n",
       "    </tr>\n",
       "    <tr>\n",
       "      <th>2</th>\n",
       "      <td>33</td>\n",
       "      <td>Scottie Pippen</td>\n",
       "      <td>6</td>\n",
       "    </tr>\n",
       "    <tr>\n",
       "      <th>3</th>\n",
       "      <td>5</td>\n",
       "      <td>Kevin Garnett</td>\n",
       "      <td>1</td>\n",
       "    </tr>\n",
       "    <tr>\n",
       "      <th>4</th>\n",
       "      <td>21</td>\n",
       "      <td>Tim Duncan</td>\n",
       "      <td>5</td>\n",
       "    </tr>\n",
       "  </tbody>\n",
       "</table>\n",
       "</div>"
      ],
      "text/plain": [
       "   number            name  ring\n",
       "0      13      Steve Nash     0\n",
       "1      34     Paul Pierce     1\n",
       "2      33  Scottie Pippen     6\n",
       "3       5   Kevin Garnett     1\n",
       "4      21      Tim Duncan     5"
      ]
     },
     "execution_count": 80,
     "metadata": {
      "tags": []
     },
     "output_type": "execute_result"
    }
   ],
   "source": [
    "df"
   ]
  },
  {
   "cell_type": "code",
   "execution_count": 0,
   "metadata": {
    "colab": {
     "autoexec": {
      "startup": false,
      "wait_interval": 0
     },
     "base_uri": "https://localhost:8080/",
     "height": 35
    },
    "colab_type": "code",
    "executionInfo": {
     "elapsed": 495,
     "status": "ok",
     "timestamp": 1528022565861,
     "user": {
      "displayName": "Tony Kuo",
      "photoUrl": "https://lh3.googleusercontent.com/a/default-user=s128",
      "userId": "115283668914988550359"
     },
     "user_tz": -480
    },
    "id": "ahh30x6mPRfk",
    "outputId": "1566c62a-91cf-4321-93b8-7370acac0ea5"
   },
   "outputs": [
    {
     "data": {
      "text/plain": [
       "False"
      ]
     },
     "execution_count": 81,
     "metadata": {
      "tags": []
     },
     "output_type": "execute_result"
    }
   ],
   "source": [
    "True & False"
   ]
  },
  {
   "cell_type": "code",
   "execution_count": 0,
   "metadata": {
    "colab": {
     "autoexec": {
      "startup": false,
      "wait_interval": 0
     },
     "base_uri": "https://localhost:8080/",
     "height": 35
    },
    "colab_type": "code",
    "executionInfo": {
     "elapsed": 579,
     "status": "ok",
     "timestamp": 1528022574752,
     "user": {
      "displayName": "Tony Kuo",
      "photoUrl": "https://lh3.googleusercontent.com/a/default-user=s128",
      "userId": "115283668914988550359"
     },
     "user_tz": -480
    },
    "id": "KWBAmsI4PgFK",
    "outputId": "15d931ed-c79b-40e4-8971-9a50d8d2021d"
   },
   "outputs": [
    {
     "data": {
      "text/plain": [
       "False"
      ]
     },
     "execution_count": 82,
     "metadata": {
      "tags": []
     },
     "output_type": "execute_result"
    }
   ],
   "source": [
    "True and False"
   ]
  },
  {
   "cell_type": "code",
   "execution_count": 0,
   "metadata": {
    "colab": {
     "autoexec": {
      "startup": false,
      "wait_interval": 0
     },
     "base_uri": "https://localhost:8080/",
     "height": 35
    },
    "colab_type": "code",
    "executionInfo": {
     "elapsed": 672,
     "status": "ok",
     "timestamp": 1528022586723,
     "user": {
      "displayName": "Tony Kuo",
      "photoUrl": "https://lh3.googleusercontent.com/a/default-user=s128",
      "userId": "115283668914988550359"
     },
     "user_tz": -480
    },
    "id": "Oek_PxB1PiOj",
    "outputId": "0acb9d48-7bb6-4ee3-c866-239f41eb0fcb"
   },
   "outputs": [
    {
     "data": {
      "text/plain": [
       "True"
      ]
     },
     "execution_count": 83,
     "metadata": {
      "tags": []
     },
     "output_type": "execute_result"
    }
   ],
   "source": [
    "True | False"
   ]
  },
  {
   "cell_type": "code",
   "execution_count": 0,
   "metadata": {
    "colab": {
     "autoexec": {
      "startup": false,
      "wait_interval": 0
     },
     "base_uri": "https://localhost:8080/",
     "height": 35
    },
    "colab_type": "code",
    "executionInfo": {
     "elapsed": 4614,
     "status": "ok",
     "timestamp": 1528022597158,
     "user": {
      "displayName": "Tony Kuo",
      "photoUrl": "https://lh3.googleusercontent.com/a/default-user=s128",
      "userId": "115283668914988550359"
     },
     "user_tz": -480
    },
    "id": "A8qyeh_yPlId",
    "outputId": "6c46ea46-b951-497b-82c2-d54dc341eff0"
   },
   "outputs": [
    {
     "data": {
      "text/plain": [
       "True"
      ]
     },
     "execution_count": 84,
     "metadata": {
      "tags": []
     },
     "output_type": "execute_result"
    }
   ],
   "source": [
    "True or False"
   ]
  },
  {
   "cell_type": "code",
   "execution_count": 0,
   "metadata": {
    "colab": {
     "autoexec": {
      "startup": false,
      "wait_interval": 0
     },
     "base_uri": "https://localhost:8080/",
     "height": 52
    },
    "colab_type": "code",
    "executionInfo": {
     "elapsed": 704,
     "status": "ok",
     "timestamp": 1528022924531,
     "user": {
      "displayName": "Tony Kuo",
      "photoUrl": "https://lh3.googleusercontent.com/a/default-user=s128",
      "userId": "115283668914988550359"
     },
     "user_tz": -480
    },
    "id": "PcR_hfmZPmtz",
    "outputId": "c4bf262c-2db3-4c79-f90b-3c5d5d5c843f"
   },
   "outputs": [
    {
     "name": "stdout",
     "output_type": "stream",
     "text": [
      "[False False  True False  True]\n",
      "[ True False False False False]\n"
     ]
    }
   ],
   "source": [
    "arr_1 = df[\"ring\"].values > 4\n",
    "arr_2 = df[\"ring\"].values < 1\n",
    "print(arr_1)\n",
    "print(arr_2)"
   ]
  },
  {
   "cell_type": "code",
   "execution_count": 0,
   "metadata": {
    "colab": {
     "autoexec": {
      "startup": false,
      "wait_interval": 0
     },
     "base_uri": "https://localhost:8080/",
     "height": 141
    },
    "colab_type": "code",
    "executionInfo": {
     "elapsed": 941,
     "status": "ok",
     "timestamp": 1528023086981,
     "user": {
      "displayName": "Tony Kuo",
      "photoUrl": "https://lh3.googleusercontent.com/a/default-user=s128",
      "userId": "115283668914988550359"
     },
     "user_tz": -480
    },
    "id": "oizSyIWIPtqg",
    "outputId": "1de64634-4520-49ce-da02-069f2516d02c"
   },
   "outputs": [
    {
     "data": {
      "text/html": [
       "<div>\n",
       "<style scoped>\n",
       "    .dataframe tbody tr th:only-of-type {\n",
       "        vertical-align: middle;\n",
       "    }\n",
       "\n",
       "    .dataframe tbody tr th {\n",
       "        vertical-align: top;\n",
       "    }\n",
       "\n",
       "    .dataframe thead th {\n",
       "        text-align: right;\n",
       "    }\n",
       "</style>\n",
       "<table border=\"1\" class=\"dataframe\">\n",
       "  <thead>\n",
       "    <tr style=\"text-align: right;\">\n",
       "      <th></th>\n",
       "      <th>name</th>\n",
       "      <th>ring</th>\n",
       "    </tr>\n",
       "  </thead>\n",
       "  <tbody>\n",
       "    <tr>\n",
       "      <th>0</th>\n",
       "      <td>Steve Nash</td>\n",
       "      <td>0</td>\n",
       "    </tr>\n",
       "    <tr>\n",
       "      <th>2</th>\n",
       "      <td>Scottie Pippen</td>\n",
       "      <td>6</td>\n",
       "    </tr>\n",
       "    <tr>\n",
       "      <th>4</th>\n",
       "      <td>Tim Duncan</td>\n",
       "      <td>5</td>\n",
       "    </tr>\n",
       "  </tbody>\n",
       "</table>\n",
       "</div>"
      ],
      "text/plain": [
       "             name  ring\n",
       "0      Steve Nash     0\n",
       "2  Scottie Pippen     6\n",
       "4      Tim Duncan     5"
      ]
     },
     "execution_count": 89,
     "metadata": {
      "tags": []
     },
     "output_type": "execute_result"
    }
   ],
   "source": [
    "df[np.logical_or(arr_1, arr_2)].loc[:, [\"name\", \"ring\"]]"
   ]
  },
  {
   "cell_type": "code",
   "execution_count": 0,
   "metadata": {
    "colab": {
     "autoexec": {
      "startup": false,
      "wait_interval": 0
     },
     "base_uri": "https://localhost:8080/",
     "height": 141
    },
    "colab_type": "code",
    "executionInfo": {
     "elapsed": 487,
     "status": "ok",
     "timestamp": 1528023103308,
     "user": {
      "displayName": "Tony Kuo",
      "photoUrl": "https://lh3.googleusercontent.com/a/default-user=s128",
      "userId": "115283668914988550359"
     },
     "user_tz": -480
    },
    "id": "EdMEN50QRAJg",
    "outputId": "750f27f2-0bc0-4cb2-c657-54e62328ef07"
   },
   "outputs": [
    {
     "data": {
      "text/html": [
       "<div>\n",
       "<style scoped>\n",
       "    .dataframe tbody tr th:only-of-type {\n",
       "        vertical-align: middle;\n",
       "    }\n",
       "\n",
       "    .dataframe tbody tr th {\n",
       "        vertical-align: top;\n",
       "    }\n",
       "\n",
       "    .dataframe thead th {\n",
       "        text-align: right;\n",
       "    }\n",
       "</style>\n",
       "<table border=\"1\" class=\"dataframe\">\n",
       "  <thead>\n",
       "    <tr style=\"text-align: right;\">\n",
       "      <th></th>\n",
       "      <th>name</th>\n",
       "      <th>ring</th>\n",
       "    </tr>\n",
       "  </thead>\n",
       "  <tbody>\n",
       "    <tr>\n",
       "      <th>0</th>\n",
       "      <td>Steve Nash</td>\n",
       "      <td>0</td>\n",
       "    </tr>\n",
       "    <tr>\n",
       "      <th>2</th>\n",
       "      <td>Scottie Pippen</td>\n",
       "      <td>6</td>\n",
       "    </tr>\n",
       "    <tr>\n",
       "      <th>4</th>\n",
       "      <td>Tim Duncan</td>\n",
       "      <td>5</td>\n",
       "    </tr>\n",
       "  </tbody>\n",
       "</table>\n",
       "</div>"
      ],
      "text/plain": [
       "             name  ring\n",
       "0      Steve Nash     0\n",
       "2  Scottie Pippen     6\n",
       "4      Tim Duncan     5"
      ]
     },
     "execution_count": 90,
     "metadata": {
      "tags": []
     },
     "output_type": "execute_result"
    }
   ],
   "source": [
    "df[np.logical_or(arr_1, arr_2)][[\"name\", \"ring\"]]"
   ]
  },
  {
   "cell_type": "markdown",
   "metadata": {
    "colab_type": "text",
    "id": "ERHley7wS_8i"
   },
   "source": [
    "#### 新增一個衍生變數\n",
    "\n",
    "**mutate**"
   ]
  },
  {
   "cell_type": "code",
   "execution_count": 0,
   "metadata": {
    "colab": {
     "autoexec": {
      "startup": false,
      "wait_interval": 0
     },
     "base_uri": "https://localhost:8080/",
     "height": 202
    },
    "colab_type": "code",
    "executionInfo": {
     "elapsed": 749,
     "status": "ok",
     "timestamp": 1528023429927,
     "user": {
      "displayName": "Tony Kuo",
      "photoUrl": "https://lh3.googleusercontent.com/a/default-user=s128",
      "userId": "115283668914988550359"
     },
     "user_tz": -480
    },
    "id": "7k8ZsOewRjSs",
    "outputId": "de7323e8-1615-4327-985e-5d7f710c1706"
   },
   "outputs": [
    {
     "data": {
      "text/html": [
       "<div>\n",
       "<style scoped>\n",
       "    .dataframe tbody tr th:only-of-type {\n",
       "        vertical-align: middle;\n",
       "    }\n",
       "\n",
       "    .dataframe tbody tr th {\n",
       "        vertical-align: top;\n",
       "    }\n",
       "\n",
       "    .dataframe thead th {\n",
       "        text-align: right;\n",
       "    }\n",
       "</style>\n",
       "<table border=\"1\" class=\"dataframe\">\n",
       "  <thead>\n",
       "    <tr style=\"text-align: right;\">\n",
       "      <th></th>\n",
       "      <th>number</th>\n",
       "      <th>name</th>\n",
       "      <th>ring</th>\n",
       "      <th>meaningless</th>\n",
       "    </tr>\n",
       "  </thead>\n",
       "  <tbody>\n",
       "    <tr>\n",
       "      <th>0</th>\n",
       "      <td>13</td>\n",
       "      <td>Steve Nash</td>\n",
       "      <td>0</td>\n",
       "      <td>13</td>\n",
       "    </tr>\n",
       "    <tr>\n",
       "      <th>1</th>\n",
       "      <td>34</td>\n",
       "      <td>Paul Pierce</td>\n",
       "      <td>1</td>\n",
       "      <td>35</td>\n",
       "    </tr>\n",
       "    <tr>\n",
       "      <th>2</th>\n",
       "      <td>33</td>\n",
       "      <td>Scottie Pippen</td>\n",
       "      <td>6</td>\n",
       "      <td>39</td>\n",
       "    </tr>\n",
       "    <tr>\n",
       "      <th>3</th>\n",
       "      <td>5</td>\n",
       "      <td>Kevin Garnett</td>\n",
       "      <td>1</td>\n",
       "      <td>6</td>\n",
       "    </tr>\n",
       "    <tr>\n",
       "      <th>4</th>\n",
       "      <td>21</td>\n",
       "      <td>Tim Duncan</td>\n",
       "      <td>5</td>\n",
       "      <td>26</td>\n",
       "    </tr>\n",
       "  </tbody>\n",
       "</table>\n",
       "</div>"
      ],
      "text/plain": [
       "   number            name  ring  meaningless\n",
       "0      13      Steve Nash     0           13\n",
       "1      34     Paul Pierce     1           35\n",
       "2      33  Scottie Pippen     6           39\n",
       "3       5   Kevin Garnett     1            6\n",
       "4      21      Tim Duncan     5           26"
      ]
     },
     "execution_count": 92,
     "metadata": {
      "tags": []
     },
     "output_type": "execute_result"
    }
   ],
   "source": [
    "df[\"meaningless\"] = df[\"number\"] + df[\"ring\"]\n",
    "df"
   ]
  },
  {
   "cell_type": "code",
   "execution_count": 0,
   "metadata": {
    "colab": {
     "autoexec": {
      "startup": false,
      "wait_interval": 0
     },
     "base_uri": "https://localhost:8080/",
     "height": 35
    },
    "colab_type": "code",
    "executionInfo": {
     "elapsed": 528,
     "status": "ok",
     "timestamp": 1528023570733,
     "user": {
      "displayName": "Tony Kuo",
      "photoUrl": "https://lh3.googleusercontent.com/a/default-user=s128",
      "userId": "115283668914988550359"
     },
     "user_tz": -480
    },
    "id": "0tBlcpMQSjN7",
    "outputId": "cb520962-60e1-48c2-aeca-1aaed1c54b7b"
   },
   "outputs": [
    {
     "data": {
      "text/plain": [
       "'STEVE NASH'"
      ]
     },
     "execution_count": 93,
     "metadata": {
      "tags": []
     },
     "output_type": "execute_result"
    }
   ],
   "source": [
    "\"Steve Nash\".upper()"
   ]
  },
  {
   "cell_type": "code",
   "execution_count": 0,
   "metadata": {
    "colab": {
     "autoexec": {
      "startup": false,
      "wait_interval": 0
     },
     "base_uri": "https://localhost:8080/",
     "height": 202
    },
    "colab_type": "code",
    "executionInfo": {
     "elapsed": 557,
     "status": "ok",
     "timestamp": 1528023769277,
     "user": {
      "displayName": "Tony Kuo",
      "photoUrl": "https://lh3.googleusercontent.com/a/default-user=s128",
      "userId": "115283668914988550359"
     },
     "user_tz": -480
    },
    "id": "CQyhtLjsTVZ1",
    "outputId": "76d1b803-cb61-4d7f-ea5d-6b49db36f7d9"
   },
   "outputs": [
    {
     "data": {
      "text/html": [
       "<div>\n",
       "<style scoped>\n",
       "    .dataframe tbody tr th:only-of-type {\n",
       "        vertical-align: middle;\n",
       "    }\n",
       "\n",
       "    .dataframe tbody tr th {\n",
       "        vertical-align: top;\n",
       "    }\n",
       "\n",
       "    .dataframe thead th {\n",
       "        text-align: right;\n",
       "    }\n",
       "</style>\n",
       "<table border=\"1\" class=\"dataframe\">\n",
       "  <thead>\n",
       "    <tr style=\"text-align: right;\">\n",
       "      <th></th>\n",
       "      <th>number</th>\n",
       "      <th>name</th>\n",
       "      <th>ring</th>\n",
       "      <th>meaningless</th>\n",
       "      <th>NAME</th>\n",
       "    </tr>\n",
       "  </thead>\n",
       "  <tbody>\n",
       "    <tr>\n",
       "      <th>0</th>\n",
       "      <td>13</td>\n",
       "      <td>Steve Nash</td>\n",
       "      <td>0</td>\n",
       "      <td>13</td>\n",
       "      <td>STEVE NASH</td>\n",
       "    </tr>\n",
       "    <tr>\n",
       "      <th>1</th>\n",
       "      <td>34</td>\n",
       "      <td>Paul Pierce</td>\n",
       "      <td>1</td>\n",
       "      <td>35</td>\n",
       "      <td>PAUL PIERCE</td>\n",
       "    </tr>\n",
       "    <tr>\n",
       "      <th>2</th>\n",
       "      <td>33</td>\n",
       "      <td>Scottie Pippen</td>\n",
       "      <td>6</td>\n",
       "      <td>39</td>\n",
       "      <td>SCOTTIE PIPPEN</td>\n",
       "    </tr>\n",
       "    <tr>\n",
       "      <th>3</th>\n",
       "      <td>5</td>\n",
       "      <td>Kevin Garnett</td>\n",
       "      <td>1</td>\n",
       "      <td>6</td>\n",
       "      <td>KEVIN GARNETT</td>\n",
       "    </tr>\n",
       "    <tr>\n",
       "      <th>4</th>\n",
       "      <td>21</td>\n",
       "      <td>Tim Duncan</td>\n",
       "      <td>5</td>\n",
       "      <td>26</td>\n",
       "      <td>TIM DUNCAN</td>\n",
       "    </tr>\n",
       "  </tbody>\n",
       "</table>\n",
       "</div>"
      ],
      "text/plain": [
       "   number            name  ring  meaningless            NAME\n",
       "0      13      Steve Nash     0           13      STEVE NASH\n",
       "1      34     Paul Pierce     1           35     PAUL PIERCE\n",
       "2      33  Scottie Pippen     6           39  SCOTTIE PIPPEN\n",
       "3       5   Kevin Garnett     1            6   KEVIN GARNETT\n",
       "4      21      Tim Duncan     5           26      TIM DUNCAN"
      ]
     },
     "execution_count": 94,
     "metadata": {
      "tags": []
     },
     "output_type": "execute_result"
    }
   ],
   "source": [
    "df[\"NAME\"] = df[\"name\"].map(lambda x: x.upper())\n",
    "df"
   ]
  },
  {
   "cell_type": "code",
   "execution_count": 0,
   "metadata": {
    "colab": {
     "autoexec": {
      "startup": false,
      "wait_interval": 0
     },
     "base_uri": "https://localhost:8080/",
     "height": 202
    },
    "colab_type": "code",
    "executionInfo": {
     "elapsed": 498,
     "status": "ok",
     "timestamp": 1528023855654,
     "user": {
      "displayName": "Tony Kuo",
      "photoUrl": "https://lh3.googleusercontent.com/a/default-user=s128",
      "userId": "115283668914988550359"
     },
     "user_tz": -480
    },
    "id": "m1wQH9jLUF4B",
    "outputId": "e05cb7f6-2fb5-49ad-ce40-73c6cf8d68e8"
   },
   "outputs": [
    {
     "data": {
      "text/html": [
       "<div>\n",
       "<style scoped>\n",
       "    .dataframe tbody tr th:only-of-type {\n",
       "        vertical-align: middle;\n",
       "    }\n",
       "\n",
       "    .dataframe tbody tr th {\n",
       "        vertical-align: top;\n",
       "    }\n",
       "\n",
       "    .dataframe thead th {\n",
       "        text-align: right;\n",
       "    }\n",
       "</style>\n",
       "<table border=\"1\" class=\"dataframe\">\n",
       "  <thead>\n",
       "    <tr style=\"text-align: right;\">\n",
       "      <th></th>\n",
       "      <th>number</th>\n",
       "      <th>name</th>\n",
       "      <th>ring</th>\n",
       "      <th>meaningless</th>\n",
       "      <th>NAME</th>\n",
       "    </tr>\n",
       "  </thead>\n",
       "  <tbody>\n",
       "    <tr>\n",
       "      <th>0</th>\n",
       "      <td>13</td>\n",
       "      <td>Steve Nash</td>\n",
       "      <td>0</td>\n",
       "      <td>13</td>\n",
       "      <td>STEVE NASH</td>\n",
       "    </tr>\n",
       "    <tr>\n",
       "      <th>1</th>\n",
       "      <td>34</td>\n",
       "      <td>Paul Pierce</td>\n",
       "      <td>1</td>\n",
       "      <td>35</td>\n",
       "      <td>PAUL PIERCE</td>\n",
       "    </tr>\n",
       "    <tr>\n",
       "      <th>2</th>\n",
       "      <td>33</td>\n",
       "      <td>Scottie Pippen</td>\n",
       "      <td>6</td>\n",
       "      <td>39</td>\n",
       "      <td>SCOTTIE PIPPEN</td>\n",
       "    </tr>\n",
       "    <tr>\n",
       "      <th>3</th>\n",
       "      <td>5</td>\n",
       "      <td>Kevin Garnett</td>\n",
       "      <td>1</td>\n",
       "      <td>6</td>\n",
       "      <td>KEVIN GARNETT</td>\n",
       "    </tr>\n",
       "    <tr>\n",
       "      <th>4</th>\n",
       "      <td>21</td>\n",
       "      <td>Tim Duncan</td>\n",
       "      <td>5</td>\n",
       "      <td>26</td>\n",
       "      <td>TIM DUNCAN</td>\n",
       "    </tr>\n",
       "  </tbody>\n",
       "</table>\n",
       "</div>"
      ],
      "text/plain": [
       "   number            name  ring  meaningless            NAME\n",
       "0      13      Steve Nash     0           13      STEVE NASH\n",
       "1      34     Paul Pierce     1           35     PAUL PIERCE\n",
       "2      33  Scottie Pippen     6           39  SCOTTIE PIPPEN\n",
       "3       5   Kevin Garnett     1            6   KEVIN GARNETT\n",
       "4      21      Tim Duncan     5           26      TIM DUNCAN"
      ]
     },
     "execution_count": 95,
     "metadata": {
      "tags": []
     },
     "output_type": "execute_result"
    }
   ],
   "source": [
    "df[\"NAME\"] = df[\"name\"].str.upper()\n",
    "df"
   ]
  },
  {
   "cell_type": "code",
   "execution_count": 0,
   "metadata": {
    "colab": {
     "autoexec": {
      "startup": false,
      "wait_interval": 0
     },
     "base_uri": "https://localhost:8080/",
     "height": 202
    },
    "colab_type": "code",
    "executionInfo": {
     "elapsed": 782,
     "status": "ok",
     "timestamp": 1528024096265,
     "user": {
      "displayName": "Tony Kuo",
      "photoUrl": "https://lh3.googleusercontent.com/a/default-user=s128",
      "userId": "115283668914988550359"
     },
     "user_tz": -480
    },
    "id": "339iUFlbUa-b",
    "outputId": "93bc9f00-6097-4d4d-8d8d-022d889dd5cf"
   },
   "outputs": [
    {
     "data": {
      "text/html": [
       "<div>\n",
       "<style scoped>\n",
       "    .dataframe tbody tr th:only-of-type {\n",
       "        vertical-align: middle;\n",
       "    }\n",
       "\n",
       "    .dataframe tbody tr th {\n",
       "        vertical-align: top;\n",
       "    }\n",
       "\n",
       "    .dataframe thead th {\n",
       "        text-align: right;\n",
       "    }\n",
       "</style>\n",
       "<table border=\"1\" class=\"dataframe\">\n",
       "  <thead>\n",
       "    <tr style=\"text-align: right;\">\n",
       "      <th></th>\n",
       "      <th>number</th>\n",
       "      <th>name</th>\n",
       "      <th>ring</th>\n",
       "      <th>meaningless</th>\n",
       "      <th>NAME</th>\n",
       "      <th>upper_names</th>\n",
       "    </tr>\n",
       "  </thead>\n",
       "  <tbody>\n",
       "    <tr>\n",
       "      <th>0</th>\n",
       "      <td>13</td>\n",
       "      <td>Steve Nash</td>\n",
       "      <td>0</td>\n",
       "      <td>13</td>\n",
       "      <td>STEVE NASH</td>\n",
       "      <td>STEVE NASH</td>\n",
       "    </tr>\n",
       "    <tr>\n",
       "      <th>1</th>\n",
       "      <td>34</td>\n",
       "      <td>Paul Pierce</td>\n",
       "      <td>1</td>\n",
       "      <td>35</td>\n",
       "      <td>PAUL PIERCE</td>\n",
       "      <td>PAUL PIERCE</td>\n",
       "    </tr>\n",
       "    <tr>\n",
       "      <th>2</th>\n",
       "      <td>33</td>\n",
       "      <td>Scottie Pippen</td>\n",
       "      <td>6</td>\n",
       "      <td>39</td>\n",
       "      <td>SCOTTIE PIPPEN</td>\n",
       "      <td>SCOTTIE PIPPEN</td>\n",
       "    </tr>\n",
       "    <tr>\n",
       "      <th>3</th>\n",
       "      <td>5</td>\n",
       "      <td>Kevin Garnett</td>\n",
       "      <td>1</td>\n",
       "      <td>6</td>\n",
       "      <td>KEVIN GARNETT</td>\n",
       "      <td>KEVIN GARNETT</td>\n",
       "    </tr>\n",
       "    <tr>\n",
       "      <th>4</th>\n",
       "      <td>21</td>\n",
       "      <td>Tim Duncan</td>\n",
       "      <td>5</td>\n",
       "      <td>26</td>\n",
       "      <td>TIM DUNCAN</td>\n",
       "      <td>TIM DUNCAN</td>\n",
       "    </tr>\n",
       "  </tbody>\n",
       "</table>\n",
       "</div>"
      ],
      "text/plain": [
       "   number            name  ring  meaningless            NAME     upper_names\n",
       "0      13      Steve Nash     0           13      STEVE NASH      STEVE NASH\n",
       "1      34     Paul Pierce     1           35     PAUL PIERCE     PAUL PIERCE\n",
       "2      33  Scottie Pippen     6           39  SCOTTIE PIPPEN  SCOTTIE PIPPEN\n",
       "3       5   Kevin Garnett     1            6   KEVIN GARNETT   KEVIN GARNETT\n",
       "4      21      Tim Duncan     5           26      TIM DUNCAN      TIM DUNCAN"
      ]
     },
     "execution_count": 99,
     "metadata": {
      "tags": []
     },
     "output_type": "execute_result"
    }
   ],
   "source": [
    "upper_names = []\n",
    "nrow = df.shape[0]\n",
    "for i in range(nrow):\n",
    "  upper_names.append(df.loc[i, \"name\"].upper())\n",
    "df[\"upper_names\"] = upper_names\n",
    "df"
   ]
  },
  {
   "cell_type": "code",
   "execution_count": 0,
   "metadata": {
    "colab": {
     "autoexec": {
      "startup": false,
      "wait_interval": 0
     },
     "base_uri": "https://localhost:8080/",
     "height": 35
    },
    "colab_type": "code",
    "executionInfo": {
     "elapsed": 539,
     "status": "ok",
     "timestamp": 1528024324465,
     "user": {
      "displayName": "Tony Kuo",
      "photoUrl": "https://lh3.googleusercontent.com/a/default-user=s128",
      "userId": "115283668914988550359"
     },
     "user_tz": -480
    },
    "id": "aUt28Ad6U7W2",
    "outputId": "b5b4333c-5aff-45e9-f748-e6e0c9758d0a"
   },
   "outputs": [
    {
     "data": {
      "text/plain": [
       "(5, 6)"
      ]
     },
     "execution_count": 100,
     "metadata": {
      "tags": []
     },
     "output_type": "execute_result"
    }
   ],
   "source": [
    "df.shape"
   ]
  },
  {
   "cell_type": "code",
   "execution_count": 0,
   "metadata": {
    "colab": {
     "autoexec": {
      "startup": false,
      "wait_interval": 0
     },
     "base_uri": "https://localhost:8080/",
     "height": 202
    },
    "colab_type": "code",
    "executionInfo": {
     "elapsed": 890,
     "status": "ok",
     "timestamp": 1528621059252,
     "user": {
      "displayName": "Tony Kuo",
      "photoUrl": "https://lh3.googleusercontent.com/a/default-user=s128",
      "userId": "115283668914988550359"
     },
     "user_tz": -480
    },
    "id": "ZhaOlFSOWNa2",
    "outputId": "3386b914-d6da-445c-a1c3-b99912e01560"
   },
   "outputs": [
    {
     "data": {
      "text/html": [
       "<div>\n",
       "<style scoped>\n",
       "    .dataframe tbody tr th:only-of-type {\n",
       "        vertical-align: middle;\n",
       "    }\n",
       "\n",
       "    .dataframe tbody tr th {\n",
       "        vertical-align: top;\n",
       "    }\n",
       "\n",
       "    .dataframe thead th {\n",
       "        text-align: right;\n",
       "    }\n",
       "</style>\n",
       "<table border=\"1\" class=\"dataframe\">\n",
       "  <thead>\n",
       "    <tr style=\"text-align: right;\">\n",
       "      <th></th>\n",
       "      <th>number</th>\n",
       "      <th>player</th>\n",
       "    </tr>\n",
       "  </thead>\n",
       "  <tbody>\n",
       "    <tr>\n",
       "      <th>0</th>\n",
       "      <td>13</td>\n",
       "      <td>Steve Nash</td>\n",
       "    </tr>\n",
       "    <tr>\n",
       "      <th>1</th>\n",
       "      <td>34</td>\n",
       "      <td>Paul Pierce</td>\n",
       "    </tr>\n",
       "    <tr>\n",
       "      <th>2</th>\n",
       "      <td>21</td>\n",
       "      <td>Kevin Garnett</td>\n",
       "    </tr>\n",
       "    <tr>\n",
       "      <th>3</th>\n",
       "      <td>21</td>\n",
       "      <td>Tim Duncan</td>\n",
       "    </tr>\n",
       "    <tr>\n",
       "      <th>4</th>\n",
       "      <td>34</td>\n",
       "      <td>Shaquille O'Neal</td>\n",
       "    </tr>\n",
       "  </tbody>\n",
       "</table>\n",
       "</div>"
      ],
      "text/plain": [
       "   number            player\n",
       "0      13        Steve Nash\n",
       "1      34       Paul Pierce\n",
       "2      21     Kevin Garnett\n",
       "3      21        Tim Duncan\n",
       "4      34  Shaquille O'Neal"
      ]
     },
     "execution_count": 19,
     "metadata": {
      "tags": []
     },
     "output_type": "execute_result"
    }
   ],
   "source": [
    "import pandas as pd\n",
    "\n",
    "df = pd.DataFrame()\n",
    "df[\"number\"] = [13, 34, 21, 21, 34]\n",
    "df[\"player\"] = [\"Steve Nash\", \"Paul Pierce\", \"Kevin Garnett\", \"Tim Duncan\", \"Shaquille O'Neal\"]\n",
    "df"
   ]
  },
  {
   "cell_type": "markdown",
   "metadata": {
    "colab_type": "text",
    "id": "KyUpDeTH2bx2"
   },
   "source": [
    "#### 依據變數排序\n",
    "\n",
    "- arrange: sort, order by\n",
    "- `df.sort_values()`"
   ]
  },
  {
   "cell_type": "code",
   "execution_count": 0,
   "metadata": {
    "colab": {
     "autoexec": {
      "startup": false,
      "wait_interval": 0
     },
     "base_uri": "https://localhost:8080/",
     "height": 202
    },
    "colab_type": "code",
    "executionInfo": {
     "elapsed": 871,
     "status": "ok",
     "timestamp": 1528620621329,
     "user": {
      "displayName": "Tony Kuo",
      "photoUrl": "https://lh3.googleusercontent.com/a/default-user=s128",
      "userId": "115283668914988550359"
     },
     "user_tz": -480
    },
    "id": "bZG0MU3z43CG",
    "outputId": "06249e4f-8f6c-4991-c36b-19de73d82c40"
   },
   "outputs": [
    {
     "data": {
      "text/html": [
       "<div>\n",
       "<style scoped>\n",
       "    .dataframe tbody tr th:only-of-type {\n",
       "        vertical-align: middle;\n",
       "    }\n",
       "\n",
       "    .dataframe tbody tr th {\n",
       "        vertical-align: top;\n",
       "    }\n",
       "\n",
       "    .dataframe thead th {\n",
       "        text-align: right;\n",
       "    }\n",
       "</style>\n",
       "<table border=\"1\" class=\"dataframe\">\n",
       "  <thead>\n",
       "    <tr style=\"text-align: right;\">\n",
       "      <th></th>\n",
       "      <th>number</th>\n",
       "      <th>player</th>\n",
       "    </tr>\n",
       "  </thead>\n",
       "  <tbody>\n",
       "    <tr>\n",
       "      <th>0</th>\n",
       "      <td>13</td>\n",
       "      <td>Steve Nash</td>\n",
       "    </tr>\n",
       "    <tr>\n",
       "      <th>2</th>\n",
       "      <td>21</td>\n",
       "      <td>Kevin Garnett</td>\n",
       "    </tr>\n",
       "    <tr>\n",
       "      <th>3</th>\n",
       "      <td>21</td>\n",
       "      <td>Tim Duncan</td>\n",
       "    </tr>\n",
       "    <tr>\n",
       "      <th>1</th>\n",
       "      <td>34</td>\n",
       "      <td>Paul Pierce</td>\n",
       "    </tr>\n",
       "    <tr>\n",
       "      <th>4</th>\n",
       "      <td>34</td>\n",
       "      <td>Shaquille O'Neal</td>\n",
       "    </tr>\n",
       "  </tbody>\n",
       "</table>\n",
       "</div>"
      ],
      "text/plain": [
       "   number            player\n",
       "0      13        Steve Nash\n",
       "2      21     Kevin Garnett\n",
       "3      21        Tim Duncan\n",
       "1      34       Paul Pierce\n",
       "4      34  Shaquille O'Neal"
      ]
     },
     "execution_count": 12,
     "metadata": {
      "tags": []
     },
     "output_type": "execute_result"
    }
   ],
   "source": [
    "df.sort_values(by=\"number\")"
   ]
  },
  {
   "cell_type": "code",
   "execution_count": 0,
   "metadata": {
    "colab": {
     "autoexec": {
      "startup": false,
      "wait_interval": 0
     },
     "base_uri": "https://localhost:8080/",
     "height": 202
    },
    "colab_type": "code",
    "executionInfo": {
     "elapsed": 900,
     "status": "ok",
     "timestamp": 1528620559022,
     "user": {
      "displayName": "Tony Kuo",
      "photoUrl": "https://lh3.googleusercontent.com/a/default-user=s128",
      "userId": "115283668914988550359"
     },
     "user_tz": -480
    },
    "id": "6L2LyhHK1s3R",
    "outputId": "bd97fee6-c679-4970-d90b-1de9c65c56d5"
   },
   "outputs": [
    {
     "data": {
      "text/html": [
       "<div>\n",
       "<style scoped>\n",
       "    .dataframe tbody tr th:only-of-type {\n",
       "        vertical-align: middle;\n",
       "    }\n",
       "\n",
       "    .dataframe tbody tr th {\n",
       "        vertical-align: top;\n",
       "    }\n",
       "\n",
       "    .dataframe thead th {\n",
       "        text-align: right;\n",
       "    }\n",
       "</style>\n",
       "<table border=\"1\" class=\"dataframe\">\n",
       "  <thead>\n",
       "    <tr style=\"text-align: right;\">\n",
       "      <th></th>\n",
       "      <th>number</th>\n",
       "      <th>player</th>\n",
       "    </tr>\n",
       "  </thead>\n",
       "  <tbody>\n",
       "    <tr>\n",
       "      <th>1</th>\n",
       "      <td>34</td>\n",
       "      <td>Paul Pierce</td>\n",
       "    </tr>\n",
       "    <tr>\n",
       "      <th>4</th>\n",
       "      <td>34</td>\n",
       "      <td>Shaquille O'Neal</td>\n",
       "    </tr>\n",
       "    <tr>\n",
       "      <th>2</th>\n",
       "      <td>21</td>\n",
       "      <td>Kevin Garnett</td>\n",
       "    </tr>\n",
       "    <tr>\n",
       "      <th>3</th>\n",
       "      <td>21</td>\n",
       "      <td>Tim Duncan</td>\n",
       "    </tr>\n",
       "    <tr>\n",
       "      <th>0</th>\n",
       "      <td>13</td>\n",
       "      <td>Steve Nash</td>\n",
       "    </tr>\n",
       "  </tbody>\n",
       "</table>\n",
       "</div>"
      ],
      "text/plain": [
       "   number            player\n",
       "1      34       Paul Pierce\n",
       "4      34  Shaquille O'Neal\n",
       "2      21     Kevin Garnett\n",
       "3      21        Tim Duncan\n",
       "0      13        Steve Nash"
      ]
     },
     "execution_count": 10,
     "metadata": {
      "tags": []
     },
     "output_type": "execute_result"
    }
   ],
   "source": [
    "df.sort_values(by=\"number\", ascending=False)"
   ]
  },
  {
   "cell_type": "code",
   "execution_count": 0,
   "metadata": {
    "colab": {
     "autoexec": {
      "startup": false,
      "wait_interval": 0
     },
     "base_uri": "https://localhost:8080/",
     "height": 202
    },
    "colab_type": "code",
    "executionInfo": {
     "elapsed": 779,
     "status": "ok",
     "timestamp": 1528620626983,
     "user": {
      "displayName": "Tony Kuo",
      "photoUrl": "https://lh3.googleusercontent.com/a/default-user=s128",
      "userId": "115283668914988550359"
     },
     "user_tz": -480
    },
    "id": "qL07YsUR4zSy",
    "outputId": "cbeb485a-3ee0-4c8d-b44c-a53d24caa1a8"
   },
   "outputs": [
    {
     "data": {
      "text/html": [
       "<div>\n",
       "<style scoped>\n",
       "    .dataframe tbody tr th:only-of-type {\n",
       "        vertical-align: middle;\n",
       "    }\n",
       "\n",
       "    .dataframe tbody tr th {\n",
       "        vertical-align: top;\n",
       "    }\n",
       "\n",
       "    .dataframe thead th {\n",
       "        text-align: right;\n",
       "    }\n",
       "</style>\n",
       "<table border=\"1\" class=\"dataframe\">\n",
       "  <thead>\n",
       "    <tr style=\"text-align: right;\">\n",
       "      <th></th>\n",
       "      <th>number</th>\n",
       "      <th>player</th>\n",
       "    </tr>\n",
       "  </thead>\n",
       "  <tbody>\n",
       "    <tr>\n",
       "      <th>2</th>\n",
       "      <td>21</td>\n",
       "      <td>Kevin Garnett</td>\n",
       "    </tr>\n",
       "    <tr>\n",
       "      <th>1</th>\n",
       "      <td>34</td>\n",
       "      <td>Paul Pierce</td>\n",
       "    </tr>\n",
       "    <tr>\n",
       "      <th>4</th>\n",
       "      <td>34</td>\n",
       "      <td>Shaquille O'Neal</td>\n",
       "    </tr>\n",
       "    <tr>\n",
       "      <th>0</th>\n",
       "      <td>13</td>\n",
       "      <td>Steve Nash</td>\n",
       "    </tr>\n",
       "    <tr>\n",
       "      <th>3</th>\n",
       "      <td>21</td>\n",
       "      <td>Tim Duncan</td>\n",
       "    </tr>\n",
       "  </tbody>\n",
       "</table>\n",
       "</div>"
      ],
      "text/plain": [
       "   number            player\n",
       "2      21     Kevin Garnett\n",
       "1      34       Paul Pierce\n",
       "4      34  Shaquille O'Neal\n",
       "0      13        Steve Nash\n",
       "3      21        Tim Duncan"
      ]
     },
     "execution_count": 13,
     "metadata": {
      "tags": []
     },
     "output_type": "execute_result"
    }
   ],
   "source": [
    "df.sort_values(by=\"player\")"
   ]
  },
  {
   "cell_type": "code",
   "execution_count": 0,
   "metadata": {
    "colab": {
     "autoexec": {
      "startup": false,
      "wait_interval": 0
     },
     "base_uri": "https://localhost:8080/",
     "height": 202
    },
    "colab_type": "code",
    "executionInfo": {
     "elapsed": 782,
     "status": "ok",
     "timestamp": 1528620581931,
     "user": {
      "displayName": "Tony Kuo",
      "photoUrl": "https://lh3.googleusercontent.com/a/default-user=s128",
      "userId": "115283668914988550359"
     },
     "user_tz": -480
    },
    "id": "wV0DH9SD4LTM",
    "outputId": "5ac076bf-b472-4f38-ccb2-70d25a7cb457"
   },
   "outputs": [
    {
     "data": {
      "text/html": [
       "<div>\n",
       "<style scoped>\n",
       "    .dataframe tbody tr th:only-of-type {\n",
       "        vertical-align: middle;\n",
       "    }\n",
       "\n",
       "    .dataframe tbody tr th {\n",
       "        vertical-align: top;\n",
       "    }\n",
       "\n",
       "    .dataframe thead th {\n",
       "        text-align: right;\n",
       "    }\n",
       "</style>\n",
       "<table border=\"1\" class=\"dataframe\">\n",
       "  <thead>\n",
       "    <tr style=\"text-align: right;\">\n",
       "      <th></th>\n",
       "      <th>number</th>\n",
       "      <th>player</th>\n",
       "    </tr>\n",
       "  </thead>\n",
       "  <tbody>\n",
       "    <tr>\n",
       "      <th>3</th>\n",
       "      <td>21</td>\n",
       "      <td>Tim Duncan</td>\n",
       "    </tr>\n",
       "    <tr>\n",
       "      <th>0</th>\n",
       "      <td>13</td>\n",
       "      <td>Steve Nash</td>\n",
       "    </tr>\n",
       "    <tr>\n",
       "      <th>4</th>\n",
       "      <td>34</td>\n",
       "      <td>Shaquille O'Neal</td>\n",
       "    </tr>\n",
       "    <tr>\n",
       "      <th>1</th>\n",
       "      <td>34</td>\n",
       "      <td>Paul Pierce</td>\n",
       "    </tr>\n",
       "    <tr>\n",
       "      <th>2</th>\n",
       "      <td>21</td>\n",
       "      <td>Kevin Garnett</td>\n",
       "    </tr>\n",
       "  </tbody>\n",
       "</table>\n",
       "</div>"
      ],
      "text/plain": [
       "   number            player\n",
       "3      21        Tim Duncan\n",
       "0      13        Steve Nash\n",
       "4      34  Shaquille O'Neal\n",
       "1      34       Paul Pierce\n",
       "2      21     Kevin Garnett"
      ]
     },
     "execution_count": 11,
     "metadata": {
      "tags": []
     },
     "output_type": "execute_result"
    }
   ],
   "source": [
    "df.sort_values(by=\"player\", ascending=False)"
   ]
  },
  {
   "cell_type": "code",
   "execution_count": 0,
   "metadata": {
    "colab": {
     "autoexec": {
      "startup": false,
      "wait_interval": 0
     },
     "base_uri": "https://localhost:8080/",
     "height": 202
    },
    "colab_type": "code",
    "executionInfo": {
     "elapsed": 669,
     "status": "ok",
     "timestamp": 1528620352572,
     "user": {
      "displayName": "Tony Kuo",
      "photoUrl": "https://lh3.googleusercontent.com/a/default-user=s128",
      "userId": "115283668914988550359"
     },
     "user_tz": -480
    },
    "id": "QTDpI2Im3aoT",
    "outputId": "1ef3ae06-b3f7-46bb-b24c-d5eca8fc36e8"
   },
   "outputs": [
    {
     "data": {
      "text/html": [
       "<div>\n",
       "<style scoped>\n",
       "    .dataframe tbody tr th:only-of-type {\n",
       "        vertical-align: middle;\n",
       "    }\n",
       "\n",
       "    .dataframe tbody tr th {\n",
       "        vertical-align: top;\n",
       "    }\n",
       "\n",
       "    .dataframe thead th {\n",
       "        text-align: right;\n",
       "    }\n",
       "</style>\n",
       "<table border=\"1\" class=\"dataframe\">\n",
       "  <thead>\n",
       "    <tr style=\"text-align: right;\">\n",
       "      <th></th>\n",
       "      <th>number</th>\n",
       "      <th>player</th>\n",
       "    </tr>\n",
       "  </thead>\n",
       "  <tbody>\n",
       "    <tr>\n",
       "      <th>0</th>\n",
       "      <td>13</td>\n",
       "      <td>Steve Nash</td>\n",
       "    </tr>\n",
       "    <tr>\n",
       "      <th>1</th>\n",
       "      <td>34</td>\n",
       "      <td>Paul Pierce</td>\n",
       "    </tr>\n",
       "    <tr>\n",
       "      <th>2</th>\n",
       "      <td>21</td>\n",
       "      <td>Kevin Garnett</td>\n",
       "    </tr>\n",
       "    <tr>\n",
       "      <th>3</th>\n",
       "      <td>21</td>\n",
       "      <td>Tim Duncan</td>\n",
       "    </tr>\n",
       "    <tr>\n",
       "      <th>4</th>\n",
       "      <td>34</td>\n",
       "      <td>Shaquille O'Neal</td>\n",
       "    </tr>\n",
       "  </tbody>\n",
       "</table>\n",
       "</div>"
      ],
      "text/plain": [
       "   number            player\n",
       "0      13        Steve Nash\n",
       "1      34       Paul Pierce\n",
       "2      21     Kevin Garnett\n",
       "3      21        Tim Duncan\n",
       "4      34  Shaquille O'Neal"
      ]
     },
     "execution_count": 7,
     "metadata": {
      "tags": []
     },
     "output_type": "execute_result"
    }
   ],
   "source": [
    "df.sort_index()"
   ]
  },
  {
   "cell_type": "code",
   "execution_count": 0,
   "metadata": {
    "colab": {
     "autoexec": {
      "startup": false,
      "wait_interval": 0
     },
     "base_uri": "https://localhost:8080/",
     "height": 202
    },
    "colab_type": "code",
    "executionInfo": {
     "elapsed": 705,
     "status": "ok",
     "timestamp": 1528620698463,
     "user": {
      "displayName": "Tony Kuo",
      "photoUrl": "https://lh3.googleusercontent.com/a/default-user=s128",
      "userId": "115283668914988550359"
     },
     "user_tz": -480
    },
    "id": "OAX46qDP34Do",
    "outputId": "756a9585-65f9-491f-aa59-f8314c058693"
   },
   "outputs": [
    {
     "data": {
      "text/html": [
       "<div>\n",
       "<style scoped>\n",
       "    .dataframe tbody tr th:only-of-type {\n",
       "        vertical-align: middle;\n",
       "    }\n",
       "\n",
       "    .dataframe tbody tr th {\n",
       "        vertical-align: top;\n",
       "    }\n",
       "\n",
       "    .dataframe thead th {\n",
       "        text-align: right;\n",
       "    }\n",
       "</style>\n",
       "<table border=\"1\" class=\"dataframe\">\n",
       "  <thead>\n",
       "    <tr style=\"text-align: right;\">\n",
       "      <th></th>\n",
       "      <th>number</th>\n",
       "      <th>player</th>\n",
       "    </tr>\n",
       "  </thead>\n",
       "  <tbody>\n",
       "    <tr>\n",
       "      <th>0</th>\n",
       "      <td>13</td>\n",
       "      <td>Steve Nash</td>\n",
       "    </tr>\n",
       "    <tr>\n",
       "      <th>2</th>\n",
       "      <td>21</td>\n",
       "      <td>Kevin Garnett</td>\n",
       "    </tr>\n",
       "    <tr>\n",
       "      <th>3</th>\n",
       "      <td>21</td>\n",
       "      <td>Tim Duncan</td>\n",
       "    </tr>\n",
       "    <tr>\n",
       "      <th>1</th>\n",
       "      <td>34</td>\n",
       "      <td>Paul Pierce</td>\n",
       "    </tr>\n",
       "    <tr>\n",
       "      <th>4</th>\n",
       "      <td>34</td>\n",
       "      <td>Shaquille O'Neal</td>\n",
       "    </tr>\n",
       "  </tbody>\n",
       "</table>\n",
       "</div>"
      ],
      "text/plain": [
       "   number            player\n",
       "0      13        Steve Nash\n",
       "2      21     Kevin Garnett\n",
       "3      21        Tim Duncan\n",
       "1      34       Paul Pierce\n",
       "4      34  Shaquille O'Neal"
      ]
     },
     "execution_count": 14,
     "metadata": {
      "tags": []
     },
     "output_type": "execute_result"
    }
   ],
   "source": [
    "df.sort_values(by=[\"number\", \"player\"])"
   ]
  },
  {
   "cell_type": "code",
   "execution_count": 0,
   "metadata": {
    "colab": {
     "autoexec": {
      "startup": false,
      "wait_interval": 0
     },
     "base_uri": "https://localhost:8080/",
     "height": 219
    },
    "colab_type": "code",
    "executionInfo": {
     "elapsed": 733,
     "status": "ok",
     "timestamp": 1528620992283,
     "user": {
      "displayName": "Tony Kuo",
      "photoUrl": "https://lh3.googleusercontent.com/a/default-user=s128",
      "userId": "115283668914988550359"
     },
     "user_tz": -480
    },
    "id": "DSArGy8A5MfG",
    "outputId": "55569e59-750d-48b1-8587-d01f75b6425f"
   },
   "outputs": [
    {
     "name": "stdout",
     "output_type": "stream",
     "text": [
      "(5, 2)\n"
     ]
    },
    {
     "data": {
      "text/html": [
       "<div>\n",
       "<style scoped>\n",
       "    .dataframe tbody tr th:only-of-type {\n",
       "        vertical-align: middle;\n",
       "    }\n",
       "\n",
       "    .dataframe tbody tr th {\n",
       "        vertical-align: top;\n",
       "    }\n",
       "\n",
       "    .dataframe thead th {\n",
       "        text-align: right;\n",
       "    }\n",
       "</style>\n",
       "<table border=\"1\" class=\"dataframe\">\n",
       "  <thead>\n",
       "    <tr style=\"text-align: right;\">\n",
       "      <th></th>\n",
       "      <th>number</th>\n",
       "      <th>player</th>\n",
       "    </tr>\n",
       "  </thead>\n",
       "  <tbody>\n",
       "    <tr>\n",
       "      <th>0</th>\n",
       "      <td>13</td>\n",
       "      <td>Steve Nash</td>\n",
       "    </tr>\n",
       "    <tr>\n",
       "      <th>1</th>\n",
       "      <td>21</td>\n",
       "      <td>Kevin Garnett</td>\n",
       "    </tr>\n",
       "    <tr>\n",
       "      <th>2</th>\n",
       "      <td>21</td>\n",
       "      <td>Tim Duncan</td>\n",
       "    </tr>\n",
       "    <tr>\n",
       "      <th>3</th>\n",
       "      <td>34</td>\n",
       "      <td>Paul Pierce</td>\n",
       "    </tr>\n",
       "    <tr>\n",
       "      <th>4</th>\n",
       "      <td>34</td>\n",
       "      <td>Shaquille O'Neal</td>\n",
       "    </tr>\n",
       "  </tbody>\n",
       "</table>\n",
       "</div>"
      ],
      "text/plain": [
       "   number            player\n",
       "0      13        Steve Nash\n",
       "1      21     Kevin Garnett\n",
       "2      21        Tim Duncan\n",
       "3      34       Paul Pierce\n",
       "4      34  Shaquille O'Neal"
      ]
     },
     "execution_count": 18,
     "metadata": {
      "tags": []
     },
     "output_type": "execute_result"
    }
   ],
   "source": [
    "print(df.shape)\n",
    "nrow = df.shape[0]\n",
    "df_index = range(nrow)\n",
    "df = df.sort_values(by=[\"number\", \"player\"])\n",
    "df.index = df_index\n",
    "df"
   ]
  },
  {
   "cell_type": "code",
   "execution_count": 0,
   "metadata": {
    "colab": {
     "autoexec": {
      "startup": false,
      "wait_interval": 0
     },
     "base_uri": "https://localhost:8080/",
     "height": 202
    },
    "colab_type": "code",
    "executionInfo": {
     "elapsed": 2249,
     "status": "ok",
     "timestamp": 1528621191055,
     "user": {
      "displayName": "Tony Kuo",
      "photoUrl": "https://lh3.googleusercontent.com/a/default-user=s128",
      "userId": "115283668914988550359"
     },
     "user_tz": -480
    },
    "id": "dcHegNJj5w9Q",
    "outputId": "3f37523f-93a1-4c8c-ab1d-3b32e9c76c58"
   },
   "outputs": [
    {
     "data": {
      "text/html": [
       "<div>\n",
       "<style scoped>\n",
       "    .dataframe tbody tr th:only-of-type {\n",
       "        vertical-align: middle;\n",
       "    }\n",
       "\n",
       "    .dataframe tbody tr th {\n",
       "        vertical-align: top;\n",
       "    }\n",
       "\n",
       "    .dataframe thead th {\n",
       "        text-align: right;\n",
       "    }\n",
       "</style>\n",
       "<table border=\"1\" class=\"dataframe\">\n",
       "  <thead>\n",
       "    <tr style=\"text-align: right;\">\n",
       "      <th></th>\n",
       "      <th>number</th>\n",
       "      <th>player</th>\n",
       "    </tr>\n",
       "  </thead>\n",
       "  <tbody>\n",
       "    <tr>\n",
       "      <th>0</th>\n",
       "      <td>13</td>\n",
       "      <td>Steve Nash</td>\n",
       "    </tr>\n",
       "    <tr>\n",
       "      <th>1</th>\n",
       "      <td>21</td>\n",
       "      <td>Kevin Garnett</td>\n",
       "    </tr>\n",
       "    <tr>\n",
       "      <th>2</th>\n",
       "      <td>21</td>\n",
       "      <td>Tim Duncan</td>\n",
       "    </tr>\n",
       "    <tr>\n",
       "      <th>3</th>\n",
       "      <td>34</td>\n",
       "      <td>Paul Pierce</td>\n",
       "    </tr>\n",
       "    <tr>\n",
       "      <th>4</th>\n",
       "      <td>34</td>\n",
       "      <td>Shaquille O'Neal</td>\n",
       "    </tr>\n",
       "  </tbody>\n",
       "</table>\n",
       "</div>"
      ],
      "text/plain": [
       "   number            player\n",
       "0      13        Steve Nash\n",
       "1      21     Kevin Garnett\n",
       "2      21        Tim Duncan\n",
       "3      34       Paul Pierce\n",
       "4      34  Shaquille O'Neal"
      ]
     },
     "execution_count": 23,
     "metadata": {
      "tags": []
     },
     "output_type": "execute_result"
    }
   ],
   "source": [
    "df.sort_values(by=[\"number\", \"player\"]).reset_index(drop=True)"
   ]
  },
  {
   "cell_type": "markdown",
   "metadata": {
    "colab_type": "text",
    "id": "820aduKh7UmY"
   },
   "source": [
    "#### 摘要資料框"
   ]
  },
  {
   "cell_type": "code",
   "execution_count": 0,
   "metadata": {
    "colab": {
     "autoexec": {
      "startup": false,
      "wait_interval": 0
     },
     "base_uri": "https://localhost:8080/",
     "height": 294
    },
    "colab_type": "code",
    "executionInfo": {
     "elapsed": 865,
     "status": "ok",
     "timestamp": 1528621307983,
     "user": {
      "displayName": "Tony Kuo",
      "photoUrl": "https://lh3.googleusercontent.com/a/default-user=s128",
      "userId": "115283668914988550359"
     },
     "user_tz": -480
    },
    "id": "N9ys7uu_6mAu",
    "outputId": "89dde982-cd24-4459-a1da-7a062acbf45b"
   },
   "outputs": [
    {
     "data": {
      "text/html": [
       "<div>\n",
       "<style scoped>\n",
       "    .dataframe tbody tr th:only-of-type {\n",
       "        vertical-align: middle;\n",
       "    }\n",
       "\n",
       "    .dataframe tbody tr th {\n",
       "        vertical-align: top;\n",
       "    }\n",
       "\n",
       "    .dataframe thead th {\n",
       "        text-align: right;\n",
       "    }\n",
       "</style>\n",
       "<table border=\"1\" class=\"dataframe\">\n",
       "  <thead>\n",
       "    <tr style=\"text-align: right;\">\n",
       "      <th></th>\n",
       "      <th>number</th>\n",
       "    </tr>\n",
       "  </thead>\n",
       "  <tbody>\n",
       "    <tr>\n",
       "      <th>count</th>\n",
       "      <td>5.000000</td>\n",
       "    </tr>\n",
       "    <tr>\n",
       "      <th>mean</th>\n",
       "      <td>24.600000</td>\n",
       "    </tr>\n",
       "    <tr>\n",
       "      <th>std</th>\n",
       "      <td>9.181503</td>\n",
       "    </tr>\n",
       "    <tr>\n",
       "      <th>min</th>\n",
       "      <td>13.000000</td>\n",
       "    </tr>\n",
       "    <tr>\n",
       "      <th>25%</th>\n",
       "      <td>21.000000</td>\n",
       "    </tr>\n",
       "    <tr>\n",
       "      <th>50%</th>\n",
       "      <td>21.000000</td>\n",
       "    </tr>\n",
       "    <tr>\n",
       "      <th>75%</th>\n",
       "      <td>34.000000</td>\n",
       "    </tr>\n",
       "    <tr>\n",
       "      <th>max</th>\n",
       "      <td>34.000000</td>\n",
       "    </tr>\n",
       "  </tbody>\n",
       "</table>\n",
       "</div>"
      ],
      "text/plain": [
       "          number\n",
       "count   5.000000\n",
       "mean   24.600000\n",
       "std     9.181503\n",
       "min    13.000000\n",
       "25%    21.000000\n",
       "50%    21.000000\n",
       "75%    34.000000\n",
       "max    34.000000"
      ]
     },
     "execution_count": 25,
     "metadata": {
      "tags": []
     },
     "output_type": "execute_result"
    }
   ],
   "source": [
    "df.describe()"
   ]
  },
  {
   "cell_type": "code",
   "execution_count": 0,
   "metadata": {
    "colab": {
     "autoexec": {
      "startup": false,
      "wait_interval": 0
     },
     "base_uri": "https://localhost:8080/",
     "height": 202
    },
    "colab_type": "code",
    "executionInfo": {
     "elapsed": 695,
     "status": "ok",
     "timestamp": 1528621638102,
     "user": {
      "displayName": "Tony Kuo",
      "photoUrl": "https://lh3.googleusercontent.com/a/default-user=s128",
      "userId": "115283668914988550359"
     },
     "user_tz": -480
    },
    "id": "bMweg54d7eZe",
    "outputId": "1a955935-6363-44da-be32-234de442d73f"
   },
   "outputs": [
    {
     "data": {
      "text/html": [
       "<div>\n",
       "<style scoped>\n",
       "    .dataframe tbody tr th:only-of-type {\n",
       "        vertical-align: middle;\n",
       "    }\n",
       "\n",
       "    .dataframe tbody tr th {\n",
       "        vertical-align: top;\n",
       "    }\n",
       "\n",
       "    .dataframe thead th {\n",
       "        text-align: right;\n",
       "    }\n",
       "</style>\n",
       "<table border=\"1\" class=\"dataframe\">\n",
       "  <thead>\n",
       "    <tr style=\"text-align: right;\">\n",
       "      <th></th>\n",
       "      <th>country</th>\n",
       "      <th>continent</th>\n",
       "      <th>year</th>\n",
       "      <th>lifeExp</th>\n",
       "      <th>pop</th>\n",
       "      <th>gdpPercap</th>\n",
       "    </tr>\n",
       "  </thead>\n",
       "  <tbody>\n",
       "    <tr>\n",
       "      <th>0</th>\n",
       "      <td>Afghanistan</td>\n",
       "      <td>Asia</td>\n",
       "      <td>1952</td>\n",
       "      <td>28.801</td>\n",
       "      <td>8425333</td>\n",
       "      <td>779.445314</td>\n",
       "    </tr>\n",
       "    <tr>\n",
       "      <th>1</th>\n",
       "      <td>Afghanistan</td>\n",
       "      <td>Asia</td>\n",
       "      <td>1957</td>\n",
       "      <td>30.332</td>\n",
       "      <td>9240934</td>\n",
       "      <td>820.853030</td>\n",
       "    </tr>\n",
       "    <tr>\n",
       "      <th>2</th>\n",
       "      <td>Afghanistan</td>\n",
       "      <td>Asia</td>\n",
       "      <td>1962</td>\n",
       "      <td>31.997</td>\n",
       "      <td>10267083</td>\n",
       "      <td>853.100710</td>\n",
       "    </tr>\n",
       "    <tr>\n",
       "      <th>3</th>\n",
       "      <td>Afghanistan</td>\n",
       "      <td>Asia</td>\n",
       "      <td>1967</td>\n",
       "      <td>34.020</td>\n",
       "      <td>11537966</td>\n",
       "      <td>836.197138</td>\n",
       "    </tr>\n",
       "    <tr>\n",
       "      <th>4</th>\n",
       "      <td>Afghanistan</td>\n",
       "      <td>Asia</td>\n",
       "      <td>1972</td>\n",
       "      <td>36.088</td>\n",
       "      <td>13079460</td>\n",
       "      <td>739.981106</td>\n",
       "    </tr>\n",
       "  </tbody>\n",
       "</table>\n",
       "</div>"
      ],
      "text/plain": [
       "       country continent  year  lifeExp       pop   gdpPercap\n",
       "0  Afghanistan      Asia  1952   28.801   8425333  779.445314\n",
       "1  Afghanistan      Asia  1957   30.332   9240934  820.853030\n",
       "2  Afghanistan      Asia  1962   31.997  10267083  853.100710\n",
       "3  Afghanistan      Asia  1967   34.020  11537966  836.197138\n",
       "4  Afghanistan      Asia  1972   36.088  13079460  739.981106"
      ]
     },
     "execution_count": 26,
     "metadata": {
      "tags": []
     },
     "output_type": "execute_result"
    }
   ],
   "source": [
    "csv_file = \"https://storage.googleapis.com/learn_pd_like_tidyverse/gapminder.csv\"\n",
    "gapminder = pd.read_csv(csv_file)\n",
    "gapminder.head()"
   ]
  },
  {
   "cell_type": "code",
   "execution_count": 0,
   "metadata": {
    "colab": {
     "autoexec": {
      "startup": false,
      "wait_interval": 0
     },
     "base_uri": "https://localhost:8080/",
     "height": 294
    },
    "colab_type": "code",
    "executionInfo": {
     "elapsed": 663,
     "status": "ok",
     "timestamp": 1528621680099,
     "user": {
      "displayName": "Tony Kuo",
      "photoUrl": "https://lh3.googleusercontent.com/a/default-user=s128",
      "userId": "115283668914988550359"
     },
     "user_tz": -480
    },
    "id": "kRLXVcJ48x6W",
    "outputId": "380dc940-dfe6-4932-b1cd-1ef5ad628a8c"
   },
   "outputs": [
    {
     "data": {
      "text/html": [
       "<div>\n",
       "<style scoped>\n",
       "    .dataframe tbody tr th:only-of-type {\n",
       "        vertical-align: middle;\n",
       "    }\n",
       "\n",
       "    .dataframe tbody tr th {\n",
       "        vertical-align: top;\n",
       "    }\n",
       "\n",
       "    .dataframe thead th {\n",
       "        text-align: right;\n",
       "    }\n",
       "</style>\n",
       "<table border=\"1\" class=\"dataframe\">\n",
       "  <thead>\n",
       "    <tr style=\"text-align: right;\">\n",
       "      <th></th>\n",
       "      <th>year</th>\n",
       "      <th>lifeExp</th>\n",
       "      <th>pop</th>\n",
       "      <th>gdpPercap</th>\n",
       "    </tr>\n",
       "  </thead>\n",
       "  <tbody>\n",
       "    <tr>\n",
       "      <th>count</th>\n",
       "      <td>1704.00000</td>\n",
       "      <td>1704.000000</td>\n",
       "      <td>1.704000e+03</td>\n",
       "      <td>1704.000000</td>\n",
       "    </tr>\n",
       "    <tr>\n",
       "      <th>mean</th>\n",
       "      <td>1979.50000</td>\n",
       "      <td>59.474439</td>\n",
       "      <td>2.960121e+07</td>\n",
       "      <td>7215.327081</td>\n",
       "    </tr>\n",
       "    <tr>\n",
       "      <th>std</th>\n",
       "      <td>17.26533</td>\n",
       "      <td>12.917107</td>\n",
       "      <td>1.061579e+08</td>\n",
       "      <td>9857.454543</td>\n",
       "    </tr>\n",
       "    <tr>\n",
       "      <th>min</th>\n",
       "      <td>1952.00000</td>\n",
       "      <td>23.599000</td>\n",
       "      <td>6.001100e+04</td>\n",
       "      <td>241.165877</td>\n",
       "    </tr>\n",
       "    <tr>\n",
       "      <th>25%</th>\n",
       "      <td>1965.75000</td>\n",
       "      <td>48.198000</td>\n",
       "      <td>2.793664e+06</td>\n",
       "      <td>1202.060309</td>\n",
       "    </tr>\n",
       "    <tr>\n",
       "      <th>50%</th>\n",
       "      <td>1979.50000</td>\n",
       "      <td>60.712500</td>\n",
       "      <td>7.023596e+06</td>\n",
       "      <td>3531.846989</td>\n",
       "    </tr>\n",
       "    <tr>\n",
       "      <th>75%</th>\n",
       "      <td>1993.25000</td>\n",
       "      <td>70.845500</td>\n",
       "      <td>1.958522e+07</td>\n",
       "      <td>9325.462346</td>\n",
       "    </tr>\n",
       "    <tr>\n",
       "      <th>max</th>\n",
       "      <td>2007.00000</td>\n",
       "      <td>82.603000</td>\n",
       "      <td>1.318683e+09</td>\n",
       "      <td>113523.132900</td>\n",
       "    </tr>\n",
       "  </tbody>\n",
       "</table>\n",
       "</div>"
      ],
      "text/plain": [
       "             year      lifeExp           pop      gdpPercap\n",
       "count  1704.00000  1704.000000  1.704000e+03    1704.000000\n",
       "mean   1979.50000    59.474439  2.960121e+07    7215.327081\n",
       "std      17.26533    12.917107  1.061579e+08    9857.454543\n",
       "min    1952.00000    23.599000  6.001100e+04     241.165877\n",
       "25%    1965.75000    48.198000  2.793664e+06    1202.060309\n",
       "50%    1979.50000    60.712500  7.023596e+06    3531.846989\n",
       "75%    1993.25000    70.845500  1.958522e+07    9325.462346\n",
       "max    2007.00000    82.603000  1.318683e+09  113523.132900"
      ]
     },
     "execution_count": 27,
     "metadata": {
      "tags": []
     },
     "output_type": "execute_result"
    }
   ],
   "source": [
    "gapminder.describe()"
   ]
  },
  {
   "cell_type": "code",
   "execution_count": 0,
   "metadata": {
    "colab": {
     "autoexec": {
      "startup": false,
      "wait_interval": 0
     },
     "base_uri": "https://localhost:8080/",
     "height": 35
    },
    "colab_type": "code",
    "executionInfo": {
     "elapsed": 723,
     "status": "ok",
     "timestamp": 1528621772880,
     "user": {
      "displayName": "Tony Kuo",
      "photoUrl": "https://lh3.googleusercontent.com/a/default-user=s128",
      "userId": "115283668914988550359"
     },
     "user_tz": -480
    },
    "id": "FAN5LSda88J0",
    "outputId": "9a595f69-d703-45c6-b631-3cf2a6c0bf5d"
   },
   "outputs": [
    {
     "data": {
      "text/plain": [
       "1952"
      ]
     },
     "execution_count": 28,
     "metadata": {
      "tags": []
     },
     "output_type": "execute_result"
    }
   ],
   "source": [
    "gapminder[\"year\"].min()"
   ]
  },
  {
   "cell_type": "code",
   "execution_count": 0,
   "metadata": {
    "colab": {
     "autoexec": {
      "startup": false,
      "wait_interval": 0
     },
     "base_uri": "https://localhost:8080/",
     "height": 35
    },
    "colab_type": "code",
    "executionInfo": {
     "elapsed": 876,
     "status": "ok",
     "timestamp": 1528621805519,
     "user": {
      "displayName": "Tony Kuo",
      "photoUrl": "https://lh3.googleusercontent.com/a/default-user=s128",
      "userId": "115283668914988550359"
     },
     "user_tz": -480
    },
    "id": "rCkFacTe9SzE",
    "outputId": "1cb585df-3c1b-4614-ed06-85f7495eb85c"
   },
   "outputs": [
    {
     "data": {
      "text/plain": [
       "1318683096"
      ]
     },
     "execution_count": 29,
     "metadata": {
      "tags": []
     },
     "output_type": "execute_result"
    }
   ],
   "source": [
    "gapminder[\"pop\"].max()"
   ]
  },
  {
   "cell_type": "code",
   "execution_count": 0,
   "metadata": {
    "colab": {
     "autoexec": {
      "startup": false,
      "wait_interval": 0
     },
     "base_uri": "https://localhost:8080/",
     "height": 35
    },
    "colab_type": "code",
    "executionInfo": {
     "elapsed": 791,
     "status": "ok",
     "timestamp": 1528621819360,
     "user": {
      "displayName": "Tony Kuo",
      "photoUrl": "https://lh3.googleusercontent.com/a/default-user=s128",
      "userId": "115283668914988550359"
     },
     "user_tz": -480
    },
    "id": "-RyX2Wb-9at5",
    "outputId": "13eb4a40-2010-465c-e24d-9f484b13ea2a"
   },
   "outputs": [
    {
     "data": {
      "text/plain": [
       "3531.8469885000004"
      ]
     },
     "execution_count": 30,
     "metadata": {
      "tags": []
     },
     "output_type": "execute_result"
    }
   ],
   "source": [
    "gapminder[\"gdpPercap\"].median()"
   ]
  },
  {
   "cell_type": "markdown",
   "metadata": {
    "colab_type": "text",
    "id": "iIUVgWIn_XgP"
   },
   "source": [
    "#### 依照類別分組摘要\n",
    "\n",
    "- 使用 `.groupby()` \n",
    "- 指定變數與摘要的函數"
   ]
  },
  {
   "cell_type": "code",
   "execution_count": 0,
   "metadata": {
    "colab": {
     "autoexec": {
      "startup": false,
      "wait_interval": 0
     },
     "base_uri": "https://localhost:8080/",
     "height": 139
    },
    "colab_type": "code",
    "executionInfo": {
     "elapsed": 1175,
     "status": "ok",
     "timestamp": 1528622301761,
     "user": {
      "displayName": "Tony Kuo",
      "photoUrl": "https://lh3.googleusercontent.com/a/default-user=s128",
      "userId": "115283668914988550359"
     },
     "user_tz": -480
    },
    "id": "9FH81p8Y9eIb",
    "outputId": "e17afd86-0592-42ac-f778-4f767a3739cd"
   },
   "outputs": [
    {
     "data": {
      "text/plain": [
       "continent\n",
       "Africa       135031164\n",
       "Americas     301139947\n",
       "Asia        1318683096\n",
       "Europe        82400996\n",
       "Oceania       20434176\n",
       "Name: pop, dtype: int64"
      ]
     },
     "execution_count": 33,
     "metadata": {
      "tags": []
     },
     "output_type": "execute_result"
    }
   ],
   "source": [
    "gapminder_2007 = gapminder[gapminder[\"year\"] == 2007]\n",
    "grouped = gapminder_2007.groupby(\"continent\")\n",
    "grouped[\"pop\"].max()"
   ]
  },
  {
   "cell_type": "code",
   "execution_count": 0,
   "metadata": {
    "colab": {
     "autoexec": {
      "startup": false,
      "wait_interval": 0
     },
     "base_uri": "https://localhost:8080/",
     "height": 1092
    },
    "colab_type": "code",
    "executionInfo": {
     "elapsed": 703,
     "status": "ok",
     "timestamp": 1528622491433,
     "user": {
      "displayName": "Tony Kuo",
      "photoUrl": "https://lh3.googleusercontent.com/a/default-user=s128",
      "userId": "115283668914988550359"
     },
     "user_tz": -480
    },
    "id": "LkftN-wb-fz_",
    "outputId": "237b805b-962a-4d0a-8e01-0735a208d960"
   },
   "outputs": [
    {
     "data": {
      "text/plain": [
       "year  continent\n",
       "1952  Africa         33119096\n",
       "      Americas      157553000\n",
       "      Asia          556263527\n",
       "      Europe         69145952\n",
       "      Oceania         8691212\n",
       "1957  Africa         37173340\n",
       "      Americas      171984000\n",
       "      Asia          637408000\n",
       "      Europe         71019069\n",
       "      Oceania         9712569\n",
       "1962  Africa         41871351\n",
       "      Americas      186538000\n",
       "      Asia          665770000\n",
       "      Europe         73739117\n",
       "      Oceania        10794968\n",
       "1967  Africa         47287752\n",
       "      Americas      198712000\n",
       "      Asia          754550000\n",
       "      Europe         76368453\n",
       "      Oceania        11872264\n",
       "1972  Africa         53740085\n",
       "      Americas      209896000\n",
       "      Asia          862030000\n",
       "      Europe         78717088\n",
       "      Oceania        13177000\n",
       "1977  Africa         62209173\n",
       "      Americas      220239000\n",
       "      Asia          943455000\n",
       "      Europe         78160773\n",
       "      Oceania        14074100\n",
       "1982  Africa         73039376\n",
       "      Americas      232187835\n",
       "      Asia         1000281000\n",
       "      Europe         78335266\n",
       "      Oceania        15184200\n",
       "1987  Africa         81551520\n",
       "      Americas      242803533\n",
       "      Asia         1084035000\n",
       "      Europe         77718298\n",
       "      Oceania        16257249\n",
       "1992  Africa         93364244\n",
       "      Americas      256894189\n",
       "      Asia         1164970000\n",
       "      Europe         80597764\n",
       "      Oceania        17481977\n",
       "1997  Africa        106207839\n",
       "      Americas      272911760\n",
       "      Asia         1230075000\n",
       "      Europe         82011073\n",
       "      Oceania        18565243\n",
       "2002  Africa        119901274\n",
       "      Americas      287675526\n",
       "      Asia         1280400000\n",
       "      Europe         82350671\n",
       "      Oceania        19546792\n",
       "2007  Africa        135031164\n",
       "      Americas      301139947\n",
       "      Asia         1318683096\n",
       "      Europe         82400996\n",
       "      Oceania        20434176\n",
       "Name: pop, dtype: int64"
      ]
     },
     "execution_count": 34,
     "metadata": {
      "tags": []
     },
     "output_type": "execute_result"
    }
   ],
   "source": [
    "grouped = gapminder.groupby([\"year\", \"continent\"])\n",
    "grouped[\"pop\"].max()"
   ]
  },
  {
   "cell_type": "code",
   "execution_count": 0,
   "metadata": {
    "colab": {
     "autoexec": {
      "startup": false,
      "wait_interval": 0
     },
     "base_uri": "https://localhost:8080/",
     "height": 35
    },
    "colab_type": "code",
    "executionInfo": {
     "elapsed": 783,
     "status": "ok",
     "timestamp": 1528622651245,
     "user": {
      "displayName": "Tony Kuo",
      "photoUrl": "https://lh3.googleusercontent.com/a/default-user=s128",
      "userId": "115283668914988550359"
     },
     "user_tz": -480
    },
    "id": "D33oEoLVACOj",
    "outputId": "0e474d77-a792-47ca-dc95-148573bd5320"
   },
   "outputs": [
    {
     "data": {
      "text/plain": [
       "1318683096"
      ]
     },
     "execution_count": 35,
     "metadata": {
      "tags": []
     },
     "output_type": "execute_result"
    }
   ],
   "source": [
    "gapminder_2007[\"pop\"].max()"
   ]
  },
  {
   "cell_type": "code",
   "execution_count": 0,
   "metadata": {
    "colab": {
     "autoexec": {
      "startup": false,
      "wait_interval": 0
     },
     "base_uri": "https://localhost:8080/",
     "height": 202
    },
    "colab_type": "code",
    "executionInfo": {
     "elapsed": 1019,
     "status": "ok",
     "timestamp": 1528622711458,
     "user": {
      "displayName": "Tony Kuo",
      "photoUrl": "https://lh3.googleusercontent.com/a/default-user=s128",
      "userId": "115283668914988550359"
     },
     "user_tz": -480
    },
    "id": "uzHD5oOOApNp",
    "outputId": "c39d5cd0-b2f9-4db3-88bf-e065bd402efe"
   },
   "outputs": [
    {
     "data": {
      "text/html": [
       "<div>\n",
       "<style scoped>\n",
       "    .dataframe tbody tr th:only-of-type {\n",
       "        vertical-align: middle;\n",
       "    }\n",
       "\n",
       "    .dataframe tbody tr th {\n",
       "        vertical-align: top;\n",
       "    }\n",
       "\n",
       "    .dataframe thead th {\n",
       "        text-align: right;\n",
       "    }\n",
       "</style>\n",
       "<table border=\"1\" class=\"dataframe\">\n",
       "  <thead>\n",
       "    <tr style=\"text-align: right;\">\n",
       "      <th></th>\n",
       "      <th>country</th>\n",
       "      <th>continent</th>\n",
       "      <th>year</th>\n",
       "      <th>lifeExp</th>\n",
       "      <th>pop</th>\n",
       "      <th>gdpPercap</th>\n",
       "    </tr>\n",
       "  </thead>\n",
       "  <tbody>\n",
       "    <tr>\n",
       "      <th>11</th>\n",
       "      <td>Afghanistan</td>\n",
       "      <td>Asia</td>\n",
       "      <td>2007</td>\n",
       "      <td>43.828</td>\n",
       "      <td>31889923</td>\n",
       "      <td>974.580338</td>\n",
       "    </tr>\n",
       "    <tr>\n",
       "      <th>23</th>\n",
       "      <td>Albania</td>\n",
       "      <td>Europe</td>\n",
       "      <td>2007</td>\n",
       "      <td>76.423</td>\n",
       "      <td>3600523</td>\n",
       "      <td>5937.029526</td>\n",
       "    </tr>\n",
       "    <tr>\n",
       "      <th>35</th>\n",
       "      <td>Algeria</td>\n",
       "      <td>Africa</td>\n",
       "      <td>2007</td>\n",
       "      <td>72.301</td>\n",
       "      <td>33333216</td>\n",
       "      <td>6223.367465</td>\n",
       "    </tr>\n",
       "    <tr>\n",
       "      <th>47</th>\n",
       "      <td>Angola</td>\n",
       "      <td>Africa</td>\n",
       "      <td>2007</td>\n",
       "      <td>42.731</td>\n",
       "      <td>12420476</td>\n",
       "      <td>4797.231267</td>\n",
       "    </tr>\n",
       "    <tr>\n",
       "      <th>59</th>\n",
       "      <td>Argentina</td>\n",
       "      <td>Americas</td>\n",
       "      <td>2007</td>\n",
       "      <td>75.320</td>\n",
       "      <td>40301927</td>\n",
       "      <td>12779.379640</td>\n",
       "    </tr>\n",
       "  </tbody>\n",
       "</table>\n",
       "</div>"
      ],
      "text/plain": [
       "        country continent  year  lifeExp       pop     gdpPercap\n",
       "11  Afghanistan      Asia  2007   43.828  31889923    974.580338\n",
       "23      Albania    Europe  2007   76.423   3600523   5937.029526\n",
       "35      Algeria    Africa  2007   72.301  33333216   6223.367465\n",
       "47       Angola    Africa  2007   42.731  12420476   4797.231267\n",
       "59    Argentina  Americas  2007   75.320  40301927  12779.379640"
      ]
     },
     "execution_count": 36,
     "metadata": {
      "tags": []
     },
     "output_type": "execute_result"
    }
   ],
   "source": [
    "gapminder_2007.head()"
   ]
  },
  {
   "cell_type": "markdown",
   "metadata": {
    "colab_type": "text",
    "id": "4m-sf7I-C5yT"
   },
   "source": [
    "#### 隨堂練習需要用到的方法\n",
    "\n",
    "- `df.idxmax()`\n",
    "- `df.idxmin()`"
   ]
  },
  {
   "cell_type": "code",
   "execution_count": 0,
   "metadata": {
    "colab": {
     "autoexec": {
      "startup": false,
      "wait_interval": 0
     }
    },
    "colab_type": "code",
    "id": "LzQgf9iFA33E"
   },
   "outputs": [],
   "source": [
    "gapminder_2007 = gapminder_2007.set_index(\"country\")"
   ]
  },
  {
   "cell_type": "code",
   "execution_count": 0,
   "metadata": {
    "colab": {
     "autoexec": {
      "startup": false,
      "wait_interval": 0
     },
     "base_uri": "https://localhost:8080/",
     "height": 233
    },
    "colab_type": "code",
    "executionInfo": {
     "elapsed": 804,
     "status": "ok",
     "timestamp": 1528623296116,
     "user": {
      "displayName": "Tony Kuo",
      "photoUrl": "https://lh3.googleusercontent.com/a/default-user=s128",
      "userId": "115283668914988550359"
     },
     "user_tz": -480
    },
    "id": "iLpjUyBHDEyo",
    "outputId": "2709fd77-a317-4453-d6cd-645aeb6ba66e"
   },
   "outputs": [
    {
     "data": {
      "text/html": [
       "<div>\n",
       "<style scoped>\n",
       "    .dataframe tbody tr th:only-of-type {\n",
       "        vertical-align: middle;\n",
       "    }\n",
       "\n",
       "    .dataframe tbody tr th {\n",
       "        vertical-align: top;\n",
       "    }\n",
       "\n",
       "    .dataframe thead th {\n",
       "        text-align: right;\n",
       "    }\n",
       "</style>\n",
       "<table border=\"1\" class=\"dataframe\">\n",
       "  <thead>\n",
       "    <tr style=\"text-align: right;\">\n",
       "      <th></th>\n",
       "      <th>continent</th>\n",
       "      <th>year</th>\n",
       "      <th>lifeExp</th>\n",
       "      <th>pop</th>\n",
       "      <th>gdpPercap</th>\n",
       "    </tr>\n",
       "    <tr>\n",
       "      <th>country</th>\n",
       "      <th></th>\n",
       "      <th></th>\n",
       "      <th></th>\n",
       "      <th></th>\n",
       "      <th></th>\n",
       "    </tr>\n",
       "  </thead>\n",
       "  <tbody>\n",
       "    <tr>\n",
       "      <th>Afghanistan</th>\n",
       "      <td>Asia</td>\n",
       "      <td>2007</td>\n",
       "      <td>43.828</td>\n",
       "      <td>31889923</td>\n",
       "      <td>974.580338</td>\n",
       "    </tr>\n",
       "    <tr>\n",
       "      <th>Albania</th>\n",
       "      <td>Europe</td>\n",
       "      <td>2007</td>\n",
       "      <td>76.423</td>\n",
       "      <td>3600523</td>\n",
       "      <td>5937.029526</td>\n",
       "    </tr>\n",
       "    <tr>\n",
       "      <th>Algeria</th>\n",
       "      <td>Africa</td>\n",
       "      <td>2007</td>\n",
       "      <td>72.301</td>\n",
       "      <td>33333216</td>\n",
       "      <td>6223.367465</td>\n",
       "    </tr>\n",
       "    <tr>\n",
       "      <th>Angola</th>\n",
       "      <td>Africa</td>\n",
       "      <td>2007</td>\n",
       "      <td>42.731</td>\n",
       "      <td>12420476</td>\n",
       "      <td>4797.231267</td>\n",
       "    </tr>\n",
       "    <tr>\n",
       "      <th>Argentina</th>\n",
       "      <td>Americas</td>\n",
       "      <td>2007</td>\n",
       "      <td>75.320</td>\n",
       "      <td>40301927</td>\n",
       "      <td>12779.379640</td>\n",
       "    </tr>\n",
       "  </tbody>\n",
       "</table>\n",
       "</div>"
      ],
      "text/plain": [
       "            continent  year  lifeExp       pop     gdpPercap\n",
       "country                                                     \n",
       "Afghanistan      Asia  2007   43.828  31889923    974.580338\n",
       "Albania        Europe  2007   76.423   3600523   5937.029526\n",
       "Algeria        Africa  2007   72.301  33333216   6223.367465\n",
       "Angola         Africa  2007   42.731  12420476   4797.231267\n",
       "Argentina    Americas  2007   75.320  40301927  12779.379640"
      ]
     },
     "execution_count": 43,
     "metadata": {
      "tags": []
     },
     "output_type": "execute_result"
    }
   ],
   "source": [
    "gapminder_2007.head()"
   ]
  },
  {
   "cell_type": "code",
   "execution_count": 0,
   "metadata": {
    "colab": {
     "autoexec": {
      "startup": false,
      "wait_interval": 0
     },
     "base_uri": "https://localhost:8080/",
     "height": 35
    },
    "colab_type": "code",
    "executionInfo": {
     "elapsed": 1182,
     "status": "ok",
     "timestamp": 1528622833013,
     "user": {
      "displayName": "Tony Kuo",
      "photoUrl": "https://lh3.googleusercontent.com/a/default-user=s128",
      "userId": "115283668914988550359"
     },
     "user_tz": -480
    },
    "id": "1En7QL5TBIvb",
    "outputId": "5fed4eb3-be21-47ed-ed75-7cc2c1521601"
   },
   "outputs": [
    {
     "data": {
      "text/plain": [
       "1318683096"
      ]
     },
     "execution_count": 39,
     "metadata": {
      "tags": []
     },
     "output_type": "execute_result"
    }
   ],
   "source": [
    "gapminder_2007[\"pop\"].max()"
   ]
  },
  {
   "cell_type": "code",
   "execution_count": 0,
   "metadata": {
    "colab": {
     "autoexec": {
      "startup": false,
      "wait_interval": 0
     },
     "base_uri": "https://localhost:8080/",
     "height": 35
    },
    "colab_type": "code",
    "executionInfo": {
     "elapsed": 740,
     "status": "ok",
     "timestamp": 1528622911604,
     "user": {
      "displayName": "Tony Kuo",
      "photoUrl": "https://lh3.googleusercontent.com/a/default-user=s128",
      "userId": "115283668914988550359"
     },
     "user_tz": -480
    },
    "id": "YykCNNbyBVe6",
    "outputId": "911befbb-89c9-4b64-e907-094de062ae40"
   },
   "outputs": [
    {
     "data": {
      "text/plain": [
       "'China'"
      ]
     },
     "execution_count": 40,
     "metadata": {
      "tags": []
     },
     "output_type": "execute_result"
    }
   ],
   "source": [
    "gapminder_2007[\"pop\"].idxmax()"
   ]
  },
  {
   "cell_type": "code",
   "execution_count": 0,
   "metadata": {
    "colab": {
     "autoexec": {
      "startup": false,
      "wait_interval": 0
     },
     "base_uri": "https://localhost:8080/",
     "height": 35
    },
    "colab_type": "code",
    "executionInfo": {
     "elapsed": 1094,
     "status": "ok",
     "timestamp": 1528622962210,
     "user": {
      "displayName": "Tony Kuo",
      "photoUrl": "https://lh3.googleusercontent.com/a/default-user=s128",
      "userId": "115283668914988550359"
     },
     "user_tz": -480
    },
    "id": "z52WZs4rBoy6",
    "outputId": "2c5bb588-c9ed-4082-e38e-10d84e096bb7"
   },
   "outputs": [
    {
     "data": {
      "text/plain": [
       "199579"
      ]
     },
     "execution_count": 41,
     "metadata": {
      "tags": []
     },
     "output_type": "execute_result"
    }
   ],
   "source": [
    "gapminder_2007[\"pop\"].min()"
   ]
  },
  {
   "cell_type": "code",
   "execution_count": 0,
   "metadata": {
    "colab": {
     "autoexec": {
      "startup": false,
      "wait_interval": 0
     },
     "base_uri": "https://localhost:8080/",
     "height": 35
    },
    "colab_type": "code",
    "executionInfo": {
     "elapsed": 1166,
     "status": "ok",
     "timestamp": 1528622980234,
     "user": {
      "displayName": "Tony Kuo",
      "photoUrl": "https://lh3.googleusercontent.com/a/default-user=s128",
      "userId": "115283668914988550359"
     },
     "user_tz": -480
    },
    "id": "mSaIhmAwB1D1",
    "outputId": "924efb99-0edb-4587-d7b0-c8c29c9c726b"
   },
   "outputs": [
    {
     "data": {
      "text/plain": [
       "'Sao Tome and Principe'"
      ]
     },
     "execution_count": 42,
     "metadata": {
      "tags": []
     },
     "output_type": "execute_result"
    }
   ],
   "source": [
    "gapminder_2007[\"pop\"].idxmin()"
   ]
  },
  {
   "cell_type": "code",
   "execution_count": 0,
   "metadata": {
    "colab": {
     "autoexec": {
      "startup": false,
      "wait_interval": 0
     }
    },
    "colab_type": "code",
    "id": "Zeyj92h8B5cH"
   },
   "outputs": [],
   "source": []
  },
  {
   "cell_type": "markdown",
   "metadata": {
    "colab_type": "text",
    "id": "X8o30YCvF2e0"
   },
   "source": [
    "### pandas 專題：奧運獎牌"
   ]
  },
  {
   "cell_type": "code",
   "execution_count": 0,
   "metadata": {
    "colab": {
     "autoexec": {
      "startup": false,
      "wait_interval": 0
     },
     "base_uri": "https://localhost:8080/",
     "height": 239
    },
    "colab_type": "code",
    "executionInfo": {
     "elapsed": 1856,
     "status": "ok",
     "timestamp": 1528624048106,
     "user": {
      "displayName": "Tony Kuo",
      "photoUrl": "https://lh3.googleusercontent.com/a/default-user=s128",
      "userId": "115283668914988550359"
     },
     "user_tz": -480
    },
    "id": "lsGwoP1RF6ht",
    "outputId": "fa480088-8631-4598-e0b2-00326db8075b"
   },
   "outputs": [
    {
     "data": {
      "text/html": [
       "<div>\n",
       "<style scoped>\n",
       "    .dataframe tbody tr th:only-of-type {\n",
       "        vertical-align: middle;\n",
       "    }\n",
       "\n",
       "    .dataframe tbody tr th {\n",
       "        vertical-align: top;\n",
       "    }\n",
       "\n",
       "    .dataframe thead th {\n",
       "        text-align: right;\n",
       "    }\n",
       "</style>\n",
       "<table border=\"1\" class=\"dataframe\">\n",
       "  <thead>\n",
       "    <tr style=\"text-align: right;\">\n",
       "      <th></th>\n",
       "      <th># Summer</th>\n",
       "      <th>Gold</th>\n",
       "      <th>Silver</th>\n",
       "      <th>Bronze</th>\n",
       "      <th>Total</th>\n",
       "      <th># Winter</th>\n",
       "      <th>Gold.1</th>\n",
       "      <th>Silver.1</th>\n",
       "      <th>Bronze.1</th>\n",
       "      <th>Total.1</th>\n",
       "      <th># Games</th>\n",
       "      <th>Gold.2</th>\n",
       "      <th>Silver.2</th>\n",
       "      <th>Bronze.2</th>\n",
       "      <th>Combined total</th>\n",
       "      <th>ID</th>\n",
       "    </tr>\n",
       "  </thead>\n",
       "  <tbody>\n",
       "    <tr>\n",
       "      <th>Afghanistan</th>\n",
       "      <td>13</td>\n",
       "      <td>0</td>\n",
       "      <td>0</td>\n",
       "      <td>2</td>\n",
       "      <td>2</td>\n",
       "      <td>0</td>\n",
       "      <td>0</td>\n",
       "      <td>0</td>\n",
       "      <td>0</td>\n",
       "      <td>0</td>\n",
       "      <td>13</td>\n",
       "      <td>0</td>\n",
       "      <td>0</td>\n",
       "      <td>2</td>\n",
       "      <td>2</td>\n",
       "      <td>AFG</td>\n",
       "    </tr>\n",
       "    <tr>\n",
       "      <th>Algeria</th>\n",
       "      <td>12</td>\n",
       "      <td>5</td>\n",
       "      <td>2</td>\n",
       "      <td>8</td>\n",
       "      <td>15</td>\n",
       "      <td>3</td>\n",
       "      <td>0</td>\n",
       "      <td>0</td>\n",
       "      <td>0</td>\n",
       "      <td>0</td>\n",
       "      <td>15</td>\n",
       "      <td>5</td>\n",
       "      <td>2</td>\n",
       "      <td>8</td>\n",
       "      <td>15</td>\n",
       "      <td>ALG</td>\n",
       "    </tr>\n",
       "    <tr>\n",
       "      <th>Argentina</th>\n",
       "      <td>23</td>\n",
       "      <td>18</td>\n",
       "      <td>24</td>\n",
       "      <td>28</td>\n",
       "      <td>70</td>\n",
       "      <td>18</td>\n",
       "      <td>0</td>\n",
       "      <td>0</td>\n",
       "      <td>0</td>\n",
       "      <td>0</td>\n",
       "      <td>41</td>\n",
       "      <td>18</td>\n",
       "      <td>24</td>\n",
       "      <td>28</td>\n",
       "      <td>70</td>\n",
       "      <td>ARG</td>\n",
       "    </tr>\n",
       "    <tr>\n",
       "      <th>Armenia</th>\n",
       "      <td>5</td>\n",
       "      <td>1</td>\n",
       "      <td>2</td>\n",
       "      <td>9</td>\n",
       "      <td>12</td>\n",
       "      <td>6</td>\n",
       "      <td>0</td>\n",
       "      <td>0</td>\n",
       "      <td>0</td>\n",
       "      <td>0</td>\n",
       "      <td>11</td>\n",
       "      <td>1</td>\n",
       "      <td>2</td>\n",
       "      <td>9</td>\n",
       "      <td>12</td>\n",
       "      <td>ARM</td>\n",
       "    </tr>\n",
       "    <tr>\n",
       "      <th>Australasia</th>\n",
       "      <td>2</td>\n",
       "      <td>3</td>\n",
       "      <td>4</td>\n",
       "      <td>5</td>\n",
       "      <td>12</td>\n",
       "      <td>0</td>\n",
       "      <td>0</td>\n",
       "      <td>0</td>\n",
       "      <td>0</td>\n",
       "      <td>0</td>\n",
       "      <td>2</td>\n",
       "      <td>3</td>\n",
       "      <td>4</td>\n",
       "      <td>5</td>\n",
       "      <td>12</td>\n",
       "      <td>ANZ</td>\n",
       "    </tr>\n",
       "  </tbody>\n",
       "</table>\n",
       "</div>"
      ],
      "text/plain": [
       "             # Summer  Gold  Silver  Bronze  Total  # Winter  Gold.1  \\\n",
       "Afghanistan        13     0       0       2      2         0       0   \n",
       "Algeria            12     5       2       8     15         3       0   \n",
       "Argentina          23    18      24      28     70        18       0   \n",
       "Armenia             5     1       2       9     12         6       0   \n",
       "Australasia         2     3       4       5     12         0       0   \n",
       "\n",
       "             Silver.1  Bronze.1  Total.1  # Games  Gold.2  Silver.2  Bronze.2  \\\n",
       "Afghanistan         0         0        0       13       0         0         2   \n",
       "Algeria             0         0        0       15       5         2         8   \n",
       "Argentina           0         0        0       41      18        24        28   \n",
       "Armenia             0         0        0       11       1         2         9   \n",
       "Australasia         0         0        0        2       3         4         5   \n",
       "\n",
       "             Combined total   ID  \n",
       "Afghanistan               2  AFG  \n",
       "Algeria                  15  ALG  \n",
       "Argentina                70  ARG  \n",
       "Armenia                  12  ARM  \n",
       "Australasia              12  ANZ  "
      ]
     },
     "execution_count": 44,
     "metadata": {
      "tags": []
     },
     "output_type": "execute_result"
    }
   ],
   "source": [
    "import pandas as pd\n",
    "\n",
    "df = pd.read_csv('https://storage.googleapis.com/py_ml_datasets/olympics.csv', index_col=0, skiprows=1)\n",
    "\n",
    "for col in df.columns:\n",
    "    if col[:2]=='01':\n",
    "        df.rename(columns={col:'Gold'+col[4:]}, inplace=True)\n",
    "    if col[:2]=='02':\n",
    "        df.rename(columns={col:'Silver'+col[4:]}, inplace=True)\n",
    "    if col[:2]=='03':\n",
    "        df.rename(columns={col:'Bronze'+col[4:]}, inplace=True)\n",
    "    if col[:1]=='№':\n",
    "        df.rename(columns={col:'#'+col[1:]}, inplace=True)\n",
    "\n",
    "names_ids = df.index.str.split('\\s\\(') # split the index by '('\n",
    "\n",
    "df.index = names_ids.str[0] # the [0] element is the country name (new index) \n",
    "df['ID'] = names_ids.str[1].str[:3] # the [1] element is the abbreviation or ID (take first 3 characters from that)\n",
    "\n",
    "df = df.drop('Totals')\n",
    "df.head()"
   ]
  },
  {
   "cell_type": "code",
   "execution_count": 0,
   "metadata": {
    "colab": {
     "autoexec": {
      "startup": false,
      "wait_interval": 0
     },
     "base_uri": "https://localhost:8080/",
     "height": 35
    },
    "colab_type": "code",
    "executionInfo": {
     "elapsed": 699,
     "status": "ok",
     "timestamp": 1528624060367,
     "user": {
      "displayName": "Tony Kuo",
      "photoUrl": "https://lh3.googleusercontent.com/a/default-user=s128",
      "userId": "115283668914988550359"
     },
     "user_tz": -480
    },
    "id": "AMIIBUIMF9Kb",
    "outputId": "29b107ab-1733-4713-df24-a1ab9ea5df19"
   },
   "outputs": [
    {
     "data": {
      "text/plain": [
       "(146, 16)"
      ]
     },
     "execution_count": 45,
     "metadata": {
      "tags": []
     },
     "output_type": "execute_result"
    }
   ],
   "source": [
    "df.shape"
   ]
  },
  {
   "cell_type": "code",
   "execution_count": 0,
   "metadata": {
    "colab": {
     "autoexec": {
      "startup": false,
      "wait_interval": 0
     },
     "base_uri": "https://localhost:8080/",
     "height": 35
    },
    "colab_type": "code",
    "executionInfo": {
     "elapsed": 962,
     "status": "ok",
     "timestamp": 1528624822069,
     "user": {
      "displayName": "Tony Kuo",
      "photoUrl": "https://lh3.googleusercontent.com/a/default-user=s128",
      "userId": "115283668914988550359"
     },
     "user_tz": -480
    },
    "id": "dYfDzQfYGBRM",
    "outputId": "d7af82cd-91ab-4b55-db0b-6cf1c5bd30a7"
   },
   "outputs": [
    {
     "data": {
      "text/plain": [
       "'United States'"
      ]
     },
     "execution_count": 47,
     "metadata": {
      "tags": []
     },
     "output_type": "execute_result"
    }
   ],
   "source": [
    "## answer_one()\n",
    "\n",
    "def answer_one():\n",
    "  return df[\"Gold\"].idxmax()\n",
    "\n",
    "answer_one()"
   ]
  },
  {
   "cell_type": "code",
   "execution_count": 0,
   "metadata": {
    "colab": {
     "autoexec": {
      "startup": false,
      "wait_interval": 0
     },
     "base_uri": "https://localhost:8080/",
     "height": 35
    },
    "colab_type": "code",
    "executionInfo": {
     "elapsed": 917,
     "status": "ok",
     "timestamp": 1528625941073,
     "user": {
      "displayName": "Tony Kuo",
      "photoUrl": "https://lh3.googleusercontent.com/a/default-user=s128",
      "userId": "115283668914988550359"
     },
     "user_tz": -480
    },
    "id": "HpgxoBWrIzG3",
    "outputId": "04bdd0d1-8fde-4f22-900a-d034fba88b2b"
   },
   "outputs": [
    {
     "data": {
      "text/plain": [
       "'United States'"
      ]
     },
     "execution_count": 53,
     "metadata": {
      "tags": []
     },
     "output_type": "execute_result"
    }
   ],
   "source": [
    "## answer_two()\n",
    "\n",
    "def answer_two():\n",
    "  diff = df[\"Gold.1\"] - df[\"Gold\"]\n",
    "  abs_diff = diff.abs()\n",
    "  return abs_diff.idxmax()\n",
    "\n",
    "answer_two()"
   ]
  },
  {
   "cell_type": "code",
   "execution_count": 0,
   "metadata": {
    "colab": {
     "autoexec": {
      "startup": false,
      "wait_interval": 0
     },
     "base_uri": "https://localhost:8080/",
     "height": 35
    },
    "colab_type": "code",
    "executionInfo": {
     "elapsed": 803,
     "status": "ok",
     "timestamp": 1528627456969,
     "user": {
      "displayName": "Tony Kuo",
      "photoUrl": "https://lh3.googleusercontent.com/a/default-user=s128",
      "userId": "115283668914988550359"
     },
     "user_tz": -480
    },
    "id": "ukwKWiDZMd7n",
    "outputId": "57f94749-3e1f-4084-a6ee-e3c44074edf2"
   },
   "outputs": [
    {
     "data": {
      "text/plain": [
       "'Bulgaria'"
      ]
     },
     "execution_count": 58,
     "metadata": {
      "tags": []
     },
     "output_type": "execute_result"
    }
   ],
   "source": [
    "## answer_three()\n",
    "\n",
    "def answer_three():\n",
    "  has_summer_gold = df[\"Gold\"] >= 1\n",
    "  has_winter_gold = df[\"Gold.1\"] >= 1\n",
    "  df_has_gold = df[has_summer_gold & has_winter_gold]\n",
    "  ratio = (df_has_gold[\"Gold\"] - df_has_gold[\"Gold.1\"]).abs()/(df_has_gold[\"Gold\"] + df_has_gold[\"Gold.1\"])\n",
    "  return ratio.idxmax()\n",
    "\n",
    "answer_three()"
   ]
  },
  {
   "cell_type": "code",
   "execution_count": 0,
   "metadata": {
    "colab": {
     "autoexec": {
      "startup": false,
      "wait_interval": 0
     },
     "base_uri": "https://localhost:8080/",
     "height": 312
    },
    "colab_type": "code",
    "executionInfo": {
     "elapsed": 913,
     "status": "ok",
     "timestamp": 1528627480970,
     "user": {
      "displayName": "Tony Kuo",
      "photoUrl": "https://lh3.googleusercontent.com/a/default-user=s128",
      "userId": "115283668914988550359"
     },
     "user_tz": -480
    },
    "id": "bRI1L2EJRuuv",
    "outputId": "1b0bf5f1-c934-4286-b7ba-4379fc16b988"
   },
   "outputs": [
    {
     "data": {
      "text/plain": [
       "# Summer           19\n",
       "Gold               51\n",
       "Silver             85\n",
       "Bronze             78\n",
       "Total             214\n",
       "# Winter           19\n",
       "Gold.1              1\n",
       "Silver.1            2\n",
       "Bronze.1            3\n",
       "Total.1             6\n",
       "# Games            38\n",
       "Gold.2             52\n",
       "Silver.2           87\n",
       "Bronze.2           81\n",
       "Combined total    220\n",
       "ID                BUL\n",
       "Name: Bulgaria, dtype: object"
      ]
     },
     "execution_count": 59,
     "metadata": {
      "tags": []
     },
     "output_type": "execute_result"
    }
   ],
   "source": [
    "df.loc['Bulgaria', :]"
   ]
  },
  {
   "cell_type": "code",
   "execution_count": 0,
   "metadata": {
    "colab": {
     "autoexec": {
      "startup": false,
      "wait_interval": 0
     }
    },
    "colab_type": "code",
    "id": "zzt5TwBUTEUF"
   },
   "outputs": [],
   "source": [
    "## answer_four()\n",
    "\n",
    "def answer_four():\n",
    "  points = df[\"Gold.2\"] * 3 + df[\"Silver.2\"] + df[\"Bronze.2\"]\n",
    "  return points"
   ]
  },
  {
   "cell_type": "code",
   "execution_count": 0,
   "metadata": {
    "colab": {
     "autoexec": {
      "startup": false,
      "wait_interval": 0
     },
     "base_uri": "https://localhost:8080/",
     "height": 35
    },
    "colab_type": "code",
    "executionInfo": {
     "elapsed": 1977,
     "status": "ok",
     "timestamp": 1528627683693,
     "user": {
      "displayName": "Tony Kuo",
      "photoUrl": "https://lh3.googleusercontent.com/a/default-user=s128",
      "userId": "115283668914988550359"
     },
     "user_tz": -480
    },
    "id": "pQ7DO_X6Twhb",
    "outputId": "271c7751-60d4-44d5-b2b9-f14212bf74a6"
   },
   "outputs": [
    {
     "data": {
      "text/plain": [
       "146"
      ]
     },
     "execution_count": 62,
     "metadata": {
      "tags": []
     },
     "output_type": "execute_result"
    }
   ],
   "source": [
    "len(answer_four())"
   ]
  },
  {
   "cell_type": "code",
   "execution_count": 0,
   "metadata": {
    "colab": {
     "autoexec": {
      "startup": false,
      "wait_interval": 0
     },
     "base_uri": "https://localhost:8080/",
     "height": 35
    },
    "colab_type": "code",
    "executionInfo": {
     "elapsed": 678,
     "status": "ok",
     "timestamp": 1528627751270,
     "user": {
      "displayName": "Tony Kuo",
      "photoUrl": "https://lh3.googleusercontent.com/a/default-user=s128",
      "userId": "115283668914988550359"
     },
     "user_tz": -480
    },
    "id": "z1BtZ-ZlTyRh",
    "outputId": "d10fd7bd-5aea-41d0-e3e6-59f24db801b5"
   },
   "outputs": [
    {
     "data": {
      "text/plain": [
       "(3193, 100)"
      ]
     },
     "execution_count": 63,
     "metadata": {
      "tags": []
     },
     "output_type": "execute_result"
    }
   ],
   "source": [
    "census_df = pd.read_csv('https://storage.googleapis.com/py_ml_datasets/census.csv')\n",
    "census_df.shape"
   ]
  },
  {
   "cell_type": "code",
   "execution_count": 0,
   "metadata": {
    "colab": {
     "autoexec": {
      "startup": false,
      "wait_interval": 0
     },
     "base_uri": "https://localhost:8080/",
     "height": 321
    },
    "colab_type": "code",
    "executionInfo": {
     "elapsed": 1322,
     "status": "ok",
     "timestamp": 1528627768105,
     "user": {
      "displayName": "Tony Kuo",
      "photoUrl": "https://lh3.googleusercontent.com/a/default-user=s128",
      "userId": "115283668914988550359"
     },
     "user_tz": -480
    },
    "id": "1f7wfZw2UGWv",
    "outputId": "ae4df14b-a1e3-4b18-bfa0-9ca10ec54628"
   },
   "outputs": [
    {
     "data": {
      "text/html": [
       "<div>\n",
       "<style scoped>\n",
       "    .dataframe tbody tr th:only-of-type {\n",
       "        vertical-align: middle;\n",
       "    }\n",
       "\n",
       "    .dataframe tbody tr th {\n",
       "        vertical-align: top;\n",
       "    }\n",
       "\n",
       "    .dataframe thead th {\n",
       "        text-align: right;\n",
       "    }\n",
       "</style>\n",
       "<table border=\"1\" class=\"dataframe\">\n",
       "  <thead>\n",
       "    <tr style=\"text-align: right;\">\n",
       "      <th></th>\n",
       "      <th>SUMLEV</th>\n",
       "      <th>REGION</th>\n",
       "      <th>DIVISION</th>\n",
       "      <th>STATE</th>\n",
       "      <th>COUNTY</th>\n",
       "      <th>STNAME</th>\n",
       "      <th>CTYNAME</th>\n",
       "      <th>CENSUS2010POP</th>\n",
       "      <th>ESTIMATESBASE2010</th>\n",
       "      <th>POPESTIMATE2010</th>\n",
       "      <th>...</th>\n",
       "      <th>RDOMESTICMIG2011</th>\n",
       "      <th>RDOMESTICMIG2012</th>\n",
       "      <th>RDOMESTICMIG2013</th>\n",
       "      <th>RDOMESTICMIG2014</th>\n",
       "      <th>RDOMESTICMIG2015</th>\n",
       "      <th>RNETMIG2011</th>\n",
       "      <th>RNETMIG2012</th>\n",
       "      <th>RNETMIG2013</th>\n",
       "      <th>RNETMIG2014</th>\n",
       "      <th>RNETMIG2015</th>\n",
       "    </tr>\n",
       "  </thead>\n",
       "  <tbody>\n",
       "    <tr>\n",
       "      <th>0</th>\n",
       "      <td>40</td>\n",
       "      <td>3</td>\n",
       "      <td>6</td>\n",
       "      <td>1</td>\n",
       "      <td>0</td>\n",
       "      <td>Alabama</td>\n",
       "      <td>Alabama</td>\n",
       "      <td>4779736</td>\n",
       "      <td>4780127</td>\n",
       "      <td>4785161</td>\n",
       "      <td>...</td>\n",
       "      <td>0.002295</td>\n",
       "      <td>-0.193196</td>\n",
       "      <td>0.381066</td>\n",
       "      <td>0.582002</td>\n",
       "      <td>-0.467369</td>\n",
       "      <td>1.030015</td>\n",
       "      <td>0.826644</td>\n",
       "      <td>1.383282</td>\n",
       "      <td>1.724718</td>\n",
       "      <td>0.712594</td>\n",
       "    </tr>\n",
       "    <tr>\n",
       "      <th>1</th>\n",
       "      <td>50</td>\n",
       "      <td>3</td>\n",
       "      <td>6</td>\n",
       "      <td>1</td>\n",
       "      <td>1</td>\n",
       "      <td>Alabama</td>\n",
       "      <td>Autauga County</td>\n",
       "      <td>54571</td>\n",
       "      <td>54571</td>\n",
       "      <td>54660</td>\n",
       "      <td>...</td>\n",
       "      <td>7.242091</td>\n",
       "      <td>-2.915927</td>\n",
       "      <td>-3.012349</td>\n",
       "      <td>2.265971</td>\n",
       "      <td>-2.530799</td>\n",
       "      <td>7.606016</td>\n",
       "      <td>-2.626146</td>\n",
       "      <td>-2.722002</td>\n",
       "      <td>2.592270</td>\n",
       "      <td>-2.187333</td>\n",
       "    </tr>\n",
       "    <tr>\n",
       "      <th>2</th>\n",
       "      <td>50</td>\n",
       "      <td>3</td>\n",
       "      <td>6</td>\n",
       "      <td>1</td>\n",
       "      <td>3</td>\n",
       "      <td>Alabama</td>\n",
       "      <td>Baldwin County</td>\n",
       "      <td>182265</td>\n",
       "      <td>182265</td>\n",
       "      <td>183193</td>\n",
       "      <td>...</td>\n",
       "      <td>14.832960</td>\n",
       "      <td>17.647293</td>\n",
       "      <td>21.845705</td>\n",
       "      <td>19.243287</td>\n",
       "      <td>17.197872</td>\n",
       "      <td>15.844176</td>\n",
       "      <td>18.559627</td>\n",
       "      <td>22.727626</td>\n",
       "      <td>20.317142</td>\n",
       "      <td>18.293499</td>\n",
       "    </tr>\n",
       "    <tr>\n",
       "      <th>3</th>\n",
       "      <td>50</td>\n",
       "      <td>3</td>\n",
       "      <td>6</td>\n",
       "      <td>1</td>\n",
       "      <td>5</td>\n",
       "      <td>Alabama</td>\n",
       "      <td>Barbour County</td>\n",
       "      <td>27457</td>\n",
       "      <td>27457</td>\n",
       "      <td>27341</td>\n",
       "      <td>...</td>\n",
       "      <td>-4.728132</td>\n",
       "      <td>-2.500690</td>\n",
       "      <td>-7.056824</td>\n",
       "      <td>-3.904217</td>\n",
       "      <td>-10.543299</td>\n",
       "      <td>-4.874741</td>\n",
       "      <td>-2.758113</td>\n",
       "      <td>-7.167664</td>\n",
       "      <td>-3.978583</td>\n",
       "      <td>-10.543299</td>\n",
       "    </tr>\n",
       "    <tr>\n",
       "      <th>4</th>\n",
       "      <td>50</td>\n",
       "      <td>3</td>\n",
       "      <td>6</td>\n",
       "      <td>1</td>\n",
       "      <td>7</td>\n",
       "      <td>Alabama</td>\n",
       "      <td>Bibb County</td>\n",
       "      <td>22915</td>\n",
       "      <td>22919</td>\n",
       "      <td>22861</td>\n",
       "      <td>...</td>\n",
       "      <td>-5.527043</td>\n",
       "      <td>-5.068871</td>\n",
       "      <td>-6.201001</td>\n",
       "      <td>-0.177537</td>\n",
       "      <td>0.177258</td>\n",
       "      <td>-5.088389</td>\n",
       "      <td>-4.363636</td>\n",
       "      <td>-5.403729</td>\n",
       "      <td>0.754533</td>\n",
       "      <td>1.107861</td>\n",
       "    </tr>\n",
       "  </tbody>\n",
       "</table>\n",
       "<p>5 rows × 100 columns</p>\n",
       "</div>"
      ],
      "text/plain": [
       "   SUMLEV  REGION  DIVISION  STATE  COUNTY   STNAME         CTYNAME  \\\n",
       "0      40       3         6      1       0  Alabama         Alabama   \n",
       "1      50       3         6      1       1  Alabama  Autauga County   \n",
       "2      50       3         6      1       3  Alabama  Baldwin County   \n",
       "3      50       3         6      1       5  Alabama  Barbour County   \n",
       "4      50       3         6      1       7  Alabama     Bibb County   \n",
       "\n",
       "   CENSUS2010POP  ESTIMATESBASE2010  POPESTIMATE2010     ...       \\\n",
       "0        4779736            4780127          4785161     ...        \n",
       "1          54571              54571            54660     ...        \n",
       "2         182265             182265           183193     ...        \n",
       "3          27457              27457            27341     ...        \n",
       "4          22915              22919            22861     ...        \n",
       "\n",
       "   RDOMESTICMIG2011  RDOMESTICMIG2012  RDOMESTICMIG2013  RDOMESTICMIG2014  \\\n",
       "0          0.002295         -0.193196          0.381066          0.582002   \n",
       "1          7.242091         -2.915927         -3.012349          2.265971   \n",
       "2         14.832960         17.647293         21.845705         19.243287   \n",
       "3         -4.728132         -2.500690         -7.056824         -3.904217   \n",
       "4         -5.527043         -5.068871         -6.201001         -0.177537   \n",
       "\n",
       "   RDOMESTICMIG2015  RNETMIG2011  RNETMIG2012  RNETMIG2013  RNETMIG2014  \\\n",
       "0         -0.467369     1.030015     0.826644     1.383282     1.724718   \n",
       "1         -2.530799     7.606016    -2.626146    -2.722002     2.592270   \n",
       "2         17.197872    15.844176    18.559627    22.727626    20.317142   \n",
       "3        -10.543299    -4.874741    -2.758113    -7.167664    -3.978583   \n",
       "4          0.177258    -5.088389    -4.363636    -5.403729     0.754533   \n",
       "\n",
       "   RNETMIG2015  \n",
       "0     0.712594  \n",
       "1    -2.187333  \n",
       "2    18.293499  \n",
       "3   -10.543299  \n",
       "4     1.107861  \n",
       "\n",
       "[5 rows x 100 columns]"
      ]
     },
     "execution_count": 64,
     "metadata": {
      "tags": []
     },
     "output_type": "execute_result"
    }
   ],
   "source": [
    "census_df.head()"
   ]
  },
  {
   "cell_type": "code",
   "execution_count": 0,
   "metadata": {
    "colab": {
     "autoexec": {
      "startup": false,
      "wait_interval": 0
     },
     "base_uri": "https://localhost:8080/",
     "height": 35
    },
    "colab_type": "code",
    "executionInfo": {
     "elapsed": 1019,
     "status": "ok",
     "timestamp": 1528629427148,
     "user": {
      "displayName": "Tony Kuo",
      "photoUrl": "https://lh3.googleusercontent.com/a/default-user=s128",
      "userId": "115283668914988550359"
     },
     "user_tz": -480
    },
    "id": "WloGrJRCUKUP",
    "outputId": "2f5230f1-9c7f-4fd3-bdd2-fcfcd8e361c9"
   },
   "outputs": [
    {
     "data": {
      "text/plain": [
       "'Texas'"
      ]
     },
     "execution_count": 70,
     "metadata": {
      "tags": []
     },
     "output_type": "execute_result"
    }
   ],
   "source": [
    "## answer_one()\n",
    "\n",
    "def answer_one():\n",
    "  sumlev_fifty = census_df[\"SUMLEV\"] == 50\n",
    "  df = census_df[sumlev_fifty]\n",
    "  grouped = df.groupby(\"STNAME\")\n",
    "  return grouped[\"CTYNAME\"].count().idxmax()\n",
    "\n",
    "answer_one()"
   ]
  },
  {
   "cell_type": "code",
   "execution_count": 0,
   "metadata": {
    "colab": {
     "autoexec": {
      "startup": false,
      "wait_interval": 0
     },
     "base_uri": "https://localhost:8080/",
     "height": 35
    },
    "colab_type": "code",
    "executionInfo": {
     "elapsed": 1224,
     "status": "ok",
     "timestamp": 1528632976423,
     "user": {
      "displayName": "Tony Kuo",
      "photoUrl": "https://lh3.googleusercontent.com/a/default-user=s128",
      "userId": "115283668914988550359"
     },
     "user_tz": -480
    },
    "id": "sB-_DI5jZVfK",
    "outputId": "30ec84dc-9355-413d-f951-6920183f99a6"
   },
   "outputs": [
    {
     "data": {
      "text/plain": [
       "['California', 'Texas', 'Illinois']"
      ]
     },
     "execution_count": 95,
     "metadata": {
      "tags": []
     },
     "output_type": "execute_result"
    }
   ],
   "source": [
    "## answer_two()\n",
    "\n",
    "def answer_two():\n",
    "  df = census_df[census_df[\"SUMLEV\"] == 50]\n",
    "  state_names = df[\"STNAME\"].unique()\n",
    "  state_top3_pop = []\n",
    "\n",
    "  for stname in state_names:\n",
    "    sorted_df = df[df[\"STNAME\"] == stname].sort_values(by=\"CENSUS2010POP\", ascending=False)\n",
    "    top3_pop = sorted_df[\"CENSUS2010POP\"][:3].sum()\n",
    "    state_top3_pop.append(top3_pop)\n",
    "  \n",
    "  ans = pd.Series(state_top3_pop, index=state_names)\n",
    "  ans = ans.sort_values(ascending=False)[:3]\n",
    "  return list(ans.index)\n",
    "\n",
    "answer_two()"
   ]
  },
  {
   "cell_type": "code",
   "execution_count": 0,
   "metadata": {
    "colab": {
     "autoexec": {
      "startup": false,
      "wait_interval": 0
     }
    },
    "colab_type": "code",
    "id": "QA8irho4g2qx"
   },
   "outputs": [],
   "source": []
  }
 ],
 "metadata": {
  "colab": {
   "collapsed_sections": [],
   "default_view": {},
   "name": "297_pyda (1).ipynb",
   "provenance": [],
   "toc_visible": true,
   "version": "0.3.2",
   "views": {}
  },
  "kernelspec": {
   "display_name": "Python 3",
   "language": "python",
   "name": "python3"
  },
  "language_info": {
   "codemirror_mode": {
    "name": "ipython",
    "version": 3
   },
   "file_extension": ".py",
   "mimetype": "text/x-python",
   "name": "python",
   "nbconvert_exporter": "python",
   "pygments_lexer": "ipython3",
   "version": "3.6.4"
  }
 },
 "nbformat": 4,
 "nbformat_minor": 1
}
