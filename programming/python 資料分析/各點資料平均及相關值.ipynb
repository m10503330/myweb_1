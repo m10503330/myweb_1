{
 "cells": [
  {
   "cell_type": "code",
   "execution_count": 5,
   "metadata": {
    "scrolled": true
   },
   "outputs": [
    {
     "data": {
      "text/html": [
       "<div>\n",
       "<style scoped>\n",
       "    .dataframe tbody tr th:only-of-type {\n",
       "        vertical-align: middle;\n",
       "    }\n",
       "\n",
       "    .dataframe tbody tr th {\n",
       "        vertical-align: top;\n",
       "    }\n",
       "\n",
       "    .dataframe thead th {\n",
       "        text-align: right;\n",
       "    }\n",
       "</style>\n",
       "<table border=\"1\" class=\"dataframe\">\n",
       "  <thead>\n",
       "    <tr style=\"text-align: right;\">\n",
       "      <th></th>\n",
       "      <th>U</th>\n",
       "      <th>V</th>\n",
       "      <th>absV</th>\n",
       "    </tr>\n",
       "  </thead>\n",
       "  <tbody>\n",
       "    <tr>\n",
       "      <th>count</th>\n",
       "      <td>2500.000000</td>\n",
       "      <td>2500.000000</td>\n",
       "      <td>2500.000000</td>\n",
       "    </tr>\n",
       "    <tr>\n",
       "      <th>mean</th>\n",
       "      <td>0.005721</td>\n",
       "      <td>-0.198904</td>\n",
       "      <td>1.521121</td>\n",
       "    </tr>\n",
       "    <tr>\n",
       "      <th>std</th>\n",
       "      <td>1.420902</td>\n",
       "      <td>1.752008</td>\n",
       "      <td>1.756910</td>\n",
       "    </tr>\n",
       "    <tr>\n",
       "      <th>min</th>\n",
       "      <td>-11.341600</td>\n",
       "      <td>-10.815700</td>\n",
       "      <td>0.000000</td>\n",
       "    </tr>\n",
       "    <tr>\n",
       "      <th>25%</th>\n",
       "      <td>-0.430199</td>\n",
       "      <td>-0.717049</td>\n",
       "      <td>0.504017</td>\n",
       "    </tr>\n",
       "    <tr>\n",
       "      <th>50%</th>\n",
       "      <td>0.000160</td>\n",
       "      <td>-0.191140</td>\n",
       "      <td>0.909906</td>\n",
       "    </tr>\n",
       "    <tr>\n",
       "      <th>75%</th>\n",
       "      <td>0.600990</td>\n",
       "      <td>0.165770</td>\n",
       "      <td>1.794835</td>\n",
       "    </tr>\n",
       "    <tr>\n",
       "      <th>max</th>\n",
       "      <td>8.366340</td>\n",
       "      <td>10.304500</td>\n",
       "      <td>12.672600</td>\n",
       "    </tr>\n",
       "  </tbody>\n",
       "</table>\n",
       "</div>"
      ],
      "text/plain": [
       "                 U            V         absV\n",
       "count  2500.000000  2500.000000  2500.000000\n",
       "mean      0.005721    -0.198904     1.521121\n",
       "std       1.420902     1.752008     1.756910\n",
       "min     -11.341600   -10.815700     0.000000\n",
       "25%      -0.430199    -0.717049     0.504017\n",
       "50%       0.000160    -0.191140     0.909906\n",
       "75%       0.600990     0.165770     1.794835\n",
       "max       8.366340    10.304500    12.672600"
      ]
     },
     "execution_count": 5,
     "metadata": {},
     "output_type": "execute_result"
    }
   ],
   "source": [
    "import numpy as np\n",
    "import pandas as pd\n",
    "import matplotlib.pyplot as plt\n",
    "df=pd.read_csv('oil.csv')\n",
    "df=df.drop(0).dropna(axis=1)\n",
    "df[\"Y\"]=df[\"Y\"].astype(float)\n",
    "df[\"Y\"]=(df[\"Y\"]*100).astype(int).astype(float)/100\n",
    "df[\"X\"]=df[\"X\"].astype(float)\n",
    "df[\"X\"]=(df[\"X\"]*100).astype(int).astype(float)/100\n",
    "df.describe().drop(['X',\"Y\"],axis=1)\n"
   ]
  },
  {
   "cell_type": "code",
   "execution_count": null,
   "metadata": {},
   "outputs": [],
   "source": []
  }
 ],
 "metadata": {
  "kernelspec": {
   "display_name": "Python 3",
   "language": "python",
   "name": "python3"
  },
  "language_info": {
   "codemirror_mode": {
    "name": "ipython",
    "version": 3
   },
   "file_extension": ".py",
   "mimetype": "text/x-python",
   "name": "python",
   "nbconvert_exporter": "python",
   "pygments_lexer": "ipython3",
   "version": "3.6.5"
  }
 },
 "nbformat": 4,
 "nbformat_minor": 2
}
