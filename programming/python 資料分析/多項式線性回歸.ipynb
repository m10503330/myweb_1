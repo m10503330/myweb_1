{
 "cells": [
  {
   "cell_type": "code",
   "execution_count": 31,
   "metadata": {
    "colab": {
     "autoexec": {
      "startup": false,
      "wait_interval": 0
     },
     "base_uri": "https://localhost:8080/",
     "height": 887
    },
    "colab_type": "code",
    "executionInfo": {
     "elapsed": 839,
     "status": "error",
     "timestamp": 1529678489450,
     "user": {
      "displayName": "盧信甫",
      "photoUrl": "https://lh3.googleusercontent.com/a/default-user=s128",
      "userId": "106844598615366864650"
     },
     "user_tz": -480
    },
    "id": "FOdsthsb7Iri",
    "outputId": "ca424375-09e0-4af8-8ee0-114b6065d931",
    "scrolled": true
   },
   "outputs": [
    {
     "name": "stdout",
     "output_type": "stream",
     "text": [
      "solid_at_Y=0.06_max_velocity:  1.351949999999999 mm/s\n",
      "air_at_Y=0.08_max_velocity:  20.2890625 mm/s\n",
      "oil_at_Y=0.08_max_velocity:  12.57421875 mm/s\n"
     ]
    },
    {
     "data": {
      "text/plain": [
       "<matplotlib.legend.Legend at 0x46cf470>"
      ]
     },
     "execution_count": 31,
     "metadata": {},
     "output_type": "execute_result"
    },
    {
     "data": {
      "image/png": "[encoded data removed]",
      "text/plain": [
       "<Figure size 432x288 with 1 Axes>"
      ]
     },
     "metadata": {},
     "output_type": "display_data"
    }
   ],
   "source": [
    "import numpy as np\n",
    "import pandas as pd\n",
    "import matplotlib.pyplot as plt\n",
    "from sklearn.linear_model import LinearRegression\n",
    "from sklearn.preprocessing import PolynomialFeatures\n",
    "from sklearn.pipeline import make_pipeline\n",
    "\n",
    "import scipy.interpolate as si\n",
    "from sklearn.base import TransformerMixin\n",
    "from sklearn.linear_model import TheilSenRegressor, HuberRegressor\n",
    "from sklearn.metrics import mean_squared_error\n",
    "\n",
    "class BSplineFeatures(TransformerMixin):\n",
    "    def __init__(self, knots, degree=3, periodic=False):\n",
    "        self.bsplines = get_bspline_basis(knots, degree, periodic=periodic)\n",
    "        self.nsplines = len(self.bsplines)\n",
    "\n",
    "    def fit(self, X, y=None):\n",
    "        return self\n",
    "\n",
    "    def transform(self, X):\n",
    "        nsamples, nfeatures = X.shape\n",
    "        features = np.zeros((nsamples, nfeatures * self.nsplines))\n",
    "        for ispline, spline in enumerate(self.bsplines):\n",
    "            istart = ispline * nfeatures\n",
    "            iend = (ispline + 1) * nfeatures\n",
    "            features[:, istart:iend] = si.splev(X, spline)\n",
    "        return features\n",
    "\n",
    "def get_bspline_basis(knots, degree=3, periodic=False):\n",
    "    \"\"\"Get spline coefficients for each basis spline.\"\"\"\n",
    "    nknots = len(knots)\n",
    "    y_dummy = np.zeros(nknots)\n",
    "\n",
    "    knots, coeffs, degree = si.splrep(knots, y_dummy, k=degree,\n",
    "                                      per=periodic)\n",
    "    ncoeffs = len(coeffs)\n",
    "    bsplines = []\n",
    "    for ispline in range(nknots):\n",
    "        coeffs = [1.0 if ispl == ispline else 0.0 for ispl in range(ncoeffs)]\n",
    "        bsplines.append((knots, coeffs, degree))\n",
    "    return bsplines\n",
    "\n",
    "\n",
    "\n",
    "\n",
    "plt.style.use('ggplot')\n",
    "def reg(data,mian_axis,value,count,fitnum,lintype):\n",
    "    if mian_axis==\"X\":\n",
    "        sub_axis=\"Y\"\n",
    "    else:\n",
    "        sub_axis=\"X\"\n",
    "    knots = np.linspace(-2, 2, 50)\n",
    "    bspline_features = BSplineFeatures(knots, degree=3, periodic=False)\n",
    "    poly_model = make_pipeline(bspline_features, LinearRegression())\n",
    "    df=pd.read_csv(data)\n",
    "    df=df.drop(0)\n",
    "    df=df.dropna(axis=1)\n",
    "    df[\"Y\"]=df[\"Y\"].astype(float)\n",
    "    df[\"Y\"]=(df[\"Y\"]*100).astype(int).astype(float)/100\n",
    "    df[\"X\"]=df[\"X\"].astype(float)\n",
    "    df[\"X\"]=(df[\"X\"]*100).astype(int).astype(float)/100\n",
    "    df=df.set_index(mian_axis,drop=1)\n",
    "    loc_index=df.index.unique()\n",
    "    max_data=df[df.index==loc_index[count]]\n",
    "    xlist=max_data[sub_axis].values\n",
    "    ylist=max_data[value].values\n",
    "    poly_model.fit(xlist[:,np.newaxis],ylist)\n",
    "    bspline_features = BSplineFeatures(xlist[:,np.newaxis], degree=3, periodic=False)\n",
    "    yfit=poly_model.predict(xlist[:,np.newaxis])\n",
    "    data_type=data.split('.')\n",
    "    plt.plot(xlist,ylist,'.',color=lintype)\n",
    "    plt.plot(xlist,yfit,lintype,label=data_type[0]+\"_at_\"+mian_axis+\"=\"+str(loc_index[count]))\n",
    "    print(data_type[0]+\"_at_\"+mian_axis+\"=\"+str(loc_index[count])+'_max_velocity: ',abs(yfit).max(),\"mm/s\")\n",
    "    #return yfit,ylist,xlist;\n",
    "    \n",
    "\n",
    "fig,ax=plt.subplots()\n",
    "axis=\"Y\"\n",
    "if axis==\"Y\":\n",
    "    axis2=\"X\"\n",
    "else:\n",
    "    axis2=\"Y\"\n",
    "\n",
    "value=\"absV\"    \n",
    "reg(\"solid.csv\",axis,value,1,10,'r')\n",
    "reg(\"air.csv\",axis,value,2,10,'g')\n",
    "reg(\"oil.csv\",axis,value,2,10,'b')\n",
    "ax.set_xlabel(axis2+'/D')\n",
    "ax.set_ylabel(value+'(mm/s)')\n",
    "ax.legend()\n",
    "\n",
    "\n",
    "\n"
   ]
  },
  {
   "cell_type": "code",
   "execution_count": 0,
   "metadata": {
    "colab": {
     "autoexec": {
      "startup": false,
      "wait_interval": 0
     }
    },
    "colab_type": "code",
    "id": "h8iYjB7r7VAk"
   },
   "outputs": [],
   "source": []
  }
 ],
 "metadata": {
  "colab": {
   "default_view": {},
   "name": "air.ipynb",
   "provenance": [],
   "version": "0.3.2",
   "views": {}
  },
  "kernelspec": {
   "display_name": "Python 3",
   "language": "python",
   "name": "python3"
  },
  "language_info": {
   "codemirror_mode": {
    "name": "ipython",
    "version": 3
   },
   "file_extension": ".py",
   "mimetype": "text/x-python",
   "name": "python",
   "nbconvert_exporter": "python",
   "pygments_lexer": "ipython3",
   "version": "3.6.5"
  }
 },
 "nbformat": 4,
 "nbformat_minor": 1
}
