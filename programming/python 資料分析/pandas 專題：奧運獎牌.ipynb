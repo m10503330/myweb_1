{
 "cells": [
  {
   "cell_type": "code",
   "execution_count": 1,
   "metadata": {
    "colab": {
     "autoexec": {
      "startup": false,
      "wait_interval": 0
     },
     "base_uri": "https://localhost:8080/",
     "height": 204
    },
    "colab_type": "code",
    "executionInfo": {
     "elapsed": 1282,
     "status": "ok",
     "timestamp": 1528967112144,
     "user": {
      "displayName": "盧信甫",
      "photoUrl": "https://lh3.googleusercontent.com/a/default-user=s128",
      "userId": "106844598615366864650"
     },
     "user_tz": -480
    },
    "id": "NhidfKyNF_7t",
    "outputId": "d027091c-e2f0-4b15-f9a3-e5f775dfd913",
    "scrolled": true
   },
   "outputs": [
    {
     "data": {
      "text/html": [
       "<div>\n",
       "<style scoped>\n",
       "    .dataframe tbody tr th:only-of-type {\n",
       "        vertical-align: middle;\n",
       "    }\n",
       "\n",
       "    .dataframe tbody tr th {\n",
       "        vertical-align: top;\n",
       "    }\n",
       "\n",
       "    .dataframe thead th {\n",
       "        text-align: right;\n",
       "    }\n",
       "</style>\n",
       "<table border=\"1\" class=\"dataframe\">\n",
       "  <thead>\n",
       "    <tr style=\"text-align: right;\">\n",
       "      <th></th>\n",
       "      <th># Summer</th>\n",
       "      <th>Gold</th>\n",
       "      <th>Silver</th>\n",
       "      <th>Bronze</th>\n",
       "      <th>Total</th>\n",
       "      <th># Winter</th>\n",
       "      <th>Gold.1</th>\n",
       "      <th>Silver.1</th>\n",
       "      <th>Bronze.1</th>\n",
       "      <th>Total.1</th>\n",
       "      <th># Games</th>\n",
       "      <th>Gold.2</th>\n",
       "      <th>Silver.2</th>\n",
       "      <th>Bronze.2</th>\n",
       "      <th>Combined total</th>\n",
       "      <th>ID</th>\n",
       "    </tr>\n",
       "  </thead>\n",
       "  <tbody>\n",
       "    <tr>\n",
       "      <th>Afghanistan</th>\n",
       "      <td>13</td>\n",
       "      <td>0</td>\n",
       "      <td>0</td>\n",
       "      <td>2</td>\n",
       "      <td>2</td>\n",
       "      <td>0</td>\n",
       "      <td>0</td>\n",
       "      <td>0</td>\n",
       "      <td>0</td>\n",
       "      <td>0</td>\n",
       "      <td>13</td>\n",
       "      <td>0</td>\n",
       "      <td>0</td>\n",
       "      <td>2</td>\n",
       "      <td>2</td>\n",
       "      <td>AFG</td>\n",
       "    </tr>\n",
       "    <tr>\n",
       "      <th>Algeria</th>\n",
       "      <td>12</td>\n",
       "      <td>5</td>\n",
       "      <td>2</td>\n",
       "      <td>8</td>\n",
       "      <td>15</td>\n",
       "      <td>3</td>\n",
       "      <td>0</td>\n",
       "      <td>0</td>\n",
       "      <td>0</td>\n",
       "      <td>0</td>\n",
       "      <td>15</td>\n",
       "      <td>5</td>\n",
       "      <td>2</td>\n",
       "      <td>8</td>\n",
       "      <td>15</td>\n",
       "      <td>ALG</td>\n",
       "    </tr>\n",
       "    <tr>\n",
       "      <th>Argentina</th>\n",
       "      <td>23</td>\n",
       "      <td>18</td>\n",
       "      <td>24</td>\n",
       "      <td>28</td>\n",
       "      <td>70</td>\n",
       "      <td>18</td>\n",
       "      <td>0</td>\n",
       "      <td>0</td>\n",
       "      <td>0</td>\n",
       "      <td>0</td>\n",
       "      <td>41</td>\n",
       "      <td>18</td>\n",
       "      <td>24</td>\n",
       "      <td>28</td>\n",
       "      <td>70</td>\n",
       "      <td>ARG</td>\n",
       "    </tr>\n",
       "    <tr>\n",
       "      <th>Armenia</th>\n",
       "      <td>5</td>\n",
       "      <td>1</td>\n",
       "      <td>2</td>\n",
       "      <td>9</td>\n",
       "      <td>12</td>\n",
       "      <td>6</td>\n",
       "      <td>0</td>\n",
       "      <td>0</td>\n",
       "      <td>0</td>\n",
       "      <td>0</td>\n",
       "      <td>11</td>\n",
       "      <td>1</td>\n",
       "      <td>2</td>\n",
       "      <td>9</td>\n",
       "      <td>12</td>\n",
       "      <td>ARM</td>\n",
       "    </tr>\n",
       "    <tr>\n",
       "      <th>Australasia</th>\n",
       "      <td>2</td>\n",
       "      <td>3</td>\n",
       "      <td>4</td>\n",
       "      <td>5</td>\n",
       "      <td>12</td>\n",
       "      <td>0</td>\n",
       "      <td>0</td>\n",
       "      <td>0</td>\n",
       "      <td>0</td>\n",
       "      <td>0</td>\n",
       "      <td>2</td>\n",
       "      <td>3</td>\n",
       "      <td>4</td>\n",
       "      <td>5</td>\n",
       "      <td>12</td>\n",
       "      <td>ANZ</td>\n",
       "    </tr>\n",
       "  </tbody>\n",
       "</table>\n",
       "</div>"
      ],
      "text/plain": [
       "             # Summer  Gold  Silver  Bronze  Total  # Winter  Gold.1  \\\n",
       "Afghanistan        13     0       0       2      2         0       0   \n",
       "Algeria            12     5       2       8     15         3       0   \n",
       "Argentina          23    18      24      28     70        18       0   \n",
       "Armenia             5     1       2       9     12         6       0   \n",
       "Australasia         2     3       4       5     12         0       0   \n",
       "\n",
       "             Silver.1  Bronze.1  Total.1  # Games  Gold.2  Silver.2  Bronze.2  \\\n",
       "Afghanistan         0         0        0       13       0         0         2   \n",
       "Algeria             0         0        0       15       5         2         8   \n",
       "Argentina           0         0        0       41      18        24        28   \n",
       "Armenia             0         0        0       11       1         2         9   \n",
       "Australasia         0         0        0        2       3         4         5   \n",
       "\n",
       "             Combined total   ID  \n",
       "Afghanistan               2  AFG  \n",
       "Algeria                  15  ALG  \n",
       "Argentina                70  ARG  \n",
       "Armenia                  12  ARM  \n",
       "Australasia              12  ANZ  "
      ]
     },
     "execution_count": 1,
     "metadata": {},
     "output_type": "execute_result"
    }
   ],
   "source": [
    "import pandas as pd\n",
    "\n",
    "df = pd.read_csv('https://storage.googleapis.com/py_ml_datasets/olympics.csv', index_col=0, skiprows=1)\n",
    "\n",
    "for col in df.columns:\n",
    "    if col[:2]=='01':\n",
    "        df.rename(columns={col:'Gold'+col[4:]}, inplace=True)\n",
    "    if col[:2]=='02':\n",
    "        df.rename(columns={col:'Silver'+col[4:]}, inplace=True)\n",
    "    if col[:2]=='03':\n",
    "        df.rename(columns={col:'Bronze'+col[4:]}, inplace=True)\n",
    "    if col[:1]=='№':\n",
    "        df.rename(columns={col:'#'+col[1:]}, inplace=True)\n",
    "\n",
    "names_ids = df.index.str.split('\\s\\(') # split the index by '('\n",
    "\n",
    "df.index = names_ids.str[0] # the [0] element is the country name (new index) \n",
    "df['ID'] = names_ids.str[1].str[:3] # the [1] element is the abbreviation or ID (take first 3 characters from that)\n",
    "\n",
    "df = df.drop('Totals')\n",
    "df.head()"
   ]
  },
  {
   "cell_type": "markdown",
   "metadata": {
    "colab_type": "text",
    "id": "RvuiBnOoG5Dj"
   },
   "source": [
    "# 問題一#\n",
    "哪個國家贏得的夏季奧運金牌數最多？\n",
    "\n",
    "def answer_one():\n",
    "    ```\n",
    "    這個函數應該回傳一個文字，國家名\n",
    "    ```\n",
    "    \n",
    "    return \"答案\""
   ]
  },
  {
   "cell_type": "code",
   "execution_count": 0,
   "metadata": {
    "colab": {
     "autoexec": {
      "startup": false,
      "wait_interval": 0
     },
     "base_uri": "https://localhost:8080/",
     "height": 34
    },
    "colab_type": "code",
    "executionInfo": {
     "elapsed": 773,
     "status": "ok",
     "timestamp": 1528624755056,
     "user": {
      "displayName": "盧信甫",
      "photoUrl": "https://lh3.googleusercontent.com/a/default-user=s128",
      "userId": "106844598615366864650"
     },
     "user_tz": -480
    },
    "id": "UAdLYwuOH65j",
    "outputId": "1d5fa682-cfbf-4d12-c4dc-f66bc5f28f52"
   },
   "outputs": [
    {
     "data": {
      "text/plain": [
       "'United States'"
      ]
     },
     "execution_count": 15,
     "metadata": {
      "tags": []
     },
     "output_type": "execute_result"
    }
   ],
   "source": []
  },
  {
   "cell_type": "code",
   "execution_count": 0,
   "metadata": {
    "colab": {
     "autoexec": {
      "startup": false,
      "wait_interval": 0
     }
    },
    "colab_type": "code",
    "id": "h_xWdkO6GIFB"
   },
   "outputs": [],
   "source": [
    "def answer_one():\n",
    "  \n",
    "  return df[\"Gold\"].idxmax()"
   ]
  },
  {
   "cell_type": "code",
   "execution_count": 0,
   "metadata": {
    "colab": {
     "autoexec": {
      "startup": false,
      "wait_interval": 0
     },
     "base_uri": "https://localhost:8080/",
     "height": 34
    },
    "colab_type": "code",
    "executionInfo": {
     "elapsed": 704,
     "status": "ok",
     "timestamp": 1528624843125,
     "user": {
      "displayName": "盧信甫",
      "photoUrl": "https://lh3.googleusercontent.com/a/default-user=s128",
      "userId": "106844598615366864650"
     },
     "user_tz": -480
    },
    "id": "q4_eso-ZIvg6",
    "outputId": "125f8651-1dfa-4cca-fe5b-bf46e8a24630"
   },
   "outputs": [
    {
     "name": "stdout",
     "output_type": "stream",
     "text": [
      "United States\n"
     ]
    }
   ],
   "source": [
    "print(answer_one())"
   ]
  },
  {
   "cell_type": "code",
   "execution_count": 0,
   "metadata": {
    "colab": {
     "autoexec": {
      "startup": false,
      "wait_interval": 0
     }
    },
    "colab_type": "code",
    "id": "flkJ9wCPI2pM"
   },
   "outputs": [],
   "source": []
  },
  {
   "cell_type": "markdown",
   "metadata": {
    "colab_type": "text",
    "id": "WZgCiEtcJQXh"
   },
   "source": [
    "###問題二\n",
    "哪個國家夏季奧運與冬季奧運的金牌數差距最大？\n",
    "\n",
    "def answer_two():\n",
    "  ```  \n",
    "    這個函數應該回傳一個文字，國家名\n",
    " ```    \n",
    "    return \"答案\""
   ]
  },
  {
   "cell_type": "code",
   "execution_count": 0,
   "metadata": {
    "colab": {
     "autoexec": {
      "startup": false,
      "wait_interval": 0
     },
     "base_uri": "https://localhost:8080/",
     "height": 34
    },
    "colab_type": "code",
    "executionInfo": {
     "elapsed": 828,
     "status": "ok",
     "timestamp": 1528625965421,
     "user": {
      "displayName": "盧信甫",
      "photoUrl": "https://lh3.googleusercontent.com/a/default-user=s128",
      "userId": "106844598615366864650"
     },
     "user_tz": -480
    },
    "id": "ZOnJLZZgJVad",
    "outputId": "c45bf854-d34f-4e1b-d178-4691c4ba923b"
   },
   "outputs": [
    {
     "name": "stdout",
     "output_type": "stream",
     "text": [
      "United States\n"
     ]
    }
   ],
   "source": [
    "def answer_two():\n",
    "  \n",
    "  return (df[\"Gold\"]-df[\"Gold.1\"]).abs().idxmax()\n",
    "print(answer_two())"
   ]
  },
  {
   "cell_type": "markdown",
   "metadata": {
    "colab_type": "text",
    "id": "y8gwCMilLnEY"
   },
   "source": [
    "###問題三\n",
    "哪個國家夏季奧運與冬季奧運的金牌數差距除以總金牌數的比例最大？（僅考慮至少有一個夏季金牌與一個冬季金牌的國家）\n",
    "```\n",
    "Summer Gold−Winter GoldTotal Gold\n",
    "def answer_three():\n",
    "```\n",
    "    這個函數應該回傳一個文字，國家名\n",
    " ```\n",
    "    return \"答案\""
   ]
  },
  {
   "cell_type": "code",
   "execution_count": 0,
   "metadata": {
    "colab": {
     "autoexec": {
      "startup": false,
      "wait_interval": 0
     },
     "base_uri": "https://localhost:8080/",
     "height": 34
    },
    "colab_type": "code",
    "executionInfo": {
     "elapsed": 622,
     "status": "ok",
     "timestamp": 1528626930108,
     "user": {
      "displayName": "盧信甫",
      "photoUrl": "https://lh3.googleusercontent.com/a/default-user=s128",
      "userId": "106844598615366864650"
     },
     "user_tz": -480
    },
    "id": "9wVIpekrJaTb",
    "outputId": "d386bfa1-d319-42bb-89c3-2067d5deca07"
   },
   "outputs": [
    {
     "name": "stdout",
     "output_type": "stream",
     "text": [
      "Bulgaria\n"
     ]
    }
   ],
   "source": [
    "def answer_three():\n",
    "  newdf=df[(df[\"Gold\"]!=0) & (df[\"Gold.1\"]!=0)]\n",
    "  return ((newdf[\"Gold\"]-newdf[\"Gold.1\"]).abs()/(newdf[\"Gold\"]+newdf[\"Gold.1\"])).idxmax()\n",
    "print(answer_three())     \n"
   ]
  },
  {
   "cell_type": "markdown",
   "metadata": {
    "colab_type": "text",
    "id": "dWVarYHePSA_"
   },
   "source": [
    "####問題四\n",
    "計算 146 個國家的獎牌點數，其中金牌 3 點、銀牌 2 點、銅牌 1 點。\n",
    "\n",
    "def answer_four():\n",
    "```   \n",
    "    這個函數應該回傳一個 Series，長度為 146\n",
    "```    \n",
    "    return \"答案\""
   ]
  },
  {
   "cell_type": "code",
   "execution_count": 0,
   "metadata": {
    "colab": {
     "autoexec": {
      "startup": false,
      "wait_interval": 0
     },
     "base_uri": "https://localhost:8080/",
     "height": 1105
    },
    "colab_type": "code",
    "executionInfo": {
     "elapsed": 638,
     "status": "ok",
     "timestamp": 1528626974139,
     "user": {
      "displayName": "盧信甫",
      "photoUrl": "https://lh3.googleusercontent.com/a/default-user=s128",
      "userId": "106844598615366864650"
     },
     "user_tz": -480
    },
    "id": "__-4wsnlPa1N",
    "outputId": "dc824846-489c-47c3-b184-1094a0a7dd1d"
   },
   "outputs": [
    {
     "name": "stdout",
     "output_type": "stream",
     "text": [
      "Afghanistan                             4\n",
      "Algeria                                54\n",
      "Argentina                             260\n",
      "Armenia                                32\n",
      "Australasia                            44\n",
      "Australia                            1846\n",
      "Austria                              1138\n",
      "Azerbaijan                             86\n",
      "Bahamas                                48\n",
      "Bahrain                                 2\n",
      "Barbados                                2\n",
      "Belarus                               308\n",
      "Belgium                               552\n",
      "Bermuda                                 2\n",
      "Bohemia                                10\n",
      "Botswana                                4\n",
      "Brazil                                368\n",
      "British West Indies                     4\n",
      "Bulgaria                              822\n",
      "Burundi                                 6\n",
      "Cameroon                               24\n",
      "Canada                               1692\n",
      "Chile                                  48\n",
      "China                                2240\n",
      "Colombia                               58\n",
      "Costa Rica                             14\n",
      "Ivory Coast                             4\n",
      "Croatia                               134\n",
      "Cuba                                  840\n",
      "Cyprus                                  4\n",
      "                                    ...  \n",
      "Spain                                 536\n",
      "Sri Lanka                               8\n",
      "Sudan                                   4\n",
      "Suriname                                8\n",
      "Sweden                               2434\n",
      "Switzerland                          1260\n",
      "Syria                                  12\n",
      "Chinese Taipei                         64\n",
      "Tajikistan                              8\n",
      "Tanzania                                8\n",
      "Thailand                               88\n",
      "Togo                                    2\n",
      "Tonga                                   4\n",
      "Trinidad and Tobago                    54\n",
      "Tunisia                                38\n",
      "Turkey                                382\n",
      "Uganda                                 28\n",
      "Ukraine                               440\n",
      "United Arab Emirates                    6\n",
      "United States                       11368\n",
      "Uruguay                                32\n",
      "Uzbekistan                             76\n",
      "Venezuela                              36\n",
      "Vietnam                                 8\n",
      "Virgin Islands                          4\n",
      "Yugoslavia                            342\n",
      "Independent Olympic Participants        8\n",
      "Zambia                                  6\n",
      "Zimbabwe                               36\n",
      "Mixed team                             76\n",
      "Length: 146, dtype: int64\n",
      "<class 'pandas.core.series.Series'>\n",
      "146\n"
     ]
    }
   ],
   "source": [
    "def answer_four():\n",
    "  return (df[\"Gold\"]+df[\"Gold.1\"]+df[\"Gold.2\"])*3+(df[\"Silver\"]+df[\"Silver.1\"]+df[\"Silver.2\"])*2+(df[\"Bronze\"]+df[\"Bronze.1\"]+df[\"Bronze.2\"])\n",
    "print(answer_four())\n",
    "print(type(answer_four()))\n",
    "print(answer_four().size)"
   ]
  },
  {
   "cell_type": "code",
   "execution_count": 0,
   "metadata": {
    "colab": {
     "autoexec": {
      "startup": false,
      "wait_interval": 0
     }
    },
    "colab_type": "code",
    "id": "6uBfB93gQA8h"
   },
   "outputs": [],
   "source": []
  }
 ],
 "metadata": {
  "colab": {
   "default_view": {},
   "name": "pandas 專題：奧運獎牌.ipynb",
   "provenance": [],
   "toc_visible": true,
   "version": "0.3.2",
   "views": {}
  },
  "kernelspec": {
   "display_name": "Python 3",
   "language": "python",
   "name": "python3"
  },
  "language_info": {
   "codemirror_mode": {
    "name": "ipython",
    "version": 3
   },
   "file_extension": ".py",
   "mimetype": "text/x-python",
   "name": "python",
   "nbconvert_exporter": "python",
   "pygments_lexer": "ipython3",
   "version": "3.6.4"
  }
 },
 "nbformat": 4,
 "nbformat_minor": 1
}
